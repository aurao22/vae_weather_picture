{
 "cells": [
  {
   "cell_type": "markdown",
   "id": "62ba0bbb",
   "metadata": {
    "colab_type": "text",
    "id": "H_Gm-cSqpXa1"
   },
   "source": [
    "<div style=\"display: flex; background-color: RGB(255,114,0); padding: 30px;\" >\n",
    "\n",
    "# Weather\n",
    "</div>\n",
    "by : Ellande, Vincent et Aurélie"
   ]
  },
  {
   "cell_type": "markdown",
   "id": "9e1d5373",
   "metadata": {},
   "source": [
    "<div style=\"display: flex; background-color: Blue; padding: 15px;\" >\n",
    "\n",
    "## 0.Mission \n",
    "</div>"
   ]
  },
  {
   "cell_type": "markdown",
   "id": "4a1ad893",
   "metadata": {
    "id": "WOyAbs11eTkG"
   },
   "source": [
    "Une appli internationale de météo vous engage pour vérifier s'il est possible de détecter et classer de manière **non supervisée** la catégorie météo d'un jeu d'images (sachant que la détectation de manière supervisée avec CNN peuve fournir de très bons résultats). Voici les 4 catégories :\n",
    "- rain 🌧, \n",
    "- cloudy ☁️, \n",
    "- sunshine ☀️, \n",
    "- sunrise 🌅.\n",
    "\n",
    "Vous décidez de réaliser un pré-traitement d'images de type SIFT / ORB / SURF de génération de descripteurs et de \"bag of visual words\" afin de créer un histogramme par image. Vous réaliserez une réduction de dimension de type T-SNE et afficherez un graphique T-SNE des images selon leur catégories.\n",
    "\n",
    "Vous vérifierez ainsi la faisabilité de séparer les images météo selon le type de météo. Avant de tester avec toutes les images à la disposition de l’appli, vous décidez de tester la faisabilité sur un dataset de 400 images déjà catégorisées. Vous en avez 100 par catégorie."
   ]
  },
  {
   "cell_type": "markdown",
   "id": "499cd9b7",
   "metadata": {},
   "source": [
    "<div style=\"display: flex; background-color: Blue; padding: 15px;\" >\n",
    "\n",
    "## 1.Chargement des données\n",
    "</div>"
   ]
  },
  {
   "cell_type": "code",
   "execution_count": 1,
   "id": "5bcfa623",
   "metadata": {},
   "outputs": [],
   "source": [
    "from os import getcwd\n",
    "import pandas as pd\n",
    "import numpy as np \n",
    "import matplotlib.pyplot as plt\n",
    "from collections import defaultdict\n",
    "import re\n",
    "from vae_weather import *"
   ]
  },
  {
   "cell_type": "code",
   "execution_count": 2,
   "id": "5ab07728",
   "metadata": {},
   "outputs": [
    {
     "data": {
      "text/plain": [
       "'c:\\\\Users\\\\User\\\\WORK\\\\workspace-ia\\\\PROJETS\\\\vae_weather_picture\\\\'"
      ]
     },
     "execution_count": 2,
     "metadata": {},
     "output_type": "execute_result"
    }
   ],
   "source": [
    "# ---------------------------------------------------------------------------------------------\n",
    "#                               MAIN\n",
    "# ---------------------------------------------------------------------------------------------\n",
    "verbose = False\n",
    "force_reloading = True\n",
    "\n",
    "# Récupère le répertoire du programme\n",
    "file_path = getcwd() + \"\\\\\"\n",
    "file_path"
   ]
  },
  {
   "cell_type": "code",
   "execution_count": 3,
   "id": "e54ae3c0",
   "metadata": {},
   "outputs": [
    {
     "name": "stdout",
     "output_type": "stream",
     "text": [
      "Source path : c:\\Users\\User\\WORK\\workspace-ia\\PROJETS\\vae_weather_picture\\dataset\\\n"
     ]
    }
   ],
   "source": [
    "source_data_path = file_path+\"dataset\\\\\"\n",
    "print(\"Source path :\", source_data_path)"
   ]
  },
  {
   "cell_type": "markdown",
   "id": "316c8541",
   "metadata": {},
   "source": [
    "<div style=\"display: flex; background-color: Green; padding: 7px;\" >\n",
    "\n",
    "### Liste des images à récupérer\n",
    "</div>"
   ]
  },
  {
   "cell_type": "code",
   "execution_count": 4,
   "id": "c0e4a961",
   "metadata": {},
   "outputs": [
    {
     "name": "stdout",
     "output_type": "stream",
     "text": [
      "400 images\n"
     ]
    }
   ],
   "source": [
    "# récupération données\n",
    "img_extensions = [\".jpg\", \".jpeg\", \".png\"]\n",
    "images = []\n",
    "\n",
    "for ext in img_extensions:\n",
    "    images.extend(get_dir_files(source_data_path, endwith=ext))\n",
    "\n",
    "print(len(images), \"images\")"
   ]
  },
  {
   "cell_type": "markdown",
   "id": "e9e91349",
   "metadata": {},
   "source": [
    "<div style=\"display: flex; background-color: Blue; padding: 15px;\" >\n",
    "\n",
    "## 1.Créations des descripteurs de chaque image \n",
    "</div>\n",
    "\n",
    "1. Pour chaque image passage en gris et equalisation\n",
    "\n",
    "2. création d'une liste de descripteurs par image (\"sift_keyspoints_img\") qui sera utilisée pour réaliser les histogrammes par image\n",
    "\n",
    "3. création d'une liste de descripteurs pour l'ensemble des images (\"sift_keyspoints_all_imag\") qui sera utilisé pour créer les clusters de descripteurs (on vera çe on détaille  aprés)"
   ]
  },
  {
   "cell_type": "code",
   "execution_count": 5,
   "id": "985aa615",
   "metadata": {},
   "outputs": [],
   "source": [
    "nb_descriptors=500"
   ]
  },
  {
   "cell_type": "code",
   "execution_count": 6,
   "id": "ca53dcd5",
   "metadata": {},
   "outputs": [
    {
     "name": "stdout",
     "output_type": "stream",
     "text": [
      "0 images sans descripteurs sur 400 images au départ, soit 400 images restantes\n",
      "150144 128\n"
     ]
    }
   ],
   "source": [
    "img_dic = defaultdict(list)\n",
    "img_descriptors_dic = defaultdict(list)\n",
    "sift_keyspoints_img=[]\n",
    "sift_keyspoints_all_img = []\n",
    "\n",
    "src_images = images.copy()\n",
    "\n",
    "pattern = get_regex_alphabetique_simple()\n",
    "nb_img_without_desc = 0\n",
    "for img_path in src_images:\n",
    "    try:\n",
    "        _, _, descriptor = define_img_point(source_data_path+img_path, nb_descriptors=nb_descriptors, display=False, verbose=verbose)\n",
    "        if descriptor is not None:\n",
    "            img_dic[\"file_name\"].append(img_path)\n",
    "            name = img_path.lower().split(\".\")[0]\n",
    "            name = re.sub(pattern, '', name).strip()\n",
    "            img_dic[\"y\"].append(name)\n",
    "            sift_keyspoints_img.append(descriptor)\n",
    "            img_descriptors_dic[img_path] = descriptor\n",
    "            sift_keyspoints_all_img.extend(descriptor)\n",
    "        else:\n",
    "            if verbose>1:\n",
    "                print(f\"{img_path} as no Descriptor : {descriptor}\")\n",
    "            nb_img_without_desc += 1\n",
    "            images.remove(img_path)\n",
    "    except Exception as error:\n",
    "        print(\"ERROR : \", img_path)\n",
    "        print(error)\n",
    "    \n",
    "print(f\"{nb_img_without_desc} images sans descripteurs sur {len(src_images)} images au départ, soit {len(images)} images restantes\")\n",
    "print(len(sift_keyspoints_all_img), len(sift_keyspoints_all_img[0]))"
   ]
  },
  {
   "cell_type": "code",
   "execution_count": 7,
   "id": "f085144d",
   "metadata": {},
   "outputs": [
    {
     "name": "stdout",
     "output_type": "stream",
     "text": [
      "(400, 2)\n"
     ]
    },
    {
     "data": {
      "text/plain": [
       "Index(['file_name', 'y'], dtype='object')"
      ]
     },
     "execution_count": 7,
     "metadata": {},
     "output_type": "execute_result"
    }
   ],
   "source": [
    "df_origin = pd.DataFrame.from_dict(img_dic)\n",
    "print(df_origin.shape)\n",
    "df_origin.columns"
   ]
  },
  {
   "cell_type": "code",
   "execution_count": 8,
   "id": "7b3799f1",
   "metadata": {},
   "outputs": [
    {
     "data": {
      "text/plain": [
       "cloudy     100\n",
       "rain       100\n",
       "shine      100\n",
       "sunrise    100\n",
       "Name: y, dtype: int64"
      ]
     },
     "execution_count": 8,
     "metadata": {},
     "output_type": "execute_result"
    }
   ],
   "source": [
    "df_origin['y'].value_counts()"
   ]
  },
  {
   "cell_type": "markdown",
   "id": "499cd9b7",
   "metadata": {},
   "source": [
    "<div style=\"display: flex; background-color: Blue; padding: 15px;\" >\n",
    "\n",
    "## 2.Version supervisée\n",
    "</div>"
   ]
  },
  {
   "cell_type": "code",
   "execution_count": 9,
   "id": "d9c54b5d",
   "metadata": {},
   "outputs": [],
   "source": [
    "from sklearn.cluster import MiniBatchKMeans\n",
    "from sklearn.neural_network import MLPClassifier\n",
    "from sklearn.preprocessing import LabelEncoder"
   ]
  },
  {
   "cell_type": "markdown",
   "id": "224cde1e",
   "metadata": {},
   "source": [
    "<div style=\"display: flex; background-color: Green; padding: 7px;\" >\n",
    "\n",
    "### 2.1. Encodage de la target\n",
    "</div>"
   ]
  },
  {
   "cell_type": "code",
   "execution_count": 10,
   "id": "a2d336d1",
   "metadata": {},
   "outputs": [
    {
     "name": "stdout",
     "output_type": "stream",
     "text": [
      "[0 1 2 3]\n"
     ]
    },
    {
     "data": {
      "text/html": [
       "<div>\n",
       "<style scoped>\n",
       "    .dataframe tbody tr th:only-of-type {\n",
       "        vertical-align: middle;\n",
       "    }\n",
       "\n",
       "    .dataframe tbody tr th {\n",
       "        vertical-align: top;\n",
       "    }\n",
       "\n",
       "    .dataframe thead th {\n",
       "        text-align: right;\n",
       "    }\n",
       "</style>\n",
       "<table border=\"1\" class=\"dataframe\">\n",
       "  <thead>\n",
       "    <tr style=\"text-align: right;\">\n",
       "      <th></th>\n",
       "      <th>file_name</th>\n",
       "      <th>y</th>\n",
       "      <th>y_label</th>\n",
       "    </tr>\n",
       "  </thead>\n",
       "  <tbody>\n",
       "    <tr>\n",
       "      <th>0</th>\n",
       "      <td>cloudy1.jpg</td>\n",
       "      <td>0</td>\n",
       "      <td>cloudy</td>\n",
       "    </tr>\n",
       "    <tr>\n",
       "      <th>1</th>\n",
       "      <td>cloudy10.jpg</td>\n",
       "      <td>0</td>\n",
       "      <td>cloudy</td>\n",
       "    </tr>\n",
       "    <tr>\n",
       "      <th>2</th>\n",
       "      <td>cloudy100.jpg</td>\n",
       "      <td>0</td>\n",
       "      <td>cloudy</td>\n",
       "    </tr>\n",
       "    <tr>\n",
       "      <th>3</th>\n",
       "      <td>cloudy11.jpg</td>\n",
       "      <td>0</td>\n",
       "      <td>cloudy</td>\n",
       "    </tr>\n",
       "    <tr>\n",
       "      <th>4</th>\n",
       "      <td>cloudy12.jpg</td>\n",
       "      <td>0</td>\n",
       "      <td>cloudy</td>\n",
       "    </tr>\n",
       "  </tbody>\n",
       "</table>\n",
       "</div>"
      ],
      "text/plain": [
       "       file_name  y y_label\n",
       "0    cloudy1.jpg  0  cloudy\n",
       "1   cloudy10.jpg  0  cloudy\n",
       "2  cloudy100.jpg  0  cloudy\n",
       "3   cloudy11.jpg  0  cloudy\n",
       "4   cloudy12.jpg  0  cloudy"
      ]
     },
     "execution_count": 10,
     "metadata": {},
     "output_type": "execute_result"
    }
   ],
   "source": [
    "df_origin[\"y_label\"] = df_origin[\"y\"] \n",
    "label_encoder = LabelEncoder()\n",
    "df_origin[\"y\"] =  label_encoder.fit_transform(df_origin[\"y_label\"])\n",
    "species = df_origin[\"y\"].sort_values().unique()\n",
    "print(species)\n",
    "df_origin.head()"
   ]
  },
  {
   "cell_type": "markdown",
   "id": "224cde1e",
   "metadata": {},
   "source": [
    "<div style=\"display: flex; background-color: Green; padding: 7px;\" >\n",
    "\n",
    "### 2.2. Clustering des descripteurs\n",
    "</div>"
   ]
  },
  {
   "cell_type": "code",
   "execution_count": 11,
   "id": "0778a2d7",
   "metadata": {},
   "outputs": [
    {
     "name": "stdout",
     "output_type": "stream",
     "text": [
      "150144\n"
     ]
    },
    {
     "data": {
      "text/plain": [
       "387"
      ]
     },
     "execution_count": 11,
     "metadata": {},
     "output_type": "execute_result"
    }
   ],
   "source": [
    "print(len(sift_keyspoints_all_img))\n",
    "n_clusters = round(np.sqrt(len(sift_keyspoints_all_img)))\n",
    "n_clusters"
   ]
  },
  {
   "cell_type": "code",
   "execution_count": 12,
   "id": "b460cbe9",
   "metadata": {},
   "outputs": [],
   "source": [
    "batch_size = len(images) * 3\n",
    "kmeans = MiniBatchKMeans(n_clusters=n_clusters, batch_size=batch_size, verbose=verbose).fit(sift_keyspoints_all_img)"
   ]
  },
  {
   "cell_type": "markdown",
   "id": "224cde1e",
   "metadata": {},
   "source": [
    "<div style=\"display: flex; background-color: Green; padding: 7px;\" >\n",
    "\n",
    "### 2.3. Creation of the histograms\n",
    "</div>"
   ]
  },
  {
   "cell_type": "code",
   "execution_count": 13,
   "id": "9ec899b0",
   "metadata": {},
   "outputs": [],
   "source": [
    "histo_list = []\n",
    "\n",
    "for img_path in images:\n",
    "    try:\n",
    "        _, histo = predict(n_clusters, kmeans, descriptor=img_descriptors_dic[img_path], verbose=verbose)\n",
    "        histo_list.append(histo)\n",
    "    except Exception as error:\n",
    "        print(\"ERROR : \", img_path)\n",
    "        print(error)"
   ]
  },
  {
   "cell_type": "markdown",
   "id": "224cde1e",
   "metadata": {},
   "source": [
    "<div style=\"display: flex; background-color: Green; padding: 7px;\" >\n",
    "\n",
    "### 2.4. Training of the neural network\n",
    "</div>"
   ]
  },
  {
   "cell_type": "code",
   "execution_count": 14,
   "id": "38f9cd01",
   "metadata": {},
   "outputs": [],
   "source": [
    "from sklearn.model_selection import train_test_split"
   ]
  },
  {
   "cell_type": "code",
   "execution_count": 15,
   "id": "487e76f9",
   "metadata": {},
   "outputs": [
    {
     "name": "stdout",
     "output_type": "stream",
     "text": [
      "(400, 387) 400\n"
     ]
    }
   ],
   "source": [
    "random_state=0\n",
    "X_src = np.array(histo_list)\n",
    "Y_src = df_origin[\"y\"].to_list()\n",
    "print(X_src.shape, len(Y_src))"
   ]
  },
  {
   "cell_type": "code",
   "execution_count": 16,
   "id": "06d32f84",
   "metadata": {},
   "outputs": [],
   "source": [
    "X, x_test_split, Y, y_test_split = train_test_split(X_src, Y_src, test_size=0.2, random_state=random_state)"
   ]
  },
  {
   "cell_type": "markdown",
   "metadata": {},
   "source": [
    "<div style=\"display: flex; background-color: indigo;\" >\n",
    "\n",
    "#### 2.4.1. MLPClassifier\n",
    "</div>"
   ]
  },
  {
   "cell_type": "code",
   "execution_count": 17,
   "id": "b5cd6f40",
   "metadata": {},
   "outputs": [
    {
     "name": "stdout",
     "output_type": "stream",
     "text": [
      "Train: 1.0\n"
     ]
    },
    {
     "data": {
      "text/plain": [
       "0.6"
      ]
     },
     "execution_count": 17,
     "metadata": {},
     "output_type": "execute_result"
    }
   ],
   "source": [
    "mlp = MLPClassifier(verbose=verbose, random_state=random_state, max_iter=600000)\n",
    "mlp.fit(X, Y)\n",
    "print(f\"Train: {mlp.score(X, Y)}\")\n",
    "mlp.score(x_test_split, y_test_split) # 0.65 - randomstate 0 / 0.6375  - randomstate 42"
   ]
  },
  {
   "cell_type": "markdown",
   "id": "431a3e96",
   "metadata": {},
   "source": [
    "<div style=\"display: flex; background-color: indigo;\" >\n",
    "\n",
    "#### 2.4.2. SVC\n",
    "</div>"
   ]
  },
  {
   "cell_type": "code",
   "execution_count": 18,
   "id": "106e28b9",
   "metadata": {},
   "outputs": [],
   "source": [
    "from sklearn import svm"
   ]
  },
  {
   "cell_type": "code",
   "execution_count": 19,
   "id": "cd8cece7",
   "metadata": {},
   "outputs": [
    {
     "name": "stdout",
     "output_type": "stream",
     "text": [
      "Train: 0.9\n"
     ]
    },
    {
     "data": {
      "text/plain": [
       "0.6125"
      ]
     },
     "execution_count": 19,
     "metadata": {},
     "output_type": "execute_result"
    }
   ],
   "source": [
    "# Sans labelEncodeur : 0.89\n",
    "# Avec LabelEncodeur : 0.87\n",
    "sv = svm.SVC(random_state=random_state)\n",
    "sv.fit(X, Y)\n",
    "print(f\"Train: {sv.score(X, Y)}\")\n",
    "sv.score(x_test_split, y_test_split)"
   ]
  },
  {
   "cell_type": "markdown",
   "id": "dc0c802f",
   "metadata": {},
   "source": [
    "<div style=\"display: flex; background-color: Green; padding: 7px;\" >\n",
    "\n",
    "### 2.5. Prédictions\n",
    "</div>"
   ]
  },
  {
   "cell_type": "code",
   "execution_count": 20,
   "id": "2ec2e043",
   "metadata": {},
   "outputs": [],
   "source": [
    "df_src_dict, histo_list = pred_df(source_data_path, images, n_clusters, kmeans, mlp, species, label_encoder=label_encoder,img_descriptors_dic=img_descriptors_dic, file_name=\"predict_source.csv\")"
   ]
  },
  {
   "cell_type": "code",
   "execution_count": 21,
   "id": "1676dbc5",
   "metadata": {},
   "outputs": [
    {
     "data": {
      "text/html": [
       "<div>\n",
       "<style scoped>\n",
       "    .dataframe tbody tr th:only-of-type {\n",
       "        vertical-align: middle;\n",
       "    }\n",
       "\n",
       "    .dataframe tbody tr th {\n",
       "        vertical-align: top;\n",
       "    }\n",
       "\n",
       "    .dataframe thead th {\n",
       "        text-align: right;\n",
       "    }\n",
       "</style>\n",
       "<table border=\"1\" class=\"dataframe\">\n",
       "  <thead>\n",
       "    <tr style=\"text-align: right;\">\n",
       "      <th></th>\n",
       "      <th>picture</th>\n",
       "      <th>target</th>\n",
       "      <th>predict</th>\n",
       "      <th>cloudy_proba_0</th>\n",
       "      <th>rain_proba_1</th>\n",
       "      <th>shine_proba_2</th>\n",
       "      <th>sunrise_proba_3</th>\n",
       "    </tr>\n",
       "  </thead>\n",
       "  <tbody>\n",
       "    <tr>\n",
       "      <th>0</th>\n",
       "      <td>cloudy1.jpg</td>\n",
       "      <td>cloudy</td>\n",
       "      <td>cloudy</td>\n",
       "      <td>0.99</td>\n",
       "      <td>0.00</td>\n",
       "      <td>0.01</td>\n",
       "      <td>0.00</td>\n",
       "    </tr>\n",
       "    <tr>\n",
       "      <th>1</th>\n",
       "      <td>cloudy10.jpg</td>\n",
       "      <td>cloudy</td>\n",
       "      <td>shine</td>\n",
       "      <td>0.44</td>\n",
       "      <td>0.00</td>\n",
       "      <td>0.49</td>\n",
       "      <td>0.06</td>\n",
       "    </tr>\n",
       "    <tr>\n",
       "      <th>2</th>\n",
       "      <td>cloudy100.jpg</td>\n",
       "      <td>cloudy</td>\n",
       "      <td>cloudy</td>\n",
       "      <td>0.95</td>\n",
       "      <td>0.00</td>\n",
       "      <td>0.04</td>\n",
       "      <td>0.01</td>\n",
       "    </tr>\n",
       "    <tr>\n",
       "      <th>3</th>\n",
       "      <td>cloudy11.jpg</td>\n",
       "      <td>cloudy</td>\n",
       "      <td>cloudy</td>\n",
       "      <td>0.96</td>\n",
       "      <td>0.01</td>\n",
       "      <td>0.03</td>\n",
       "      <td>0.00</td>\n",
       "    </tr>\n",
       "    <tr>\n",
       "      <th>4</th>\n",
       "      <td>cloudy12.jpg</td>\n",
       "      <td>cloudy</td>\n",
       "      <td>cloudy</td>\n",
       "      <td>0.88</td>\n",
       "      <td>0.00</td>\n",
       "      <td>0.11</td>\n",
       "      <td>0.01</td>\n",
       "    </tr>\n",
       "    <tr>\n",
       "      <th>...</th>\n",
       "      <td>...</td>\n",
       "      <td>...</td>\n",
       "      <td>...</td>\n",
       "      <td>...</td>\n",
       "      <td>...</td>\n",
       "      <td>...</td>\n",
       "      <td>...</td>\n",
       "    </tr>\n",
       "    <tr>\n",
       "      <th>395</th>\n",
       "      <td>sunrise96.jpg</td>\n",
       "      <td>sunrise</td>\n",
       "      <td>sunrise</td>\n",
       "      <td>0.00</td>\n",
       "      <td>0.00</td>\n",
       "      <td>0.07</td>\n",
       "      <td>0.93</td>\n",
       "    </tr>\n",
       "    <tr>\n",
       "      <th>396</th>\n",
       "      <td>sunrise97.jpg</td>\n",
       "      <td>sunrise</td>\n",
       "      <td>sunrise</td>\n",
       "      <td>0.00</td>\n",
       "      <td>0.00</td>\n",
       "      <td>0.00</td>\n",
       "      <td>1.00</td>\n",
       "    </tr>\n",
       "    <tr>\n",
       "      <th>397</th>\n",
       "      <td>sunrise98.jpg</td>\n",
       "      <td>sunrise</td>\n",
       "      <td>sunrise</td>\n",
       "      <td>0.00</td>\n",
       "      <td>0.00</td>\n",
       "      <td>0.01</td>\n",
       "      <td>0.98</td>\n",
       "    </tr>\n",
       "    <tr>\n",
       "      <th>398</th>\n",
       "      <td>sunrise99.jpg</td>\n",
       "      <td>sunrise</td>\n",
       "      <td>sunrise</td>\n",
       "      <td>0.01</td>\n",
       "      <td>0.00</td>\n",
       "      <td>0.00</td>\n",
       "      <td>0.99</td>\n",
       "    </tr>\n",
       "    <tr>\n",
       "      <th>399</th>\n",
       "      <td>sunrise89.jpeg</td>\n",
       "      <td>sunrise</td>\n",
       "      <td>cloudy</td>\n",
       "      <td>0.33</td>\n",
       "      <td>0.27</td>\n",
       "      <td>0.11</td>\n",
       "      <td>0.29</td>\n",
       "    </tr>\n",
       "  </tbody>\n",
       "</table>\n",
       "<p>400 rows × 7 columns</p>\n",
       "</div>"
      ],
      "text/plain": [
       "            picture   target  predict  cloudy_proba_0  rain_proba_1  \\\n",
       "0       cloudy1.jpg   cloudy   cloudy            0.99          0.00   \n",
       "1      cloudy10.jpg   cloudy    shine            0.44          0.00   \n",
       "2     cloudy100.jpg   cloudy   cloudy            0.95          0.00   \n",
       "3      cloudy11.jpg   cloudy   cloudy            0.96          0.01   \n",
       "4      cloudy12.jpg   cloudy   cloudy            0.88          0.00   \n",
       "..              ...      ...      ...             ...           ...   \n",
       "395   sunrise96.jpg  sunrise  sunrise            0.00          0.00   \n",
       "396   sunrise97.jpg  sunrise  sunrise            0.00          0.00   \n",
       "397   sunrise98.jpg  sunrise  sunrise            0.00          0.00   \n",
       "398   sunrise99.jpg  sunrise  sunrise            0.01          0.00   \n",
       "399  sunrise89.jpeg  sunrise   cloudy            0.33          0.27   \n",
       "\n",
       "     shine_proba_2  sunrise_proba_3  \n",
       "0             0.01             0.00  \n",
       "1             0.49             0.06  \n",
       "2             0.04             0.01  \n",
       "3             0.03             0.00  \n",
       "4             0.11             0.01  \n",
       "..             ...              ...  \n",
       "395           0.07             0.93  \n",
       "396           0.00             1.00  \n",
       "397           0.01             0.98  \n",
       "398           0.00             0.99  \n",
       "399           0.11             0.29  \n",
       "\n",
       "[400 rows x 7 columns]"
      ]
     },
     "execution_count": 21,
     "metadata": {},
     "output_type": "execute_result"
    }
   ],
   "source": [
    "df_src = pd.DataFrame(df_src_dict)\n",
    "df_src"
   ]
  },
  {
   "cell_type": "code",
   "execution_count": 26,
   "id": "9dd8f8e0",
   "metadata": {},
   "outputs": [
    {
     "name": "stdout",
     "output_type": "stream",
     "text": [
      "62 images\n"
     ]
    },
    {
     "data": {
      "text/plain": [
       "['cloudy002.jpg',\n",
       " 'cloudy005.jpg',\n",
       " 'cloudy008.jpg',\n",
       " 'cloudy011.jpg',\n",
       " 'cloudy014.jpg',\n",
       " 'rain003.jpg',\n",
       " 'rain006.jpg',\n",
       " 'rain009.jpg',\n",
       " 'rain012.jpg',\n",
       " 'rain015.jpg',\n",
       " 'shine003.jpg',\n",
       " 'shine006.jpg',\n",
       " 'shine009.jpg',\n",
       " 'shine012.jpg',\n",
       " 'shine015.jpg',\n",
       " 'sunrise003.jpg',\n",
       " 'sunrise007.jpg',\n",
       " 'sunrise010.jpg',\n",
       " 'sunrise013.jpg',\n",
       " 'sunrise016.jpg',\n",
       " 'rain015.jpeg']"
      ]
     },
     "execution_count": 26,
     "metadata": {},
     "output_type": "execute_result"
    }
   ],
   "source": [
    "source_data_test_path = source_data_path.replace(\"dataset\", \"dataset_test\")\n",
    "\n",
    "# récupération données\n",
    "images_test = []\n",
    "\n",
    "for ext in img_extensions:\n",
    "    images_test.extend(get_dir_files(source_data_test_path, endwith=ext))\n",
    "\n",
    "print(len(images_test), \"images\")\n",
    "images_test[::3]"
   ]
  },
  {
   "cell_type": "code",
   "execution_count": 27,
   "id": "05f9c2ed",
   "metadata": {},
   "outputs": [],
   "source": [
    "img_descriptors_test_dic = defaultdict(list)\n",
    "\n",
    "for img_path in images_test:\n",
    "    try:\n",
    "        _, _, descriptor = define_img_point(source_data_test_path+img_path, nb_descriptors=nb_descriptors, display=False, verbose=verbose)       \n",
    "        img_descriptors_test_dic[img_path] = descriptor\n",
    "    except Exception as error:\n",
    "        print(\"ERROR : \", img_path)\n",
    "        print(error)"
   ]
  },
  {
   "cell_type": "code",
   "execution_count": 28,
   "id": "bcbd7e42",
   "metadata": {},
   "outputs": [
    {
     "data": {
      "text/html": [
       "<div>\n",
       "<style scoped>\n",
       "    .dataframe tbody tr th:only-of-type {\n",
       "        vertical-align: middle;\n",
       "    }\n",
       "\n",
       "    .dataframe tbody tr th {\n",
       "        vertical-align: top;\n",
       "    }\n",
       "\n",
       "    .dataframe thead th {\n",
       "        text-align: right;\n",
       "    }\n",
       "</style>\n",
       "<table border=\"1\" class=\"dataframe\">\n",
       "  <thead>\n",
       "    <tr style=\"text-align: right;\">\n",
       "      <th></th>\n",
       "      <th>picture</th>\n",
       "      <th>target</th>\n",
       "      <th>predict</th>\n",
       "      <th>cloudy_proba_0</th>\n",
       "      <th>rain_proba_1</th>\n",
       "      <th>shine_proba_2</th>\n",
       "      <th>sunrise_proba_3</th>\n",
       "      <th>y</th>\n",
       "    </tr>\n",
       "  </thead>\n",
       "  <tbody>\n",
       "    <tr>\n",
       "      <th>0</th>\n",
       "      <td>cloudy002.jpg</td>\n",
       "      <td>cloudy</td>\n",
       "      <td>cloudy</td>\n",
       "      <td>0.99</td>\n",
       "      <td>0.00</td>\n",
       "      <td>0.01</td>\n",
       "      <td>0.00</td>\n",
       "      <td>0</td>\n",
       "    </tr>\n",
       "    <tr>\n",
       "      <th>1</th>\n",
       "      <td>cloudy003.jpg</td>\n",
       "      <td>cloudy</td>\n",
       "      <td>cloudy</td>\n",
       "      <td>0.86</td>\n",
       "      <td>0.00</td>\n",
       "      <td>0.14</td>\n",
       "      <td>0.00</td>\n",
       "      <td>0</td>\n",
       "    </tr>\n",
       "    <tr>\n",
       "      <th>2</th>\n",
       "      <td>cloudy004.jpg</td>\n",
       "      <td>cloudy</td>\n",
       "      <td>shine</td>\n",
       "      <td>0.26</td>\n",
       "      <td>0.12</td>\n",
       "      <td>0.60</td>\n",
       "      <td>0.02</td>\n",
       "      <td>0</td>\n",
       "    </tr>\n",
       "    <tr>\n",
       "      <th>3</th>\n",
       "      <td>cloudy005.jpg</td>\n",
       "      <td>cloudy</td>\n",
       "      <td>cloudy</td>\n",
       "      <td>0.99</td>\n",
       "      <td>0.00</td>\n",
       "      <td>0.01</td>\n",
       "      <td>0.00</td>\n",
       "      <td>0</td>\n",
       "    </tr>\n",
       "    <tr>\n",
       "      <th>4</th>\n",
       "      <td>cloudy006.jpg</td>\n",
       "      <td>cloudy</td>\n",
       "      <td>sunrise</td>\n",
       "      <td>0.28</td>\n",
       "      <td>0.01</td>\n",
       "      <td>0.17</td>\n",
       "      <td>0.54</td>\n",
       "      <td>0</td>\n",
       "    </tr>\n",
       "    <tr>\n",
       "      <th>...</th>\n",
       "      <td>...</td>\n",
       "      <td>...</td>\n",
       "      <td>...</td>\n",
       "      <td>...</td>\n",
       "      <td>...</td>\n",
       "      <td>...</td>\n",
       "      <td>...</td>\n",
       "      <td>...</td>\n",
       "    </tr>\n",
       "    <tr>\n",
       "      <th>57</th>\n",
       "      <td>sunrise016.jpg</td>\n",
       "      <td>sunrise</td>\n",
       "      <td>sunrise</td>\n",
       "      <td>0.00</td>\n",
       "      <td>0.03</td>\n",
       "      <td>0.25</td>\n",
       "      <td>0.73</td>\n",
       "      <td>3</td>\n",
       "    </tr>\n",
       "    <tr>\n",
       "      <th>58</th>\n",
       "      <td>cloudy001.jpeg</td>\n",
       "      <td>cloudy</td>\n",
       "      <td>sunrise</td>\n",
       "      <td>0.00</td>\n",
       "      <td>0.00</td>\n",
       "      <td>0.02</td>\n",
       "      <td>0.98</td>\n",
       "      <td>0</td>\n",
       "    </tr>\n",
       "    <tr>\n",
       "      <th>59</th>\n",
       "      <td>rain002.jpeg</td>\n",
       "      <td>rain</td>\n",
       "      <td>rain</td>\n",
       "      <td>0.00</td>\n",
       "      <td>0.91</td>\n",
       "      <td>0.05</td>\n",
       "      <td>0.03</td>\n",
       "      <td>1</td>\n",
       "    </tr>\n",
       "    <tr>\n",
       "      <th>60</th>\n",
       "      <td>rain015.jpeg</td>\n",
       "      <td>rain</td>\n",
       "      <td>sunrise</td>\n",
       "      <td>0.00</td>\n",
       "      <td>0.02</td>\n",
       "      <td>0.19</td>\n",
       "      <td>0.78</td>\n",
       "      <td>1</td>\n",
       "    </tr>\n",
       "    <tr>\n",
       "      <th>61</th>\n",
       "      <td>sunrise013.png</td>\n",
       "      <td>sunrise</td>\n",
       "      <td>shine</td>\n",
       "      <td>0.00</td>\n",
       "      <td>0.00</td>\n",
       "      <td>1.00</td>\n",
       "      <td>0.00</td>\n",
       "      <td>3</td>\n",
       "    </tr>\n",
       "  </tbody>\n",
       "</table>\n",
       "<p>62 rows × 8 columns</p>\n",
       "</div>"
      ],
      "text/plain": [
       "           picture   target  predict  cloudy_proba_0  rain_proba_1  \\\n",
       "0    cloudy002.jpg   cloudy   cloudy            0.99          0.00   \n",
       "1    cloudy003.jpg   cloudy   cloudy            0.86          0.00   \n",
       "2    cloudy004.jpg   cloudy    shine            0.26          0.12   \n",
       "3    cloudy005.jpg   cloudy   cloudy            0.99          0.00   \n",
       "4    cloudy006.jpg   cloudy  sunrise            0.28          0.01   \n",
       "..             ...      ...      ...             ...           ...   \n",
       "57  sunrise016.jpg  sunrise  sunrise            0.00          0.03   \n",
       "58  cloudy001.jpeg   cloudy  sunrise            0.00          0.00   \n",
       "59    rain002.jpeg     rain     rain            0.00          0.91   \n",
       "60    rain015.jpeg     rain  sunrise            0.00          0.02   \n",
       "61  sunrise013.png  sunrise    shine            0.00          0.00   \n",
       "\n",
       "    shine_proba_2  sunrise_proba_3  y  \n",
       "0            0.01             0.00  0  \n",
       "1            0.14             0.00  0  \n",
       "2            0.60             0.02  0  \n",
       "3            0.01             0.00  0  \n",
       "4            0.17             0.54  0  \n",
       "..            ...              ... ..  \n",
       "57           0.25             0.73  3  \n",
       "58           0.02             0.98  0  \n",
       "59           0.05             0.03  1  \n",
       "60           0.19             0.78  1  \n",
       "61           1.00             0.00  3  \n",
       "\n",
       "[62 rows x 8 columns]"
      ]
     },
     "execution_count": 28,
     "metadata": {},
     "output_type": "execute_result"
    }
   ],
   "source": [
    "df_test_dict, histo_test_list = pred_df(source_data_test_path, images_test, n_clusters, kmeans, mlp, species, img_descriptors_dic=img_descriptors_test_dic, label_encoder=label_encoder, file_name=\"predict_test.csv\")\n",
    "df_test = pd.DataFrame(df_test_dict)\n",
    "df_test[\"y\"] = label_encoder.transform(df_test[\"target\"])\n",
    "df_test"
   ]
  },
  {
   "cell_type": "code",
   "execution_count": 29,
   "id": "f5de8431",
   "metadata": {},
   "outputs": [
    {
     "data": {
      "text/plain": [
       "(62, 387)"
      ]
     },
     "execution_count": 29,
     "metadata": {},
     "output_type": "execute_result"
    }
   ],
   "source": [
    "X_test = np.array(histo_test_list)\n",
    "Y_test = np.array(df_test[\"y\"])\n",
    "X_test.shape"
   ]
  },
  {
   "cell_type": "code",
   "execution_count": 30,
   "id": "0f714db8",
   "metadata": {},
   "outputs": [
    {
     "data": {
      "text/plain": [
       "0.52"
      ]
     },
     "execution_count": 30,
     "metadata": {},
     "output_type": "execute_result"
    }
   ],
   "source": [
    "# Sans label encoder : 0.53\n",
    "# Avec label encoder : 0.52 => images récupérées d'internet\n",
    "# Avec label encoder : \n",
    "round(mlp.score(X_test, Y_test), 2)"
   ]
  },
  {
   "cell_type": "code",
   "execution_count": 31,
   "id": "b23a7be1",
   "metadata": {},
   "outputs": [
    {
     "data": {
      "text/plain": [
       "0.5"
      ]
     },
     "execution_count": 31,
     "metadata": {},
     "output_type": "execute_result"
    }
   ],
   "source": [
    "# Sans label Encoder 0.46774193548387094\n",
    "# Avec label Encoder 0.532258064516129\n",
    "round(sv.score(X_test, Y_test), 2)"
   ]
  },
  {
   "cell_type": "code",
   "execution_count": 32,
   "id": "667832d8",
   "metadata": {},
   "outputs": [
    {
     "data": {
      "text/html": [
       "<div>\n",
       "<style scoped>\n",
       "    .dataframe tbody tr th:only-of-type {\n",
       "        vertical-align: middle;\n",
       "    }\n",
       "\n",
       "    .dataframe tbody tr th {\n",
       "        vertical-align: top;\n",
       "    }\n",
       "\n",
       "    .dataframe thead th {\n",
       "        text-align: right;\n",
       "    }\n",
       "</style>\n",
       "<table border=\"1\" class=\"dataframe\">\n",
       "  <thead>\n",
       "    <tr style=\"text-align: right;\">\n",
       "      <th></th>\n",
       "      <th>picture</th>\n",
       "      <th>target</th>\n",
       "      <th>predict</th>\n",
       "      <th>cloudy_proba_0</th>\n",
       "      <th>rain_proba_1</th>\n",
       "      <th>shine_proba_2</th>\n",
       "      <th>sunrise_proba_3</th>\n",
       "      <th>y</th>\n",
       "    </tr>\n",
       "  </thead>\n",
       "  <tbody>\n",
       "    <tr>\n",
       "      <th>2</th>\n",
       "      <td>cloudy004.jpg</td>\n",
       "      <td>cloudy</td>\n",
       "      <td>shine</td>\n",
       "      <td>0.26</td>\n",
       "      <td>0.12</td>\n",
       "      <td>0.60</td>\n",
       "      <td>0.02</td>\n",
       "      <td>0</td>\n",
       "    </tr>\n",
       "    <tr>\n",
       "      <th>4</th>\n",
       "      <td>cloudy006.jpg</td>\n",
       "      <td>cloudy</td>\n",
       "      <td>sunrise</td>\n",
       "      <td>0.28</td>\n",
       "      <td>0.01</td>\n",
       "      <td>0.17</td>\n",
       "      <td>0.54</td>\n",
       "      <td>0</td>\n",
       "    </tr>\n",
       "    <tr>\n",
       "      <th>8</th>\n",
       "      <td>cloudy010.jpg</td>\n",
       "      <td>cloudy</td>\n",
       "      <td>shine</td>\n",
       "      <td>0.00</td>\n",
       "      <td>0.00</td>\n",
       "      <td>0.99</td>\n",
       "      <td>0.00</td>\n",
       "      <td>0</td>\n",
       "    </tr>\n",
       "    <tr>\n",
       "      <th>11</th>\n",
       "      <td>cloudy013.jpg</td>\n",
       "      <td>cloudy</td>\n",
       "      <td>shine</td>\n",
       "      <td>0.14</td>\n",
       "      <td>0.08</td>\n",
       "      <td>0.77</td>\n",
       "      <td>0.00</td>\n",
       "      <td>0</td>\n",
       "    </tr>\n",
       "    <tr>\n",
       "      <th>12</th>\n",
       "      <td>cloudy014.jpg</td>\n",
       "      <td>cloudy</td>\n",
       "      <td>sunrise</td>\n",
       "      <td>0.47</td>\n",
       "      <td>0.00</td>\n",
       "      <td>0.01</td>\n",
       "      <td>0.52</td>\n",
       "      <td>0</td>\n",
       "    </tr>\n",
       "    <tr>\n",
       "      <th>19</th>\n",
       "      <td>rain007.jpg</td>\n",
       "      <td>rain</td>\n",
       "      <td>sunrise</td>\n",
       "      <td>0.00</td>\n",
       "      <td>0.33</td>\n",
       "      <td>0.07</td>\n",
       "      <td>0.60</td>\n",
       "      <td>1</td>\n",
       "    </tr>\n",
       "    <tr>\n",
       "      <th>22</th>\n",
       "      <td>rain010.jpg</td>\n",
       "      <td>rain</td>\n",
       "      <td>sunrise</td>\n",
       "      <td>0.00</td>\n",
       "      <td>0.00</td>\n",
       "      <td>0.00</td>\n",
       "      <td>1.00</td>\n",
       "      <td>1</td>\n",
       "    </tr>\n",
       "    <tr>\n",
       "      <th>23</th>\n",
       "      <td>rain011.jpg</td>\n",
       "      <td>rain</td>\n",
       "      <td>shine</td>\n",
       "      <td>0.00</td>\n",
       "      <td>0.00</td>\n",
       "      <td>0.69</td>\n",
       "      <td>0.31</td>\n",
       "      <td>1</td>\n",
       "    </tr>\n",
       "    <tr>\n",
       "      <th>24</th>\n",
       "      <td>rain012.jpg</td>\n",
       "      <td>rain</td>\n",
       "      <td>sunrise</td>\n",
       "      <td>0.01</td>\n",
       "      <td>0.24</td>\n",
       "      <td>0.08</td>\n",
       "      <td>0.67</td>\n",
       "      <td>1</td>\n",
       "    </tr>\n",
       "    <tr>\n",
       "      <th>28</th>\n",
       "      <td>shine001.jpg</td>\n",
       "      <td>shine</td>\n",
       "      <td>cloudy</td>\n",
       "      <td>0.88</td>\n",
       "      <td>0.00</td>\n",
       "      <td>0.12</td>\n",
       "      <td>0.00</td>\n",
       "      <td>2</td>\n",
       "    </tr>\n",
       "    <tr>\n",
       "      <th>29</th>\n",
       "      <td>shine002.jpg</td>\n",
       "      <td>shine</td>\n",
       "      <td>cloudy</td>\n",
       "      <td>0.99</td>\n",
       "      <td>0.00</td>\n",
       "      <td>0.01</td>\n",
       "      <td>0.00</td>\n",
       "      <td>2</td>\n",
       "    </tr>\n",
       "    <tr>\n",
       "      <th>31</th>\n",
       "      <td>shine004.jpg</td>\n",
       "      <td>shine</td>\n",
       "      <td>rain</td>\n",
       "      <td>0.02</td>\n",
       "      <td>0.56</td>\n",
       "      <td>0.17</td>\n",
       "      <td>0.24</td>\n",
       "      <td>2</td>\n",
       "    </tr>\n",
       "    <tr>\n",
       "      <th>33</th>\n",
       "      <td>shine006.jpg</td>\n",
       "      <td>shine</td>\n",
       "      <td>sunrise</td>\n",
       "      <td>0.01</td>\n",
       "      <td>0.20</td>\n",
       "      <td>0.00</td>\n",
       "      <td>0.79</td>\n",
       "      <td>2</td>\n",
       "    </tr>\n",
       "    <tr>\n",
       "      <th>34</th>\n",
       "      <td>shine007.jpg</td>\n",
       "      <td>shine</td>\n",
       "      <td>sunrise</td>\n",
       "      <td>0.16</td>\n",
       "      <td>0.38</td>\n",
       "      <td>0.01</td>\n",
       "      <td>0.45</td>\n",
       "      <td>2</td>\n",
       "    </tr>\n",
       "    <tr>\n",
       "      <th>35</th>\n",
       "      <td>shine008.jpg</td>\n",
       "      <td>shine</td>\n",
       "      <td>cloudy</td>\n",
       "      <td>1.00</td>\n",
       "      <td>0.00</td>\n",
       "      <td>0.00</td>\n",
       "      <td>0.00</td>\n",
       "      <td>2</td>\n",
       "    </tr>\n",
       "    <tr>\n",
       "      <th>36</th>\n",
       "      <td>shine009.jpg</td>\n",
       "      <td>shine</td>\n",
       "      <td>cloudy</td>\n",
       "      <td>0.61</td>\n",
       "      <td>0.00</td>\n",
       "      <td>0.38</td>\n",
       "      <td>0.02</td>\n",
       "      <td>2</td>\n",
       "    </tr>\n",
       "    <tr>\n",
       "      <th>37</th>\n",
       "      <td>shine010.jpg</td>\n",
       "      <td>shine</td>\n",
       "      <td>cloudy</td>\n",
       "      <td>0.56</td>\n",
       "      <td>0.11</td>\n",
       "      <td>0.31</td>\n",
       "      <td>0.03</td>\n",
       "      <td>2</td>\n",
       "    </tr>\n",
       "    <tr>\n",
       "      <th>39</th>\n",
       "      <td>shine012.jpg</td>\n",
       "      <td>shine</td>\n",
       "      <td>rain</td>\n",
       "      <td>0.01</td>\n",
       "      <td>0.95</td>\n",
       "      <td>0.00</td>\n",
       "      <td>0.04</td>\n",
       "      <td>2</td>\n",
       "    </tr>\n",
       "    <tr>\n",
       "      <th>43</th>\n",
       "      <td>sunrise001.jpg</td>\n",
       "      <td>sunrise</td>\n",
       "      <td>shine</td>\n",
       "      <td>0.13</td>\n",
       "      <td>0.01</td>\n",
       "      <td>0.82</td>\n",
       "      <td>0.04</td>\n",
       "      <td>3</td>\n",
       "    </tr>\n",
       "    <tr>\n",
       "      <th>44</th>\n",
       "      <td>sunrise002.jpg</td>\n",
       "      <td>sunrise</td>\n",
       "      <td>cloudy</td>\n",
       "      <td>1.00</td>\n",
       "      <td>0.00</td>\n",
       "      <td>0.00</td>\n",
       "      <td>0.00</td>\n",
       "      <td>3</td>\n",
       "    </tr>\n",
       "    <tr>\n",
       "      <th>47</th>\n",
       "      <td>sunrise005.jpg</td>\n",
       "      <td>sunrise</td>\n",
       "      <td>shine</td>\n",
       "      <td>0.00</td>\n",
       "      <td>0.00</td>\n",
       "      <td>1.00</td>\n",
       "      <td>0.00</td>\n",
       "      <td>3</td>\n",
       "    </tr>\n",
       "    <tr>\n",
       "      <th>48</th>\n",
       "      <td>sunrise007.jpg</td>\n",
       "      <td>sunrise</td>\n",
       "      <td>rain</td>\n",
       "      <td>0.00</td>\n",
       "      <td>0.80</td>\n",
       "      <td>0.06</td>\n",
       "      <td>0.14</td>\n",
       "      <td>3</td>\n",
       "    </tr>\n",
       "    <tr>\n",
       "      <th>50</th>\n",
       "      <td>sunrise009.jpg</td>\n",
       "      <td>sunrise</td>\n",
       "      <td>rain</td>\n",
       "      <td>0.00</td>\n",
       "      <td>0.72</td>\n",
       "      <td>0.19</td>\n",
       "      <td>0.09</td>\n",
       "      <td>3</td>\n",
       "    </tr>\n",
       "    <tr>\n",
       "      <th>51</th>\n",
       "      <td>sunrise010.jpg</td>\n",
       "      <td>sunrise</td>\n",
       "      <td>cloudy</td>\n",
       "      <td>0.55</td>\n",
       "      <td>0.00</td>\n",
       "      <td>0.04</td>\n",
       "      <td>0.41</td>\n",
       "      <td>3</td>\n",
       "    </tr>\n",
       "    <tr>\n",
       "      <th>52</th>\n",
       "      <td>sunrise011.jpg</td>\n",
       "      <td>sunrise</td>\n",
       "      <td>cloudy</td>\n",
       "      <td>0.74</td>\n",
       "      <td>0.21</td>\n",
       "      <td>0.01</td>\n",
       "      <td>0.03</td>\n",
       "      <td>3</td>\n",
       "    </tr>\n",
       "    <tr>\n",
       "      <th>53</th>\n",
       "      <td>sunrise012.jpg</td>\n",
       "      <td>sunrise</td>\n",
       "      <td>shine</td>\n",
       "      <td>0.00</td>\n",
       "      <td>0.00</td>\n",
       "      <td>0.99</td>\n",
       "      <td>0.00</td>\n",
       "      <td>3</td>\n",
       "    </tr>\n",
       "    <tr>\n",
       "      <th>55</th>\n",
       "      <td>sunrise014.jpg</td>\n",
       "      <td>sunrise</td>\n",
       "      <td>rain</td>\n",
       "      <td>0.00</td>\n",
       "      <td>0.74</td>\n",
       "      <td>0.23</td>\n",
       "      <td>0.03</td>\n",
       "      <td>3</td>\n",
       "    </tr>\n",
       "    <tr>\n",
       "      <th>58</th>\n",
       "      <td>cloudy001.jpeg</td>\n",
       "      <td>cloudy</td>\n",
       "      <td>sunrise</td>\n",
       "      <td>0.00</td>\n",
       "      <td>0.00</td>\n",
       "      <td>0.02</td>\n",
       "      <td>0.98</td>\n",
       "      <td>0</td>\n",
       "    </tr>\n",
       "    <tr>\n",
       "      <th>60</th>\n",
       "      <td>rain015.jpeg</td>\n",
       "      <td>rain</td>\n",
       "      <td>sunrise</td>\n",
       "      <td>0.00</td>\n",
       "      <td>0.02</td>\n",
       "      <td>0.19</td>\n",
       "      <td>0.78</td>\n",
       "      <td>1</td>\n",
       "    </tr>\n",
       "    <tr>\n",
       "      <th>61</th>\n",
       "      <td>sunrise013.png</td>\n",
       "      <td>sunrise</td>\n",
       "      <td>shine</td>\n",
       "      <td>0.00</td>\n",
       "      <td>0.00</td>\n",
       "      <td>1.00</td>\n",
       "      <td>0.00</td>\n",
       "      <td>3</td>\n",
       "    </tr>\n",
       "  </tbody>\n",
       "</table>\n",
       "</div>"
      ],
      "text/plain": [
       "           picture   target  predict  cloudy_proba_0  rain_proba_1  \\\n",
       "2    cloudy004.jpg   cloudy    shine            0.26          0.12   \n",
       "4    cloudy006.jpg   cloudy  sunrise            0.28          0.01   \n",
       "8    cloudy010.jpg   cloudy    shine            0.00          0.00   \n",
       "11   cloudy013.jpg   cloudy    shine            0.14          0.08   \n",
       "12   cloudy014.jpg   cloudy  sunrise            0.47          0.00   \n",
       "19     rain007.jpg     rain  sunrise            0.00          0.33   \n",
       "22     rain010.jpg     rain  sunrise            0.00          0.00   \n",
       "23     rain011.jpg     rain    shine            0.00          0.00   \n",
       "24     rain012.jpg     rain  sunrise            0.01          0.24   \n",
       "28    shine001.jpg    shine   cloudy            0.88          0.00   \n",
       "29    shine002.jpg    shine   cloudy            0.99          0.00   \n",
       "31    shine004.jpg    shine     rain            0.02          0.56   \n",
       "33    shine006.jpg    shine  sunrise            0.01          0.20   \n",
       "34    shine007.jpg    shine  sunrise            0.16          0.38   \n",
       "35    shine008.jpg    shine   cloudy            1.00          0.00   \n",
       "36    shine009.jpg    shine   cloudy            0.61          0.00   \n",
       "37    shine010.jpg    shine   cloudy            0.56          0.11   \n",
       "39    shine012.jpg    shine     rain            0.01          0.95   \n",
       "43  sunrise001.jpg  sunrise    shine            0.13          0.01   \n",
       "44  sunrise002.jpg  sunrise   cloudy            1.00          0.00   \n",
       "47  sunrise005.jpg  sunrise    shine            0.00          0.00   \n",
       "48  sunrise007.jpg  sunrise     rain            0.00          0.80   \n",
       "50  sunrise009.jpg  sunrise     rain            0.00          0.72   \n",
       "51  sunrise010.jpg  sunrise   cloudy            0.55          0.00   \n",
       "52  sunrise011.jpg  sunrise   cloudy            0.74          0.21   \n",
       "53  sunrise012.jpg  sunrise    shine            0.00          0.00   \n",
       "55  sunrise014.jpg  sunrise     rain            0.00          0.74   \n",
       "58  cloudy001.jpeg   cloudy  sunrise            0.00          0.00   \n",
       "60    rain015.jpeg     rain  sunrise            0.00          0.02   \n",
       "61  sunrise013.png  sunrise    shine            0.00          0.00   \n",
       "\n",
       "    shine_proba_2  sunrise_proba_3  y  \n",
       "2            0.60             0.02  0  \n",
       "4            0.17             0.54  0  \n",
       "8            0.99             0.00  0  \n",
       "11           0.77             0.00  0  \n",
       "12           0.01             0.52  0  \n",
       "19           0.07             0.60  1  \n",
       "22           0.00             1.00  1  \n",
       "23           0.69             0.31  1  \n",
       "24           0.08             0.67  1  \n",
       "28           0.12             0.00  2  \n",
       "29           0.01             0.00  2  \n",
       "31           0.17             0.24  2  \n",
       "33           0.00             0.79  2  \n",
       "34           0.01             0.45  2  \n",
       "35           0.00             0.00  2  \n",
       "36           0.38             0.02  2  \n",
       "37           0.31             0.03  2  \n",
       "39           0.00             0.04  2  \n",
       "43           0.82             0.04  3  \n",
       "44           0.00             0.00  3  \n",
       "47           1.00             0.00  3  \n",
       "48           0.06             0.14  3  \n",
       "50           0.19             0.09  3  \n",
       "51           0.04             0.41  3  \n",
       "52           0.01             0.03  3  \n",
       "53           0.99             0.00  3  \n",
       "55           0.23             0.03  3  \n",
       "58           0.02             0.98  0  \n",
       "60           0.19             0.78  1  \n",
       "61           1.00             0.00  3  "
      ]
     },
     "execution_count": 32,
     "metadata": {},
     "output_type": "execute_result"
    }
   ],
   "source": [
    "df_test[df_test[\"target\"]!=df_test[\"predict\"]]"
   ]
  },
  {
   "cell_type": "code",
   "execution_count": 33,
   "id": "38662caa",
   "metadata": {},
   "outputs": [],
   "source": [
    "from sklearn.metrics import confusion_matrix\n",
    "import seaborn as sns"
   ]
  },
  {
   "cell_type": "code",
   "execution_count": 34,
   "id": "7f58c34b",
   "metadata": {},
   "outputs": [
    {
     "data": {
      "text/html": [
       "<div>\n",
       "<style scoped>\n",
       "    .dataframe tbody tr th:only-of-type {\n",
       "        vertical-align: middle;\n",
       "    }\n",
       "\n",
       "    .dataframe tbody tr th {\n",
       "        vertical-align: top;\n",
       "    }\n",
       "\n",
       "    .dataframe thead th {\n",
       "        text-align: right;\n",
       "    }\n",
       "</style>\n",
       "<table border=\"1\" class=\"dataframe\">\n",
       "  <thead>\n",
       "    <tr style=\"text-align: right;\">\n",
       "      <th></th>\n",
       "      <th>0</th>\n",
       "      <th>1</th>\n",
       "      <th>2</th>\n",
       "      <th>3</th>\n",
       "    </tr>\n",
       "  </thead>\n",
       "  <tbody>\n",
       "    <tr>\n",
       "      <th>0</th>\n",
       "      <td>9</td>\n",
       "      <td>0</td>\n",
       "      <td>3</td>\n",
       "      <td>3</td>\n",
       "    </tr>\n",
       "    <tr>\n",
       "      <th>1</th>\n",
       "      <td>0</td>\n",
       "      <td>11</td>\n",
       "      <td>1</td>\n",
       "      <td>4</td>\n",
       "    </tr>\n",
       "    <tr>\n",
       "      <th>2</th>\n",
       "      <td>5</td>\n",
       "      <td>2</td>\n",
       "      <td>6</td>\n",
       "      <td>2</td>\n",
       "    </tr>\n",
       "    <tr>\n",
       "      <th>3</th>\n",
       "      <td>3</td>\n",
       "      <td>3</td>\n",
       "      <td>4</td>\n",
       "      <td>6</td>\n",
       "    </tr>\n",
       "  </tbody>\n",
       "</table>\n",
       "</div>"
      ],
      "text/plain": [
       "   0   1  2  3\n",
       "0  9   0  3  3\n",
       "1  0  11  1  4\n",
       "2  5   2  6  2\n",
       "3  3   3  4  6"
      ]
     },
     "execution_count": 34,
     "metadata": {},
     "output_type": "execute_result"
    }
   ],
   "source": [
    "cf_m = confusion_matrix(df_test['y'], label_encoder.transform(df_test['predict']))\n",
    "df_confusion = pd.DataFrame(cf_m)\n",
    "df_confusion"
   ]
  },
  {
   "cell_type": "code",
   "execution_count": 35,
   "id": "79e81529",
   "metadata": {},
   "outputs": [
    {
     "data": {
      "text/html": [
       "<div>\n",
       "<style scoped>\n",
       "    .dataframe tbody tr th:only-of-type {\n",
       "        vertical-align: middle;\n",
       "    }\n",
       "\n",
       "    .dataframe tbody tr th {\n",
       "        vertical-align: top;\n",
       "    }\n",
       "\n",
       "    .dataframe thead th {\n",
       "        text-align: right;\n",
       "    }\n",
       "</style>\n",
       "<table border=\"1\" class=\"dataframe\">\n",
       "  <thead>\n",
       "    <tr style=\"text-align: right;\">\n",
       "      <th></th>\n",
       "      <th>cloudy</th>\n",
       "      <th>rain</th>\n",
       "      <th>shine</th>\n",
       "      <th>sunrise</th>\n",
       "    </tr>\n",
       "    <tr>\n",
       "      <th>expected</th>\n",
       "      <th></th>\n",
       "      <th></th>\n",
       "      <th></th>\n",
       "      <th></th>\n",
       "    </tr>\n",
       "  </thead>\n",
       "  <tbody>\n",
       "    <tr>\n",
       "      <th>cloudy</th>\n",
       "      <td>9</td>\n",
       "      <td>0</td>\n",
       "      <td>3</td>\n",
       "      <td>3</td>\n",
       "    </tr>\n",
       "    <tr>\n",
       "      <th>rain</th>\n",
       "      <td>0</td>\n",
       "      <td>11</td>\n",
       "      <td>1</td>\n",
       "      <td>4</td>\n",
       "    </tr>\n",
       "    <tr>\n",
       "      <th>shine</th>\n",
       "      <td>5</td>\n",
       "      <td>2</td>\n",
       "      <td>6</td>\n",
       "      <td>2</td>\n",
       "    </tr>\n",
       "    <tr>\n",
       "      <th>sunrise</th>\n",
       "      <td>3</td>\n",
       "      <td>3</td>\n",
       "      <td>4</td>\n",
       "      <td>6</td>\n",
       "    </tr>\n",
       "  </tbody>\n",
       "</table>\n",
       "</div>"
      ],
      "text/plain": [
       "          cloudy  rain  shine  sunrise\n",
       "expected                              \n",
       "cloudy         9     0      3        3\n",
       "rain           0    11      1        4\n",
       "shine          5     2      6        2\n",
       "sunrise        3     3      4        6"
      ]
     },
     "execution_count": 35,
     "metadata": {},
     "output_type": "execute_result"
    }
   ],
   "source": [
    "df_confusion[\"expected\"] = \"\"\n",
    "for i in range(0, 4):\n",
    "    label = label_encoder.inverse_transform([i])[0]\n",
    "    df_confusion.loc[i,\"expected\"] = label_encoder.inverse_transform([i])[0]\n",
    "    df_confusion = df_confusion.rename(columns={i:label})\n",
    "\n",
    "df_confusion = df_confusion.set_index(\"expected\")\n",
    "df_confusion"
   ]
  },
  {
   "cell_type": "code",
   "execution_count": 36,
   "id": "7a19c223",
   "metadata": {},
   "outputs": [
    {
     "data": {
      "text/plain": [
       "<AxesSubplot:ylabel='expected'>"
      ]
     },
     "execution_count": 36,
     "metadata": {},
     "output_type": "execute_result"
    },
    {
     "data": {
      "image/png": "[encoded data removed]",
      "text/plain": [
       "<Figure size 432x288 with 2 Axes>"
      ]
     },
     "metadata": {
      "needs_background": "light"
     },
     "output_type": "display_data"
    }
   ],
   "source": [
    "sns.heatmap(df_confusion, annot=True)"
   ]
  },
  {
   "cell_type": "markdown",
   "id": "dc0c802f",
   "metadata": {},
   "source": [
    "<div style=\"display: flex; background-color: Green; padding: 7px;\" >\n",
    "\n",
    "### 2.6. Analyse\n",
    "</div>"
   ]
  },
  {
   "cell_type": "markdown",
   "id": "5c79ef9b",
   "metadata": {},
   "source": [
    "Il y a un gros écart entre le score sur le train et le score sur le test.\n",
    "Nous générons donc la courbe d'apprentissage pour avoir une vision de l'apprentissage du modèle"
   ]
  },
  {
   "cell_type": "markdown",
   "id": "dc0c802f",
   "metadata": {},
   "source": [
    "<div style=\"display: flex; background-color: Green; padding: 7px;\" >\n",
    "\n",
    "### 2.7. Learning Curve\n",
    "</div>"
   ]
  },
  {
   "cell_type": "code",
   "execution_count": 37,
   "id": "a32b86cd",
   "metadata": {},
   "outputs": [],
   "source": [
    "from sklearn.model_selection import learning_curve"
   ]
  },
  {
   "cell_type": "code",
   "execution_count": 38,
   "id": "3aa75e80",
   "metadata": {},
   "outputs": [
    {
     "name": "stdout",
     "output_type": "stream",
     "text": [
      "[ 38  76 114 152 190 228 266 304 342 380]\n"
     ]
    },
    {
     "data": {
      "text/plain": [
       "<matplotlib.legend.Legend at 0x1f007914160>"
      ]
     },
     "execution_count": 38,
     "metadata": {},
     "output_type": "execute_result"
    },
    {
     "data": {
      "image/png": "[encoded data removed]",
      "text/plain": [
       "<Figure size 432x288 with 1 Axes>"
      ]
     },
     "metadata": {
      "needs_background": "light"
     },
     "output_type": "display_data"
    }
   ],
   "source": [
    "N, train_score, val_score = learning_curve(mlp, X_src, Y_src,\n",
    "                                           train_sizes=np.linspace(0.1, 1, 10), cv=20)\n",
    "print(N)\n",
    "plt.plot(N, train_score.mean(axis=1), label='train')\n",
    "plt.plot(N, val_score.mean(axis=1), label='validation')\n",
    "plt.xlabel('train_sizes')\n",
    "plt.legend()"
   ]
  },
  {
   "cell_type": "code",
   "execution_count": 39,
   "id": "249ade93",
   "metadata": {},
   "outputs": [
    {
     "name": "stdout",
     "output_type": "stream",
     "text": [
      "(462, 387)\n",
      "(462,)\n"
     ]
    }
   ],
   "source": [
    "X_FULL = X_src.copy()\n",
    "Y_FULL = Y_src.copy()\n",
    "\n",
    "df_X_completed = np.concatenate((X_src, X_test))\n",
    "df_Y_completed = np.concatenate((Y_src, Y_test))\n",
    "print(df_X_completed.shape)\n",
    "print(df_Y_completed.shape)"
   ]
  },
  {
   "cell_type": "code",
   "execution_count": 40,
   "id": "3aa75e80",
   "metadata": {},
   "outputs": [
    {
     "name": "stdout",
     "output_type": "stream",
     "text": [
      "[ 43  87 131 175 219 262 306 350 394 438]\n"
     ]
    },
    {
     "data": {
      "text/plain": [
       "<matplotlib.legend.Legend at 0x1f00780cbb0>"
      ]
     },
     "execution_count": 40,
     "metadata": {},
     "output_type": "execute_result"
    },
    {
     "data": {
      "image/png": "[encoded data removed]",
      "text/plain": [
       "<Figure size 432x288 with 1 Axes>"
      ]
     },
     "metadata": {
      "needs_background": "light"
     },
     "output_type": "display_data"
    }
   ],
   "source": [
    "N, train_score, val_score = learning_curve(mlp, df_X_completed, df_Y_completed,\n",
    "                                           train_sizes=np.linspace(0.1, 1, 10), cv=20)\n",
    "print(N)\n",
    "plt.plot(N, train_score.mean(axis=1), label='train')\n",
    "plt.plot(N, val_score.mean(axis=1), label='validation')\n",
    "plt.xlabel('train_sizes')\n",
    "plt.legend()"
   ]
  },
  {
   "cell_type": "markdown",
   "metadata": {},
   "source": [
    "<div style=\"display: flex; background-color: indigo;\" >\n",
    "\n",
    "#### Analyse\n",
    "</div>\n",
    "\n",
    "Sur les 2 courbes d'apprentissage précédentes, on voit qu'il y a un problème d'apprentissage, car le score du train reste à 1.          \n",
    "Le modèle ne sait donc pas qu'il n'a pas correctement appris.         \n",
    "Essai avec d'autres modèles pour voir s'il s'agit d'un soucis de sélection du modèle ou d'un manque de données ou les deux."
   ]
  },
  {
   "cell_type": "code",
   "execution_count": 42,
   "id": "2263750d",
   "metadata": {},
   "outputs": [
    {
     "name": "stdout",
     "output_type": "stream",
     "text": [
      "[ 43  87 131 175 219 262 306 350 394 438]\n"
     ]
    },
    {
     "data": {
      "text/plain": [
       "<matplotlib.legend.Legend at 0x1f0079141c0>"
      ]
     },
     "execution_count": 42,
     "metadata": {},
     "output_type": "execute_result"
    },
    {
     "data": {
      "image/png": "[encoded data removed]",
      "text/plain": [
       "<Figure size 432x288 with 1 Axes>"
      ]
     },
     "metadata": {
      "needs_background": "light"
     },
     "output_type": "display_data"
    }
   ],
   "source": [
    "from sklearn.neighbors import KNeighborsClassifier\n",
    "\n",
    "model = KNeighborsClassifier()\n",
    "N, train_score, val_score = learning_curve(model, df_X_completed, df_Y_completed,\n",
    "                                           train_sizes=np.linspace(0.1, 1, 10), cv=20)\n",
    "\n",
    "print(N)\n",
    "plt.plot(N, train_score.mean(axis=1), label='train')\n",
    "plt.plot(N, val_score.mean(axis=1), label='validation')\n",
    "plt.xlabel('train_sizes')\n",
    "plt.legend()"
   ]
  },
  {
   "cell_type": "code",
   "execution_count": null,
   "id": "2263750d",
   "metadata": {},
   "outputs": [
    {
     "name": "stdout",
     "output_type": "stream",
     "text": [
      "[ 38  76 114 152 190 228 266 304 342 380]\n"
     ]
    },
    {
     "data": {
      "text/plain": [
       "<matplotlib.legend.Legend at 0x1f007962850>"
      ]
     },
     "metadata": {},
     "output_type": "display_data"
    },
    {
     "data": {
      "image/png": "[encoded data removed]",
      "text/plain": [
       "<Figure size 432x288 with 1 Axes>"
      ]
     },
     "metadata": {},
     "output_type": "display_data"
    }
   ],
   "source": [
    "from sklearn.neighbors import KNeighborsClassifier\n",
    "\n",
    "model = KNeighborsClassifier()\n",
    "N, train_score, val_score = learning_curve(model, X_src, Y_src,\n",
    "                                           train_sizes=np.linspace(0.1, 1, 10), cv=20)\n",
    "\n",
    "print(N)\n",
    "plt.plot(N, train_score.mean(axis=1), label='train')\n",
    "plt.plot(N, val_score.mean(axis=1), label='validation')\n",
    "plt.xlabel('train_sizes')\n",
    "plt.legend()"
   ]
  },
  {
   "cell_type": "code",
   "execution_count": 43,
   "id": "890d0eff",
   "metadata": {},
   "outputs": [
    {
     "name": "stdout",
     "output_type": "stream",
     "text": [
      "[ 43  87 131 175 219 262 306 350 394 438]\n"
     ]
    },
    {
     "data": {
      "text/plain": [
       "<matplotlib.legend.Legend at 0x1f00580e790>"
      ]
     },
     "execution_count": 43,
     "metadata": {},
     "output_type": "execute_result"
    },
    {
     "data": {
      "image/png": "[encoded data removed]",
      "text/plain": [
       "<Figure size 432x288 with 1 Axes>"
      ]
     },
     "metadata": {
      "needs_background": "light"
     },
     "output_type": "display_data"
    }
   ],
   "source": [
    "N, train_score, val_score = learning_curve(sv, df_X_completed, df_Y_completed,\n",
    "                                           train_sizes=np.linspace(0.1, 1, 10), cv=20)\n",
    "print(N)\n",
    "plt.plot(N, train_score.mean(axis=1), label='train')\n",
    "plt.plot(N, val_score.mean(axis=1), label='validation')\n",
    "plt.xlabel('train_sizes')\n",
    "plt.legend()"
   ]
  },
  {
   "cell_type": "markdown",
   "id": "5b72c44c",
   "metadata": {},
   "source": [
    "<div style=\"display: flex; background-color: indigo;\" >\n",
    "\n",
    "#### Analyse\n",
    "</div>\n",
    "\n",
    "Ces 2 modèles semblent plus pertinents, cependant nous notons qu'il manque également des données pour obtenir des résulats satisfaisants."
   ]
  },
  {
   "cell_type": "markdown",
   "id": "dc0c802f",
   "metadata": {},
   "source": [
    "<div style=\"display: flex; background-color: Blue; padding: 15px;\" >\n",
    "\n",
    "## 8.ACP\n",
    "</div>\n",
    "\n",
    "Utilisation de l'ACP pour réduire les données"
   ]
  },
  {
   "cell_type": "code",
   "execution_count": 44,
   "id": "4f845abf",
   "metadata": {},
   "outputs": [],
   "source": [
    "from sklearn import decomposition\n",
    "from sklearn import preprocessing"
   ]
  },
  {
   "cell_type": "code",
   "execution_count": 45,
   "id": "1bb38c82",
   "metadata": {},
   "outputs": [
    {
     "name": "stdout",
     "output_type": "stream",
     "text": [
      "0 NAN\n"
     ]
    },
    {
     "data": {
      "text/plain": [
       "(320, 387)"
      ]
     },
     "execution_count": 45,
     "metadata": {},
     "output_type": "execute_result"
    }
   ],
   "source": [
    "# selection des colonnes à prendre en compte dans l'ACP\n",
    "df_centre_reduit = pd.DataFrame(X.copy())\n",
    "print(\"{:_} NAN\".format(df_centre_reduit.isna().sum().sum()))\n",
    "df_centre_reduit.shape"
   ]
  },
  {
   "cell_type": "code",
   "execution_count": 47,
   "id": "47416f50",
   "metadata": {},
   "outputs": [
    {
     "data": {
      "text/plain": [
       "387"
      ]
     },
     "execution_count": 47,
     "metadata": {},
     "output_type": "execute_result"
    }
   ],
   "source": [
    "df_centre_reduit.shape[1]"
   ]
  },
  {
   "cell_type": "code",
   "execution_count": 48,
   "id": "02c47d26",
   "metadata": {},
   "outputs": [
    {
     "data": {
      "text/html": [
       "<div>\n",
       "<style scoped>\n",
       "    .dataframe tbody tr th:only-of-type {\n",
       "        vertical-align: middle;\n",
       "    }\n",
       "\n",
       "    .dataframe tbody tr th {\n",
       "        vertical-align: top;\n",
       "    }\n",
       "\n",
       "    .dataframe thead th {\n",
       "        text-align: right;\n",
       "    }\n",
       "</style>\n",
       "<table border=\"1\" class=\"dataframe\">\n",
       "  <thead>\n",
       "    <tr style=\"text-align: right;\">\n",
       "      <th></th>\n",
       "      <th>F1</th>\n",
       "      <th>F2</th>\n",
       "      <th>F3</th>\n",
       "      <th>F4</th>\n",
       "      <th>F5</th>\n",
       "      <th>F6</th>\n",
       "      <th>F7</th>\n",
       "      <th>F8</th>\n",
       "      <th>F9</th>\n",
       "      <th>F10</th>\n",
       "      <th>...</th>\n",
       "      <th>F311</th>\n",
       "      <th>F312</th>\n",
       "      <th>F313</th>\n",
       "      <th>F314</th>\n",
       "      <th>F315</th>\n",
       "      <th>F316</th>\n",
       "      <th>F317</th>\n",
       "      <th>F318</th>\n",
       "      <th>F319</th>\n",
       "      <th>F320</th>\n",
       "    </tr>\n",
       "  </thead>\n",
       "  <tbody>\n",
       "    <tr>\n",
       "      <th>0</th>\n",
       "      <td>2.569883</td>\n",
       "      <td>-4.970420</td>\n",
       "      <td>-1.866799</td>\n",
       "      <td>2.043810</td>\n",
       "      <td>2.083078</td>\n",
       "      <td>0.945196</td>\n",
       "      <td>-2.361108</td>\n",
       "      <td>-2.718373</td>\n",
       "      <td>-0.968502</td>\n",
       "      <td>0.652876</td>\n",
       "      <td>...</td>\n",
       "      <td>0.102211</td>\n",
       "      <td>-0.039137</td>\n",
       "      <td>0.014012</td>\n",
       "      <td>2.334442e-15</td>\n",
       "      <td>2.567338e-17</td>\n",
       "      <td>2.380123e-18</td>\n",
       "      <td>1.270578e-17</td>\n",
       "      <td>1.409917e-18</td>\n",
       "      <td>1.227973e-19</td>\n",
       "      <td>9.715729e-21</td>\n",
       "    </tr>\n",
       "    <tr>\n",
       "      <th>1</th>\n",
       "      <td>-2.659327</td>\n",
       "      <td>-7.506030</td>\n",
       "      <td>1.102903</td>\n",
       "      <td>0.471960</td>\n",
       "      <td>4.470842</td>\n",
       "      <td>3.841337</td>\n",
       "      <td>3.099844</td>\n",
       "      <td>0.057876</td>\n",
       "      <td>2.818990</td>\n",
       "      <td>0.842672</td>\n",
       "      <td>...</td>\n",
       "      <td>0.022472</td>\n",
       "      <td>-0.002752</td>\n",
       "      <td>0.039783</td>\n",
       "      <td>2.334442e-15</td>\n",
       "      <td>2.567338e-17</td>\n",
       "      <td>2.380123e-18</td>\n",
       "      <td>1.270578e-17</td>\n",
       "      <td>1.409917e-18</td>\n",
       "      <td>1.227973e-19</td>\n",
       "      <td>9.715729e-21</td>\n",
       "    </tr>\n",
       "    <tr>\n",
       "      <th>2</th>\n",
       "      <td>-9.099183</td>\n",
       "      <td>-1.913937</td>\n",
       "      <td>-1.013016</td>\n",
       "      <td>-0.638704</td>\n",
       "      <td>1.598062</td>\n",
       "      <td>0.797690</td>\n",
       "      <td>0.000084</td>\n",
       "      <td>2.121745</td>\n",
       "      <td>1.234292</td>\n",
       "      <td>1.358258</td>\n",
       "      <td>...</td>\n",
       "      <td>0.074609</td>\n",
       "      <td>0.024654</td>\n",
       "      <td>-0.056339</td>\n",
       "      <td>2.334442e-15</td>\n",
       "      <td>2.567338e-17</td>\n",
       "      <td>2.380123e-18</td>\n",
       "      <td>1.270578e-17</td>\n",
       "      <td>1.409917e-18</td>\n",
       "      <td>1.227973e-19</td>\n",
       "      <td>9.715729e-21</td>\n",
       "    </tr>\n",
       "    <tr>\n",
       "      <th>3</th>\n",
       "      <td>4.068019</td>\n",
       "      <td>5.899777</td>\n",
       "      <td>0.126964</td>\n",
       "      <td>-0.634317</td>\n",
       "      <td>-1.583541</td>\n",
       "      <td>2.310421</td>\n",
       "      <td>-0.249929</td>\n",
       "      <td>-0.508881</td>\n",
       "      <td>-0.641772</td>\n",
       "      <td>0.471213</td>\n",
       "      <td>...</td>\n",
       "      <td>0.034883</td>\n",
       "      <td>0.107881</td>\n",
       "      <td>-0.115480</td>\n",
       "      <td>2.334442e-15</td>\n",
       "      <td>2.567338e-17</td>\n",
       "      <td>2.380123e-18</td>\n",
       "      <td>1.270578e-17</td>\n",
       "      <td>1.409917e-18</td>\n",
       "      <td>1.227973e-19</td>\n",
       "      <td>9.715729e-21</td>\n",
       "    </tr>\n",
       "    <tr>\n",
       "      <th>4</th>\n",
       "      <td>4.350960</td>\n",
       "      <td>0.068306</td>\n",
       "      <td>6.814568</td>\n",
       "      <td>-3.136320</td>\n",
       "      <td>-0.281831</td>\n",
       "      <td>1.474253</td>\n",
       "      <td>-1.321269</td>\n",
       "      <td>-2.800180</td>\n",
       "      <td>-0.915468</td>\n",
       "      <td>0.370280</td>\n",
       "      <td>...</td>\n",
       "      <td>0.002877</td>\n",
       "      <td>0.098375</td>\n",
       "      <td>0.059350</td>\n",
       "      <td>2.334442e-15</td>\n",
       "      <td>2.567338e-17</td>\n",
       "      <td>2.380123e-18</td>\n",
       "      <td>1.270578e-17</td>\n",
       "      <td>1.409917e-18</td>\n",
       "      <td>1.227973e-19</td>\n",
       "      <td>9.715729e-21</td>\n",
       "    </tr>\n",
       "    <tr>\n",
       "      <th>...</th>\n",
       "      <td>...</td>\n",
       "      <td>...</td>\n",
       "      <td>...</td>\n",
       "      <td>...</td>\n",
       "      <td>...</td>\n",
       "      <td>...</td>\n",
       "      <td>...</td>\n",
       "      <td>...</td>\n",
       "      <td>...</td>\n",
       "      <td>...</td>\n",
       "      <td>...</td>\n",
       "      <td>...</td>\n",
       "      <td>...</td>\n",
       "      <td>...</td>\n",
       "      <td>...</td>\n",
       "      <td>...</td>\n",
       "      <td>...</td>\n",
       "      <td>...</td>\n",
       "      <td>...</td>\n",
       "      <td>...</td>\n",
       "      <td>...</td>\n",
       "    </tr>\n",
       "    <tr>\n",
       "      <th>315</th>\n",
       "      <td>-3.651186</td>\n",
       "      <td>-4.513629</td>\n",
       "      <td>4.460145</td>\n",
       "      <td>-1.028940</td>\n",
       "      <td>-2.264156</td>\n",
       "      <td>-0.644687</td>\n",
       "      <td>2.510901</td>\n",
       "      <td>-0.905395</td>\n",
       "      <td>1.762208</td>\n",
       "      <td>-0.068695</td>\n",
       "      <td>...</td>\n",
       "      <td>-0.015614</td>\n",
       "      <td>0.137319</td>\n",
       "      <td>0.152627</td>\n",
       "      <td>2.334442e-15</td>\n",
       "      <td>2.567338e-17</td>\n",
       "      <td>2.380123e-18</td>\n",
       "      <td>1.270578e-17</td>\n",
       "      <td>1.409917e-18</td>\n",
       "      <td>1.227973e-19</td>\n",
       "      <td>9.715729e-21</td>\n",
       "    </tr>\n",
       "    <tr>\n",
       "      <th>316</th>\n",
       "      <td>6.257803</td>\n",
       "      <td>5.660337</td>\n",
       "      <td>-5.940054</td>\n",
       "      <td>-0.067815</td>\n",
       "      <td>0.451012</td>\n",
       "      <td>1.742906</td>\n",
       "      <td>2.763875</td>\n",
       "      <td>0.813547</td>\n",
       "      <td>1.031388</td>\n",
       "      <td>1.972567</td>\n",
       "      <td>...</td>\n",
       "      <td>0.108894</td>\n",
       "      <td>-0.183984</td>\n",
       "      <td>0.010306</td>\n",
       "      <td>2.334442e-15</td>\n",
       "      <td>2.567338e-17</td>\n",
       "      <td>2.380123e-18</td>\n",
       "      <td>1.270578e-17</td>\n",
       "      <td>1.409917e-18</td>\n",
       "      <td>1.227973e-19</td>\n",
       "      <td>9.715729e-21</td>\n",
       "    </tr>\n",
       "    <tr>\n",
       "      <th>317</th>\n",
       "      <td>-2.610396</td>\n",
       "      <td>-0.923256</td>\n",
       "      <td>1.475301</td>\n",
       "      <td>3.187075</td>\n",
       "      <td>-6.189090</td>\n",
       "      <td>0.637336</td>\n",
       "      <td>-1.103789</td>\n",
       "      <td>-1.019805</td>\n",
       "      <td>-0.596011</td>\n",
       "      <td>-0.979419</td>\n",
       "      <td>...</td>\n",
       "      <td>-0.004326</td>\n",
       "      <td>0.028047</td>\n",
       "      <td>-0.196081</td>\n",
       "      <td>2.334442e-15</td>\n",
       "      <td>2.567338e-17</td>\n",
       "      <td>2.380123e-18</td>\n",
       "      <td>1.270578e-17</td>\n",
       "      <td>1.409917e-18</td>\n",
       "      <td>1.227973e-19</td>\n",
       "      <td>9.715729e-21</td>\n",
       "    </tr>\n",
       "    <tr>\n",
       "      <th>318</th>\n",
       "      <td>0.471597</td>\n",
       "      <td>-1.065735</td>\n",
       "      <td>-3.550174</td>\n",
       "      <td>1.043543</td>\n",
       "      <td>3.430286</td>\n",
       "      <td>-0.953882</td>\n",
       "      <td>-1.423227</td>\n",
       "      <td>0.236020</td>\n",
       "      <td>-0.593881</td>\n",
       "      <td>1.757327</td>\n",
       "      <td>...</td>\n",
       "      <td>0.086572</td>\n",
       "      <td>0.141731</td>\n",
       "      <td>-0.043250</td>\n",
       "      <td>2.334442e-15</td>\n",
       "      <td>2.567338e-17</td>\n",
       "      <td>2.380123e-18</td>\n",
       "      <td>1.270578e-17</td>\n",
       "      <td>1.409917e-18</td>\n",
       "      <td>1.227973e-19</td>\n",
       "      <td>9.715729e-21</td>\n",
       "    </tr>\n",
       "    <tr>\n",
       "      <th>319</th>\n",
       "      <td>1.197258</td>\n",
       "      <td>2.668254</td>\n",
       "      <td>1.094697</td>\n",
       "      <td>-3.516608</td>\n",
       "      <td>-0.342099</td>\n",
       "      <td>-0.199557</td>\n",
       "      <td>1.448450</td>\n",
       "      <td>-1.589834</td>\n",
       "      <td>-0.187389</td>\n",
       "      <td>-0.263629</td>\n",
       "      <td>...</td>\n",
       "      <td>0.000551</td>\n",
       "      <td>-0.095068</td>\n",
       "      <td>-0.046441</td>\n",
       "      <td>2.334442e-15</td>\n",
       "      <td>2.567338e-17</td>\n",
       "      <td>2.380123e-18</td>\n",
       "      <td>1.270578e-17</td>\n",
       "      <td>1.409917e-18</td>\n",
       "      <td>1.227973e-19</td>\n",
       "      <td>9.715729e-21</td>\n",
       "    </tr>\n",
       "  </tbody>\n",
       "</table>\n",
       "<p>320 rows × 320 columns</p>\n",
       "</div>"
      ],
      "text/plain": [
       "           F1        F2        F3        F4        F5        F6        F7  \\\n",
       "0    2.569883 -4.970420 -1.866799  2.043810  2.083078  0.945196 -2.361108   \n",
       "1   -2.659327 -7.506030  1.102903  0.471960  4.470842  3.841337  3.099844   \n",
       "2   -9.099183 -1.913937 -1.013016 -0.638704  1.598062  0.797690  0.000084   \n",
       "3    4.068019  5.899777  0.126964 -0.634317 -1.583541  2.310421 -0.249929   \n",
       "4    4.350960  0.068306  6.814568 -3.136320 -0.281831  1.474253 -1.321269   \n",
       "..        ...       ...       ...       ...       ...       ...       ...   \n",
       "315 -3.651186 -4.513629  4.460145 -1.028940 -2.264156 -0.644687  2.510901   \n",
       "316  6.257803  5.660337 -5.940054 -0.067815  0.451012  1.742906  2.763875   \n",
       "317 -2.610396 -0.923256  1.475301  3.187075 -6.189090  0.637336 -1.103789   \n",
       "318  0.471597 -1.065735 -3.550174  1.043543  3.430286 -0.953882 -1.423227   \n",
       "319  1.197258  2.668254  1.094697 -3.516608 -0.342099 -0.199557  1.448450   \n",
       "\n",
       "           F8        F9       F10  ...      F311      F312      F313  \\\n",
       "0   -2.718373 -0.968502  0.652876  ...  0.102211 -0.039137  0.014012   \n",
       "1    0.057876  2.818990  0.842672  ...  0.022472 -0.002752  0.039783   \n",
       "2    2.121745  1.234292  1.358258  ...  0.074609  0.024654 -0.056339   \n",
       "3   -0.508881 -0.641772  0.471213  ...  0.034883  0.107881 -0.115480   \n",
       "4   -2.800180 -0.915468  0.370280  ...  0.002877  0.098375  0.059350   \n",
       "..        ...       ...       ...  ...       ...       ...       ...   \n",
       "315 -0.905395  1.762208 -0.068695  ... -0.015614  0.137319  0.152627   \n",
       "316  0.813547  1.031388  1.972567  ...  0.108894 -0.183984  0.010306   \n",
       "317 -1.019805 -0.596011 -0.979419  ... -0.004326  0.028047 -0.196081   \n",
       "318  0.236020 -0.593881  1.757327  ...  0.086572  0.141731 -0.043250   \n",
       "319 -1.589834 -0.187389 -0.263629  ...  0.000551 -0.095068 -0.046441   \n",
       "\n",
       "             F314          F315          F316          F317          F318  \\\n",
       "0    2.334442e-15  2.567338e-17  2.380123e-18  1.270578e-17  1.409917e-18   \n",
       "1    2.334442e-15  2.567338e-17  2.380123e-18  1.270578e-17  1.409917e-18   \n",
       "2    2.334442e-15  2.567338e-17  2.380123e-18  1.270578e-17  1.409917e-18   \n",
       "3    2.334442e-15  2.567338e-17  2.380123e-18  1.270578e-17  1.409917e-18   \n",
       "4    2.334442e-15  2.567338e-17  2.380123e-18  1.270578e-17  1.409917e-18   \n",
       "..            ...           ...           ...           ...           ...   \n",
       "315  2.334442e-15  2.567338e-17  2.380123e-18  1.270578e-17  1.409917e-18   \n",
       "316  2.334442e-15  2.567338e-17  2.380123e-18  1.270578e-17  1.409917e-18   \n",
       "317  2.334442e-15  2.567338e-17  2.380123e-18  1.270578e-17  1.409917e-18   \n",
       "318  2.334442e-15  2.567338e-17  2.380123e-18  1.270578e-17  1.409917e-18   \n",
       "319  2.334442e-15  2.567338e-17  2.380123e-18  1.270578e-17  1.409917e-18   \n",
       "\n",
       "             F319          F320  \n",
       "0    1.227973e-19  9.715729e-21  \n",
       "1    1.227973e-19  9.715729e-21  \n",
       "2    1.227973e-19  9.715729e-21  \n",
       "3    1.227973e-19  9.715729e-21  \n",
       "4    1.227973e-19  9.715729e-21  \n",
       "..            ...           ...  \n",
       "315  1.227973e-19  9.715729e-21  \n",
       "316  1.227973e-19  9.715729e-21  \n",
       "317  1.227973e-19  9.715729e-21  \n",
       "318  1.227973e-19  9.715729e-21  \n",
       "319  1.227973e-19  9.715729e-21  \n",
       "\n",
       "[320 rows x 320 columns]"
      ]
     },
     "execution_count": 48,
     "metadata": {},
     "output_type": "execute_result"
    }
   ],
   "source": [
    "# must be between 0 and min(n_samples, n_features)=320 with svd_solver='full'\n",
    "# choix du nombre de composantes à calculer\n",
    "ACP_NB_COMPOSANTES = 320\n",
    "\n",
    "# préparation des données pour l'ACP\n",
    "X_acp = df_centre_reduit.values\n",
    "names = df_centre_reduit.index # ou data.index pour avoir les intitulés\n",
    "features = df_centre_reduit.columns\n",
    "\n",
    "# Centrage et Réduction\n",
    "std_scale = preprocessing.StandardScaler().fit(X_acp)\n",
    "X_scaled = std_scale.transform(X_acp)\n",
    "\n",
    "# calculer les composantes principales\n",
    "pca = decomposition.PCA(n_components=ACP_NB_COMPOSANTES)\n",
    "x_projeected = pca.fit_transform(X_scaled)\n",
    "pd.DataFrame(x_projeected, index=df_centre_reduit.index, columns=[\"F\"+str(i+1) for i in range(ACP_NB_COMPOSANTES)])"
   ]
  },
  {
   "cell_type": "code",
   "execution_count": 49,
   "id": "460e398c",
   "metadata": {},
   "outputs": [
    {
     "data": {
      "image/png": "[encoded data removed]",
      "text/plain": [
       "<Figure size 1296x504 with 1 Axes>"
      ]
     },
     "metadata": {},
     "output_type": "display_data"
    }
   ],
   "source": [
    "# Calcul des composantes principales\n",
    "pca = decomposition.PCA(n_components=ACP_NB_COMPOSANTES)\n",
    "pca.fit(X_scaled)\n",
    "\n",
    "# Eboulis des valeurs propres\n",
    "display_scree_plot(pca)"
   ]
  },
  {
   "cell_type": "code",
   "execution_count": 50,
   "id": "98d04414",
   "metadata": {},
   "outputs": [
    {
     "data": {
      "text/html": [
       "<div>\n",
       "<style scoped>\n",
       "    .dataframe tbody tr th:only-of-type {\n",
       "        vertical-align: middle;\n",
       "    }\n",
       "\n",
       "    .dataframe tbody tr th {\n",
       "        vertical-align: top;\n",
       "    }\n",
       "\n",
       "    .dataframe thead th {\n",
       "        text-align: right;\n",
       "    }\n",
       "</style>\n",
       "<table border=\"1\" class=\"dataframe\">\n",
       "  <thead>\n",
       "    <tr style=\"text-align: right;\">\n",
       "      <th></th>\n",
       "      <th>0</th>\n",
       "      <th>1</th>\n",
       "      <th>2</th>\n",
       "      <th>3</th>\n",
       "      <th>4</th>\n",
       "      <th>5</th>\n",
       "      <th>6</th>\n",
       "      <th>7</th>\n",
       "      <th>8</th>\n",
       "      <th>9</th>\n",
       "      <th>...</th>\n",
       "      <th>377</th>\n",
       "      <th>378</th>\n",
       "      <th>379</th>\n",
       "      <th>380</th>\n",
       "      <th>381</th>\n",
       "      <th>382</th>\n",
       "      <th>383</th>\n",
       "      <th>384</th>\n",
       "      <th>385</th>\n",
       "      <th>386</th>\n",
       "    </tr>\n",
       "  </thead>\n",
       "  <tbody>\n",
       "    <tr>\n",
       "      <th>0</th>\n",
       "      <td>0.000000</td>\n",
       "      <td>0.003831</td>\n",
       "      <td>0.000000</td>\n",
       "      <td>0.011494</td>\n",
       "      <td>0.00000</td>\n",
       "      <td>0.000</td>\n",
       "      <td>0.000000</td>\n",
       "      <td>0.000000</td>\n",
       "      <td>0.000000</td>\n",
       "      <td>0.003831</td>\n",
       "      <td>...</td>\n",
       "      <td>0.003831</td>\n",
       "      <td>0.000000</td>\n",
       "      <td>0.003831</td>\n",
       "      <td>0.000</td>\n",
       "      <td>0.007663</td>\n",
       "      <td>0.00000</td>\n",
       "      <td>0.003831</td>\n",
       "      <td>0.007663</td>\n",
       "      <td>0.0</td>\n",
       "      <td>0.000000</td>\n",
       "    </tr>\n",
       "    <tr>\n",
       "      <th>1</th>\n",
       "      <td>0.014706</td>\n",
       "      <td>0.000000</td>\n",
       "      <td>0.000000</td>\n",
       "      <td>0.000000</td>\n",
       "      <td>0.00000</td>\n",
       "      <td>0.000</td>\n",
       "      <td>0.000000</td>\n",
       "      <td>0.000000</td>\n",
       "      <td>0.000000</td>\n",
       "      <td>0.000000</td>\n",
       "      <td>...</td>\n",
       "      <td>0.014706</td>\n",
       "      <td>0.000000</td>\n",
       "      <td>0.000000</td>\n",
       "      <td>0.000</td>\n",
       "      <td>0.000000</td>\n",
       "      <td>0.00000</td>\n",
       "      <td>0.000000</td>\n",
       "      <td>0.000000</td>\n",
       "      <td>0.0</td>\n",
       "      <td>0.000000</td>\n",
       "    </tr>\n",
       "    <tr>\n",
       "      <th>2</th>\n",
       "      <td>0.005291</td>\n",
       "      <td>0.007937</td>\n",
       "      <td>0.002646</td>\n",
       "      <td>0.000000</td>\n",
       "      <td>0.00000</td>\n",
       "      <td>0.000</td>\n",
       "      <td>0.005291</td>\n",
       "      <td>0.010582</td>\n",
       "      <td>0.002646</td>\n",
       "      <td>0.005291</td>\n",
       "      <td>...</td>\n",
       "      <td>0.002646</td>\n",
       "      <td>0.005291</td>\n",
       "      <td>0.000000</td>\n",
       "      <td>0.000</td>\n",
       "      <td>0.007937</td>\n",
       "      <td>0.00000</td>\n",
       "      <td>0.005291</td>\n",
       "      <td>0.007937</td>\n",
       "      <td>0.0</td>\n",
       "      <td>0.010582</td>\n",
       "    </tr>\n",
       "    <tr>\n",
       "      <th>3</th>\n",
       "      <td>0.000000</td>\n",
       "      <td>0.000000</td>\n",
       "      <td>0.002000</td>\n",
       "      <td>0.002000</td>\n",
       "      <td>0.00800</td>\n",
       "      <td>0.002</td>\n",
       "      <td>0.004000</td>\n",
       "      <td>0.002000</td>\n",
       "      <td>0.000000</td>\n",
       "      <td>0.004000</td>\n",
       "      <td>...</td>\n",
       "      <td>0.000000</td>\n",
       "      <td>0.000000</td>\n",
       "      <td>0.008000</td>\n",
       "      <td>0.016</td>\n",
       "      <td>0.000000</td>\n",
       "      <td>0.00400</td>\n",
       "      <td>0.000000</td>\n",
       "      <td>0.002000</td>\n",
       "      <td>0.0</td>\n",
       "      <td>0.002000</td>\n",
       "    </tr>\n",
       "    <tr>\n",
       "      <th>4</th>\n",
       "      <td>0.000000</td>\n",
       "      <td>0.000000</td>\n",
       "      <td>0.000000</td>\n",
       "      <td>0.005420</td>\n",
       "      <td>0.00542</td>\n",
       "      <td>0.000</td>\n",
       "      <td>0.002710</td>\n",
       "      <td>0.000000</td>\n",
       "      <td>0.005420</td>\n",
       "      <td>0.000000</td>\n",
       "      <td>...</td>\n",
       "      <td>0.000000</td>\n",
       "      <td>0.000000</td>\n",
       "      <td>0.000000</td>\n",
       "      <td>0.000</td>\n",
       "      <td>0.002710</td>\n",
       "      <td>0.00271</td>\n",
       "      <td>0.005420</td>\n",
       "      <td>0.000000</td>\n",
       "      <td>0.0</td>\n",
       "      <td>0.002710</td>\n",
       "    </tr>\n",
       "  </tbody>\n",
       "</table>\n",
       "<p>5 rows × 387 columns</p>\n",
       "</div>"
      ],
      "text/plain": [
       "        0         1         2         3        4      5         6         7    \\\n",
       "0  0.000000  0.003831  0.000000  0.011494  0.00000  0.000  0.000000  0.000000   \n",
       "1  0.014706  0.000000  0.000000  0.000000  0.00000  0.000  0.000000  0.000000   \n",
       "2  0.005291  0.007937  0.002646  0.000000  0.00000  0.000  0.005291  0.010582   \n",
       "3  0.000000  0.000000  0.002000  0.002000  0.00800  0.002  0.004000  0.002000   \n",
       "4  0.000000  0.000000  0.000000  0.005420  0.00542  0.000  0.002710  0.000000   \n",
       "\n",
       "        8         9    ...       377       378       379    380       381  \\\n",
       "0  0.000000  0.003831  ...  0.003831  0.000000  0.003831  0.000  0.007663   \n",
       "1  0.000000  0.000000  ...  0.014706  0.000000  0.000000  0.000  0.000000   \n",
       "2  0.002646  0.005291  ...  0.002646  0.005291  0.000000  0.000  0.007937   \n",
       "3  0.000000  0.004000  ...  0.000000  0.000000  0.008000  0.016  0.000000   \n",
       "4  0.005420  0.000000  ...  0.000000  0.000000  0.000000  0.000  0.002710   \n",
       "\n",
       "       382       383       384  385       386  \n",
       "0  0.00000  0.003831  0.007663  0.0  0.000000  \n",
       "1  0.00000  0.000000  0.000000  0.0  0.000000  \n",
       "2  0.00000  0.005291  0.007937  0.0  0.010582  \n",
       "3  0.00400  0.000000  0.002000  0.0  0.002000  \n",
       "4  0.00271  0.005420  0.000000  0.0  0.002710  \n",
       "\n",
       "[5 rows x 387 columns]"
      ]
     },
     "execution_count": 50,
     "metadata": {},
     "output_type": "execute_result"
    }
   ],
   "source": [
    "df_centre_reduit.head()"
   ]
  },
  {
   "cell_type": "code",
   "execution_count": 51,
   "id": "cf6b2ece",
   "metadata": {},
   "outputs": [],
   "source": [
    "# choix du nombre de composantes à calculer\n",
    "ACP_NB_COMPOSANTES = 150\n",
    "\n",
    "axis_ranks = []\n",
    "\n",
    "for i in range (0, ACP_NB_COMPOSANTES, 2):\n",
    "    axis_ranks.append((i,i+1))"
   ]
  },
  {
   "cell_type": "code",
   "execution_count": 52,
   "id": "6f9a020a",
   "metadata": {},
   "outputs": [
    {
     "data": {
      "image/png": "[encoded data removed]",
      "text/plain": [
       "<Figure size 1296x504 with 1 Axes>"
      ]
     },
     "metadata": {},
     "output_type": "display_data"
    }
   ],
   "source": [
    "# Calcul des composantes principales\n",
    "pca = decomposition.PCA(n_components=ACP_NB_COMPOSANTES)\n",
    "pca.fit(X_scaled)\n",
    "\n",
    "# Eboulis des valeurs propres\n",
    "display_scree_plot(pca)"
   ]
  },
  {
   "cell_type": "code",
   "execution_count": 53,
   "id": "892c293e",
   "metadata": {},
   "outputs": [],
   "source": [
    "# Projection des individus\n",
    "X_projected = pca.transform(X_scaled)\n",
    "pcs = pca.components_"
   ]
  },
  {
   "cell_type": "markdown",
   "id": "dc0c802f",
   "metadata": {},
   "source": [
    "<div style=\"display: flex; background-color: Green; padding: 7px;\" >\n",
    "\n",
    "### ACP. Prédictions\n",
    "</div>"
   ]
  },
  {
   "cell_type": "code",
   "execution_count": 54,
   "id": "0cc6c1bb",
   "metadata": {},
   "outputs": [
    {
     "data": {
      "text/plain": [
       "1.0"
      ]
     },
     "execution_count": 54,
     "metadata": {},
     "output_type": "execute_result"
    }
   ],
   "source": [
    "mlp_acp = MLPClassifier(verbose=verbose, max_iter=600000)\n",
    "mlp_acp.fit(X_acp, Y)\n",
    "mlp_acp.score(X_acp, Y)"
   ]
  },
  {
   "cell_type": "code",
   "execution_count": 55,
   "id": "340cdcdb",
   "metadata": {},
   "outputs": [
    {
     "name": "stdout",
     "output_type": "stream",
     "text": [
      "0 NAN sur (62, 387)\n",
      "Score test ACP : 0.5\n"
     ]
    }
   ],
   "source": [
    "# selection des colonnes à prendre en compte dans l'ACP\n",
    "df_centre_reduit_test = pd.DataFrame(X_test.copy())\n",
    "print(f\"{df_centre_reduit_test.isna().sum().sum()} NAN sur {df_centre_reduit_test.shape}\")\n",
    "\n",
    "# préparation des données pour l'ACP\n",
    "X_acp_test = df_centre_reduit_test.values\n",
    "names_test = df_centre_reduit_test.index # ou data.index pour avoir les intitulés\n",
    "features_test = df_centre_reduit_test.columns\n",
    "\n",
    "# Centrage et Réduction\n",
    "std_scale_test = preprocessing.StandardScaler().fit(X_acp_test)\n",
    "X_scaled_test = std_scale.transform(X_acp_test)\n",
    "\n",
    "# calculer les composantes principales\n",
    "print(f\"Score test ACP : {round(mlp_acp.score(X_acp_test, Y_test),2)}\")"
   ]
  },
  {
   "cell_type": "markdown",
   "id": "dc0c802f",
   "metadata": {},
   "source": [
    "<div style=\"display: flex; background-color: Blue; padding: 15px;\" >\n",
    "\n",
    "## 8.T-SNE\n",
    "</div>\n",
    "\n",
    "Utilisation de T-SNE pour réduire les données"
   ]
  },
  {
   "cell_type": "code",
   "execution_count": 56,
   "id": "2d0e44e5",
   "metadata": {},
   "outputs": [],
   "source": [
    "from sklearn.manifold import TSNE"
   ]
  },
  {
   "cell_type": "markdown",
   "id": "ecc86ec8",
   "metadata": {},
   "source": [
    "Il faut refaire l'ACP sur l'ensemble des données car le T-SNE ne peut pas être appliqué sur une sous partie, l'ensemble des données doit être traité en même temps."
   ]
  },
  {
   "cell_type": "code",
   "execution_count": 58,
   "id": "bba726b8",
   "metadata": {},
   "outputs": [],
   "source": [
    "df_centre_reduit_acp = pd.DataFrame(X_src.copy())"
   ]
  },
  {
   "cell_type": "code",
   "execution_count": 59,
   "id": "fb6886c9",
   "metadata": {},
   "outputs": [],
   "source": [
    "# préparation des données pour l'ACP\n",
    "X_full_acp = df_centre_reduit_acp.values\n",
    "features_full = df_centre_reduit_acp.columns\n",
    "\n",
    "# Centrage et Réduction\n",
    "std_scale_full = preprocessing.StandardScaler().fit(X_full_acp)\n",
    "X_scaled_full = std_scale_full.transform(X_full_acp)\n",
    "\n",
    "# calculer les composantes principales\n",
    "pca_full = decomposition.PCA(n_components=ACP_NB_COMPOSANTES)\n",
    "x_projeected_full = pca_full.fit_transform(X_scaled_full)"
   ]
  },
  {
   "cell_type": "code",
   "execution_count": 60,
   "id": "097fe91a",
   "metadata": {},
   "outputs": [],
   "source": [
    "X_tsne = TSNE(random_state = random_state, verbose=verbose, perplexity=40, n_iter=300, init='random', learning_rate=200.0).fit_transform(x_projeected_full)"
   ]
  },
  {
   "cell_type": "code",
   "execution_count": 61,
   "id": "cce50445",
   "metadata": {},
   "outputs": [],
   "source": [
    "X_train_tsne, X_test_tsne, Y_train_tsne, Y_test_tsne = train_test_split(X_tsne, Y_src, test_size=0.2, random_state=random_state)"
   ]
  },
  {
   "cell_type": "markdown",
   "id": "dc0c802f",
   "metadata": {},
   "source": [
    "<div style=\"display: flex; background-color: Green; padding: 7px;\" >\n",
    "\n",
    "### T-SNE Prédictions\n",
    "</div>"
   ]
  },
  {
   "cell_type": "code",
   "execution_count": 63,
   "id": "0cc6c1bb",
   "metadata": {},
   "outputs": [
    {
     "name": "stdout",
     "output_type": "stream",
     "text": [
      "Train : 0.6125\n",
      "Test  : 0.54\n"
     ]
    }
   ],
   "source": [
    "mlp_tsne = MLPClassifier(verbose=verbose, max_iter=600000)\n",
    "mlp_tsne.fit(X_train_tsne, Y_train_tsne)\n",
    "print(\"Train :\", mlp_tsne.score(X_train_tsne, Y_train_tsne))\n",
    "print(\"Test  :\", round(mlp_tsne.score(X_test_tsne, Y_test_tsne),2))"
   ]
  },
  {
   "cell_type": "markdown",
   "id": "dc0c802f",
   "metadata": {},
   "source": [
    "<div style=\"display: flex; background-color: Blue; padding: 15px;\" >\n",
    "\n",
    "## 11.K-MEANS - Non supervisé\n",
    "</div>"
   ]
  },
  {
   "cell_type": "code",
   "execution_count": 64,
   "id": "798a404a",
   "metadata": {},
   "outputs": [],
   "source": [
    "from sklearn.cluster import KMeans"
   ]
  },
  {
   "cell_type": "code",
   "execution_count": 65,
   "id": "1dbd5f24",
   "metadata": {},
   "outputs": [
    {
     "data": {
      "text/plain": [
       "array([[8.71246202e-04, 1.28140099e-03, 1.30845887e-03, ...,\n",
       "        6.74468506e-04, 1.37971117e-03, 2.28504843e-03],\n",
       "       [7.95286114e-03, 1.89387755e-03, 2.66666667e-04, ...,\n",
       "        5.33333333e-04, 5.42101086e-20, 1.85975929e-03],\n",
       "       [3.10756406e-03, 4.03350968e-03, 2.52908011e-03, ...,\n",
       "        1.82691867e-03, 2.46769997e-04, 3.12722479e-03],\n",
       "       [4.33680869e-19, 0.00000000e+00, 0.00000000e+00, ...,\n",
       "        2.16840434e-19, 5.42101086e-20, 1.99600798e-03]])"
      ]
     },
     "execution_count": 65,
     "metadata": {},
     "output_type": "execute_result"
    }
   ],
   "source": [
    "kmeans = KMeans(n_clusters=4, random_state=random_state).fit(X)\n",
    "y_pred = kmeans.predict(X)\n",
    "centroids = kmeans.cluster_centers_\n",
    "centroids"
   ]
  },
  {
   "cell_type": "code",
   "execution_count": 66,
   "id": "16eeb964",
   "metadata": {},
   "outputs": [
    {
     "data": {
      "text/plain": [
       "array([2, 2, 2, 2, 2, 0, 2, 2, 0, 0, 2, 2, 0, 2, 2, 2, 2, 2, 2, 1, 2, 2,\n",
       "       0, 0, 2, 2, 2, 0, 2, 2, 2, 2, 2, 2, 0, 2, 2, 2, 0, 2, 2, 2, 2, 0,\n",
       "       2, 2, 2, 2, 2, 2, 2, 2, 2, 2, 0, 2, 2, 2, 0, 2, 2, 2, 2, 2, 2, 2,\n",
       "       0, 2, 2, 2, 0, 2, 0, 0, 0, 2, 2, 2, 2, 2, 2, 2, 2, 2, 2, 2, 0, 2,\n",
       "       2, 2, 0, 2, 2, 2, 0, 2, 3, 2, 0, 1, 0, 0, 2, 1, 2, 0, 2, 2, 0, 2,\n",
       "       1, 1, 0, 2, 2, 2, 2, 0, 0, 1, 2, 2, 2, 0, 2, 2, 2, 2, 0, 2, 2, 2,\n",
       "       2, 2, 2, 2, 2, 2, 2, 2, 2, 2, 2, 2, 2, 2, 2, 2, 2, 2, 2, 0, 1, 2,\n",
       "       0, 0, 2, 0, 2, 2, 0, 2, 2, 2, 2, 0, 2, 2, 0, 2, 2, 2, 2, 2, 0, 0,\n",
       "       0, 2, 2, 2, 2, 3, 2, 2, 0, 2, 0, 2, 2, 2, 2, 0, 0, 2, 2, 2, 2, 2,\n",
       "       2, 2, 2, 2, 1, 2, 2, 2, 2, 0, 2, 3, 0, 2, 2, 2, 0, 2, 2, 2, 2, 2,\n",
       "       0, 0, 2, 1, 2, 0, 2, 0, 2, 0, 0, 2, 0, 2, 2, 2, 2, 2, 2, 2, 2, 0,\n",
       "       2, 2, 2, 0, 2, 2, 2, 1, 2, 2, 2, 2, 2, 2, 0, 2, 2, 0, 2, 2, 2, 2,\n",
       "       2, 1, 2, 2, 2, 2, 2, 2, 0, 2, 2, 1, 2, 2, 2, 0, 0, 1, 2, 2, 0, 2,\n",
       "       2, 2, 1, 2, 2, 2, 2, 2, 2, 2, 2, 0, 2, 2, 0, 2, 2, 0, 2, 2, 2, 0,\n",
       "       2, 2, 1, 2, 0, 2, 2, 2, 0, 2, 2, 2])"
      ]
     },
     "execution_count": 66,
     "metadata": {},
     "output_type": "execute_result"
    }
   ],
   "source": [
    "y_pred"
   ]
  },
  {
   "cell_type": "code",
   "execution_count": 79,
   "id": "739e0b08",
   "metadata": {},
   "outputs": [
    {
     "name": "stdout",
     "output_type": "stream",
     "text": [
      "[[  0  68]\n",
      " [  1  15]\n",
      " [  2 234]\n",
      " [  3   3]]\n",
      "sur 320 images, soit 80 attendus par target\n"
     ]
    }
   ],
   "source": [
    "unique, counts = np.unique(y_pred, return_counts=True)\n",
    "print (np.asarray((unique, counts)).T)\n",
    "print (\"sur\", len(y_pred), \"images, soit\", round(len(y_pred)/4), \"attendus par target\")"
   ]
  },
  {
   "cell_type": "code",
   "execution_count": null,
   "id": "3296b8e9",
   "metadata": {},
   "outputs": [],
   "source": []
  },
  {
   "cell_type": "code",
   "execution_count": 69,
   "id": "d6bf8bf1",
   "metadata": {},
   "outputs": [
    {
     "data": {
      "text/plain": [
       "-2.56"
      ]
     },
     "execution_count": 69,
     "metadata": {},
     "output_type": "execute_result"
    }
   ],
   "source": [
    "round(kmeans.score(X, Y),2)"
   ]
  },
  {
   "cell_type": "markdown",
   "id": "499cd9b7",
   "metadata": {},
   "source": [
    "<div style=\"display: flex; background-color: Blue; padding: 15px;\" >\n",
    "\n",
    "## Annexes\n",
    "</div>"
   ]
  }
 ],
 "metadata": {
  "kernelspec": {
   "display_name": "Python 3",
   "language": "python",
   "name": "python3"
  },
  "language_info": {
   "codemirror_mode": {
    "name": "ipython",
    "version": 3
   },
   "file_extension": ".py",
   "mimetype": "text/x-python",
   "name": "python",
   "nbconvert_exporter": "python",
   "pygments_lexer": "ipython3",
   "version": "3.9.10"
  }
 },
 "nbformat": 4,
 "nbformat_minor": 5
}
