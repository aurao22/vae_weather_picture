{
 "cells": [
  {
   "cell_type": "markdown",
   "id": "62ba0bbb",
   "metadata": {
    "colab_type": "text",
    "id": "H_Gm-cSqpXa1"
   },
   "source": [
    "<div style=\"display: flex; background-color: RGB(255,114,0); padding: 30px;\" >\n",
    "\n",
    "# Weather\n",
    "</div>\n",
    "by : Ellande, Vincent et Aurélie"
   ]
  },
  {
   "cell_type": "markdown",
   "id": "9e1d5373",
   "metadata": {},
   "source": [
    "<div style=\"display: flex; background-color: Blue; padding: 15px;\" >\n",
    "\n",
    "## 0.Mission \n",
    "</div>"
   ]
  },
  {
   "cell_type": "markdown",
   "id": "4a1ad893",
   "metadata": {
    "id": "WOyAbs11eTkG"
   },
   "source": [
    "Une appli internationale de météo vous engage pour vérifier s'il est possible de détecter et classer de manière **non supervisée** la catégorie météo d'un jeu d'images (sachant que la détectation de manière supervisée avec CNN peuve fournir de très bons résultats). Voici les 4 catégories :\n",
    "- rain 🌧, \n",
    "- cloudy ☁️, \n",
    "- sunshine ☀️, \n",
    "- sunrise 🌅.\n",
    "\n",
    "Vous décidez de réaliser un pré-traitement d'images de type SIFT / ORB / SURF de génération de descripteurs et de \"bag of visual words\" afin de créer un histogramme par image. Vous réaliserez une réduction de dimension de type T-SNE et afficherez un graphique T-SNE des images selon leur catégories.\n",
    "\n",
    "Vous vérifierez ainsi la faisabilité de séparer les images météo selon le type de météo. Avant de tester avec toutes les images à la disposition de l’appli, vous décidez de tester la faisabilité sur un dataset de 400 images déjà catégorisées. Vous en avez 100 par catégorie."
   ]
  },
  {
   "cell_type": "markdown",
   "id": "499cd9b7",
   "metadata": {},
   "source": [
    "<div style=\"display: flex; background-color: Blue; padding: 15px;\" >\n",
    "\n",
    "## 1.Chargement des données\n",
    "</div>"
   ]
  },
  {
   "cell_type": "code",
   "execution_count": 1,
   "id": "5bcfa623",
   "metadata": {},
   "outputs": [],
   "source": [
    "from os import getcwd\n",
    "import pandas as pd\n",
    "import numpy as np \n",
    "import matplotlib.pyplot as plt\n",
    "from collections import defaultdict\n",
    "import re\n",
    "from vae_weather import *"
   ]
  },
  {
   "cell_type": "code",
   "execution_count": 2,
   "id": "5ab07728",
   "metadata": {},
   "outputs": [
    {
     "data": {
      "text/plain": [
       "'c:\\\\Users\\\\User\\\\WORK\\\\workspace-ia\\\\PROJETS\\\\vae_weather_picture\\\\'"
      ]
     },
     "execution_count": 2,
     "metadata": {},
     "output_type": "execute_result"
    }
   ],
   "source": [
    "# ---------------------------------------------------------------------------------------------\n",
    "#                               MAIN\n",
    "# ---------------------------------------------------------------------------------------------\n",
    "verbose = False\n",
    "force_reloading = True\n",
    "\n",
    "# Récupère le répertoire du programme\n",
    "file_path = getcwd() + \"\\\\\"\n",
    "file_path"
   ]
  },
  {
   "cell_type": "code",
   "execution_count": 3,
   "id": "e54ae3c0",
   "metadata": {},
   "outputs": [
    {
     "name": "stdout",
     "output_type": "stream",
     "text": [
      "Source path : c:\\Users\\User\\WORK\\workspace-ia\\PROJETS\\vae_weather_picture\\dataset\\\n"
     ]
    }
   ],
   "source": [
    "source_data_path = file_path+\"dataset\\\\\"\n",
    "print(\"Source path :\", source_data_path)"
   ]
  },
  {
   "cell_type": "markdown",
   "id": "316c8541",
   "metadata": {},
   "source": [
    "<div style=\"display: flex; background-color: Green; padding: 7px;\" >\n",
    "\n",
    "### Liste des images à récupérer\n",
    "</div>"
   ]
  },
  {
   "cell_type": "code",
   "execution_count": 4,
   "id": "c0e4a961",
   "metadata": {},
   "outputs": [
    {
     "name": "stdout",
     "output_type": "stream",
     "text": [
      "400 images\n"
     ]
    }
   ],
   "source": [
    "# récupération données\n",
    "img_extensions = [\".jpg\", \".jpeg\", \".png\"]\n",
    "images = []\n",
    "\n",
    "for ext in img_extensions:\n",
    "    images.extend(get_dir_files(source_data_path, endwith=ext))\n",
    "\n",
    "print(len(images), \"images\")"
   ]
  },
  {
   "cell_type": "markdown",
   "id": "e9e91349",
   "metadata": {},
   "source": [
    "<div style=\"display: flex; background-color: Blue; padding: 15px;\" >\n",
    "\n",
    "## 1.Créations des descripteurs de chaque image \n",
    "</div>\n",
    "\n",
    "1. Pour chaque image passage en gris et equalisation\n",
    "\n",
    "2. création d'une liste de descripteurs par image (\"sift_keyspoints_img\") qui sera utilisée pour réaliser les histogrammes par image\n",
    "\n",
    "3. création d'une liste de descripteurs pour l'ensemble des images (\"sift_keyspoints_all_imag\") qui sera utilisé pour créer les clusters de descripteurs (on vera çe on détaille  aprés)"
   ]
  },
  {
   "cell_type": "code",
   "execution_count": 5,
   "id": "985aa615",
   "metadata": {},
   "outputs": [],
   "source": [
    "nb_descriptors=500"
   ]
  },
  {
   "cell_type": "code",
   "execution_count": 6,
   "id": "ca53dcd5",
   "metadata": {},
   "outputs": [
    {
     "name": "stdout",
     "output_type": "stream",
     "text": [
      "0 images sans descripteurs sur 400 images au départ, soit 400 images restantes\n",
      "150144 128\n"
     ]
    }
   ],
   "source": [
    "img_dic = defaultdict(list)\n",
    "img_descriptors_dic = defaultdict(list)\n",
    "sift_keyspoints_img=[]\n",
    "sift_keyspoints_all_img = []\n",
    "\n",
    "src_images = images.copy()\n",
    "\n",
    "pattern = get_regex_alphabetique_simple()\n",
    "nb_img_without_desc = 0\n",
    "for img_path in src_images:\n",
    "    try:\n",
    "        _, _, descriptor = define_img_point(source_data_path+img_path, nb_descriptors=nb_descriptors, display=False, verbose=verbose)\n",
    "        if descriptor is not None:\n",
    "            img_dic[\"file_name\"].append(img_path)\n",
    "            name = img_path.lower().split(\".\")[0]\n",
    "            name = re.sub(pattern, '', name).strip()\n",
    "            img_dic[\"y\"].append(name)\n",
    "            sift_keyspoints_img.append(descriptor)\n",
    "            img_descriptors_dic[img_path] = descriptor\n",
    "            sift_keyspoints_all_img.extend(descriptor)\n",
    "        else:\n",
    "            if verbose>1:\n",
    "                print(f\"{img_path} as no Descriptor : {descriptor}\")\n",
    "            nb_img_without_desc += 1\n",
    "            images.remove(img_path)\n",
    "    except Exception as error:\n",
    "        print(\"ERROR : \", img_path)\n",
    "        print(error)\n",
    "    \n",
    "print(f\"{nb_img_without_desc} images sans descripteurs sur {len(src_images)} images au départ, soit {len(images)} images restantes\")\n",
    "print(len(sift_keyspoints_all_img), len(sift_keyspoints_all_img[0]))"
   ]
  },
  {
   "cell_type": "code",
   "execution_count": 7,
   "id": "f085144d",
   "metadata": {},
   "outputs": [
    {
     "name": "stdout",
     "output_type": "stream",
     "text": [
      "(400, 2)\n"
     ]
    },
    {
     "data": {
      "text/plain": [
       "Index(['file_name', 'y'], dtype='object')"
      ]
     },
     "execution_count": 7,
     "metadata": {},
     "output_type": "execute_result"
    }
   ],
   "source": [
    "df_origin = pd.DataFrame.from_dict(img_dic)\n",
    "print(df_origin.shape)\n",
    "df_origin.columns"
   ]
  },
  {
   "cell_type": "code",
   "execution_count": 8,
   "id": "7b3799f1",
   "metadata": {},
   "outputs": [
    {
     "data": {
      "text/plain": [
       "cloudy     100\n",
       "rain       100\n",
       "shine      100\n",
       "sunrise    100\n",
       "Name: y, dtype: int64"
      ]
     },
     "execution_count": 8,
     "metadata": {},
     "output_type": "execute_result"
    }
   ],
   "source": [
    "df_origin['y'].value_counts()"
   ]
  },
  {
   "cell_type": "markdown",
   "id": "499cd9b7",
   "metadata": {},
   "source": [
    "<div style=\"display: flex; background-color: Blue; padding: 15px;\" >\n",
    "\n",
    "## 2.Version supervisée\n",
    "</div>"
   ]
  },
  {
   "cell_type": "code",
   "execution_count": 9,
   "id": "d9c54b5d",
   "metadata": {},
   "outputs": [],
   "source": [
    "from sklearn.cluster import MiniBatchKMeans\n",
    "from sklearn.neural_network import MLPClassifier\n",
    "from sklearn.preprocessing import LabelEncoder"
   ]
  },
  {
   "cell_type": "markdown",
   "id": "224cde1e",
   "metadata": {},
   "source": [
    "<div style=\"display: flex; background-color: Green; padding: 7px;\" >\n",
    "\n",
    "### 2.1. Encodage de la target\n",
    "</div>"
   ]
  },
  {
   "cell_type": "code",
   "execution_count": 10,
   "id": "a2d336d1",
   "metadata": {},
   "outputs": [
    {
     "name": "stdout",
     "output_type": "stream",
     "text": [
      "[0 1 2 3]\n"
     ]
    },
    {
     "data": {
      "text/html": [
       "<div>\n",
       "<style scoped>\n",
       "    .dataframe tbody tr th:only-of-type {\n",
       "        vertical-align: middle;\n",
       "    }\n",
       "\n",
       "    .dataframe tbody tr th {\n",
       "        vertical-align: top;\n",
       "    }\n",
       "\n",
       "    .dataframe thead th {\n",
       "        text-align: right;\n",
       "    }\n",
       "</style>\n",
       "<table border=\"1\" class=\"dataframe\">\n",
       "  <thead>\n",
       "    <tr style=\"text-align: right;\">\n",
       "      <th></th>\n",
       "      <th>file_name</th>\n",
       "      <th>y</th>\n",
       "      <th>y_label</th>\n",
       "    </tr>\n",
       "  </thead>\n",
       "  <tbody>\n",
       "    <tr>\n",
       "      <th>0</th>\n",
       "      <td>cloudy1.jpg</td>\n",
       "      <td>0</td>\n",
       "      <td>cloudy</td>\n",
       "    </tr>\n",
       "    <tr>\n",
       "      <th>1</th>\n",
       "      <td>cloudy10.jpg</td>\n",
       "      <td>0</td>\n",
       "      <td>cloudy</td>\n",
       "    </tr>\n",
       "    <tr>\n",
       "      <th>2</th>\n",
       "      <td>cloudy100.jpg</td>\n",
       "      <td>0</td>\n",
       "      <td>cloudy</td>\n",
       "    </tr>\n",
       "    <tr>\n",
       "      <th>3</th>\n",
       "      <td>cloudy11.jpg</td>\n",
       "      <td>0</td>\n",
       "      <td>cloudy</td>\n",
       "    </tr>\n",
       "    <tr>\n",
       "      <th>4</th>\n",
       "      <td>cloudy12.jpg</td>\n",
       "      <td>0</td>\n",
       "      <td>cloudy</td>\n",
       "    </tr>\n",
       "  </tbody>\n",
       "</table>\n",
       "</div>"
      ],
      "text/plain": [
       "       file_name  y y_label\n",
       "0    cloudy1.jpg  0  cloudy\n",
       "1   cloudy10.jpg  0  cloudy\n",
       "2  cloudy100.jpg  0  cloudy\n",
       "3   cloudy11.jpg  0  cloudy\n",
       "4   cloudy12.jpg  0  cloudy"
      ]
     },
     "execution_count": 10,
     "metadata": {},
     "output_type": "execute_result"
    }
   ],
   "source": [
    "df_origin[\"y_label\"] = df_origin[\"y\"] \n",
    "label_encoder = LabelEncoder()\n",
    "df_origin[\"y\"] =  label_encoder.fit_transform(df_origin[\"y_label\"])\n",
    "species = df_origin[\"y\"].sort_values().unique()\n",
    "print(species)\n",
    "df_origin.head()"
   ]
  },
  {
   "cell_type": "markdown",
   "id": "224cde1e",
   "metadata": {},
   "source": [
    "<div style=\"display: flex; background-color: Green; padding: 7px;\" >\n",
    "\n",
    "### 2.2. Clustering des descripteurs\n",
    "</div>"
   ]
  },
  {
   "cell_type": "code",
   "execution_count": 11,
   "id": "0778a2d7",
   "metadata": {},
   "outputs": [
    {
     "name": "stdout",
     "output_type": "stream",
     "text": [
      "150144\n"
     ]
    },
    {
     "data": {
      "text/plain": [
       "387"
      ]
     },
     "execution_count": 11,
     "metadata": {},
     "output_type": "execute_result"
    }
   ],
   "source": [
    "print(len(sift_keyspoints_all_img))\n",
    "n_clusters = round(np.sqrt(len(sift_keyspoints_all_img)))\n",
    "n_clusters"
   ]
  },
  {
   "cell_type": "code",
   "execution_count": 12,
   "id": "b460cbe9",
   "metadata": {},
   "outputs": [],
   "source": [
    "batch_size = len(images) * 3\n",
    "kmeans = MiniBatchKMeans(n_clusters=n_clusters, batch_size=batch_size, verbose=verbose).fit(sift_keyspoints_all_img)"
   ]
  },
  {
   "cell_type": "markdown",
   "id": "224cde1e",
   "metadata": {},
   "source": [
    "<div style=\"display: flex; background-color: Green; padding: 7px;\" >\n",
    "\n",
    "### 2.3. Creation of the histograms\n",
    "</div>"
   ]
  },
  {
   "cell_type": "code",
   "execution_count": 13,
   "id": "9ec899b0",
   "metadata": {},
   "outputs": [],
   "source": [
    "histo_list = []\n",
    "\n",
    "for img_path in images:\n",
    "    try:\n",
    "        _, histo = predict(n_clusters, kmeans, descriptor=img_descriptors_dic[img_path], verbose=verbose)\n",
    "        histo_list.append(histo)\n",
    "    except Exception as error:\n",
    "        print(\"ERROR : \", img_path)\n",
    "        print(error)"
   ]
  },
  {
   "cell_type": "markdown",
   "id": "224cde1e",
   "metadata": {},
   "source": [
    "<div style=\"display: flex; background-color: Green; padding: 7px;\" >\n",
    "\n",
    "### 2.4. Training of the neural network\n",
    "</div>"
   ]
  },
  {
   "cell_type": "code",
   "execution_count": 14,
   "id": "38f9cd01",
   "metadata": {},
   "outputs": [],
   "source": [
    "from sklearn.model_selection import train_test_split"
   ]
  },
  {
   "cell_type": "code",
   "execution_count": 15,
   "id": "487e76f9",
   "metadata": {},
   "outputs": [
    {
     "name": "stdout",
     "output_type": "stream",
     "text": [
      "(400, 387) 400\n"
     ]
    }
   ],
   "source": [
    "random_state=0\n",
    "X_src = np.array(histo_list)\n",
    "Y_src = df_origin[\"y\"].to_list()\n",
    "print(X_src.shape, len(Y_src))"
   ]
  },
  {
   "cell_type": "code",
   "execution_count": 16,
   "id": "06d32f84",
   "metadata": {},
   "outputs": [],
   "source": [
    "X, x_test_split, Y, y_test_split = train_test_split(X_src, Y_src, test_size=0.2, random_state=random_state)"
   ]
  },
  {
   "cell_type": "markdown",
   "metadata": {},
   "source": [
    "<div style=\"display: flex; background-color: indigo;\" >\n",
    "\n",
    "#### 2.4.1. MLPClassifier\n",
    "</div>"
   ]
  },
  {
   "cell_type": "code",
   "execution_count": 17,
   "id": "b5cd6f40",
   "metadata": {},
   "outputs": [
    {
     "name": "stdout",
     "output_type": "stream",
     "text": [
      "Train: 1.0\n"
     ]
    },
    {
     "data": {
      "text/plain": [
       "0.6125"
      ]
     },
     "execution_count": 17,
     "metadata": {},
     "output_type": "execute_result"
    }
   ],
   "source": [
    "mlp = MLPClassifier(verbose=verbose, random_state=random_state, max_iter=600000)\n",
    "mlp.fit(X, Y)\n",
    "print(f\"Train: {mlp.score(X, Y)}\")\n",
    "mlp.score(x_test_split, y_test_split) # 0.65 - randomstate 0 / 0.6375  - randomstate 42"
   ]
  },
  {
   "cell_type": "markdown",
   "id": "431a3e96",
   "metadata": {},
   "source": [
    "<div style=\"display: flex; background-color: indigo;\" >\n",
    "\n",
    "#### 2.4.2. SVC\n",
    "</div>"
   ]
  },
  {
   "cell_type": "code",
   "execution_count": 18,
   "id": "106e28b9",
   "metadata": {},
   "outputs": [],
   "source": [
    "from sklearn import svm"
   ]
  },
  {
   "cell_type": "code",
   "execution_count": 19,
   "id": "cd8cece7",
   "metadata": {},
   "outputs": [
    {
     "name": "stdout",
     "output_type": "stream",
     "text": [
      "Train: 0.8875\n"
     ]
    },
    {
     "data": {
      "text/plain": [
       "0.5875"
      ]
     },
     "execution_count": 19,
     "metadata": {},
     "output_type": "execute_result"
    }
   ],
   "source": [
    "# Sans labelEncodeur : 0.89\n",
    "# Avec LabelEncodeur : 0.87\n",
    "sv = svm.SVC(random_state=random_state)\n",
    "sv.fit(X, Y)\n",
    "print(f\"Train: {sv.score(X, Y)}\")\n",
    "sv.score(x_test_split, y_test_split)"
   ]
  },
  {
   "cell_type": "markdown",
   "id": "dc0c802f",
   "metadata": {},
   "source": [
    "<div style=\"display: flex; background-color: Green; padding: 7px;\" >\n",
    "\n",
    "### 2.5. Prédictions\n",
    "</div>"
   ]
  },
  {
   "cell_type": "code",
   "execution_count": 20,
   "id": "2ec2e043",
   "metadata": {},
   "outputs": [],
   "source": [
    "df_src_dict, histo_list = pred_df(source_data_path, images, n_clusters, kmeans, mlp, species, label_encoder=label_encoder,img_descriptors_dic=img_descriptors_dic, file_name=\"predict_source.csv\")"
   ]
  },
  {
   "cell_type": "code",
   "execution_count": 21,
   "id": "1676dbc5",
   "metadata": {},
   "outputs": [
    {
     "data": {
      "text/html": [
       "<div>\n",
       "<style scoped>\n",
       "    .dataframe tbody tr th:only-of-type {\n",
       "        vertical-align: middle;\n",
       "    }\n",
       "\n",
       "    .dataframe tbody tr th {\n",
       "        vertical-align: top;\n",
       "    }\n",
       "\n",
       "    .dataframe thead th {\n",
       "        text-align: right;\n",
       "    }\n",
       "</style>\n",
       "<table border=\"1\" class=\"dataframe\">\n",
       "  <thead>\n",
       "    <tr style=\"text-align: right;\">\n",
       "      <th></th>\n",
       "      <th>picture</th>\n",
       "      <th>target</th>\n",
       "      <th>predict</th>\n",
       "      <th>cloudy_proba_0</th>\n",
       "      <th>rain_proba_1</th>\n",
       "      <th>shine_proba_2</th>\n",
       "      <th>sunrise_proba_3</th>\n",
       "    </tr>\n",
       "  </thead>\n",
       "  <tbody>\n",
       "    <tr>\n",
       "      <th>0</th>\n",
       "      <td>cloudy1.jpg</td>\n",
       "      <td>cloudy</td>\n",
       "      <td>cloudy</td>\n",
       "      <td>0.98</td>\n",
       "      <td>0.00</td>\n",
       "      <td>0.02</td>\n",
       "      <td>0.00</td>\n",
       "    </tr>\n",
       "    <tr>\n",
       "      <th>1</th>\n",
       "      <td>cloudy10.jpg</td>\n",
       "      <td>cloudy</td>\n",
       "      <td>shine</td>\n",
       "      <td>0.23</td>\n",
       "      <td>0.00</td>\n",
       "      <td>0.76</td>\n",
       "      <td>0.00</td>\n",
       "    </tr>\n",
       "    <tr>\n",
       "      <th>2</th>\n",
       "      <td>cloudy100.jpg</td>\n",
       "      <td>cloudy</td>\n",
       "      <td>cloudy</td>\n",
       "      <td>0.89</td>\n",
       "      <td>0.05</td>\n",
       "      <td>0.05</td>\n",
       "      <td>0.01</td>\n",
       "    </tr>\n",
       "    <tr>\n",
       "      <th>3</th>\n",
       "      <td>cloudy11.jpg</td>\n",
       "      <td>cloudy</td>\n",
       "      <td>cloudy</td>\n",
       "      <td>0.90</td>\n",
       "      <td>0.03</td>\n",
       "      <td>0.07</td>\n",
       "      <td>0.00</td>\n",
       "    </tr>\n",
       "    <tr>\n",
       "      <th>4</th>\n",
       "      <td>cloudy12.jpg</td>\n",
       "      <td>cloudy</td>\n",
       "      <td>cloudy</td>\n",
       "      <td>0.86</td>\n",
       "      <td>0.02</td>\n",
       "      <td>0.11</td>\n",
       "      <td>0.01</td>\n",
       "    </tr>\n",
       "    <tr>\n",
       "      <th>...</th>\n",
       "      <td>...</td>\n",
       "      <td>...</td>\n",
       "      <td>...</td>\n",
       "      <td>...</td>\n",
       "      <td>...</td>\n",
       "      <td>...</td>\n",
       "      <td>...</td>\n",
       "    </tr>\n",
       "    <tr>\n",
       "      <th>395</th>\n",
       "      <td>sunrise96.jpg</td>\n",
       "      <td>sunrise</td>\n",
       "      <td>sunrise</td>\n",
       "      <td>0.00</td>\n",
       "      <td>0.00</td>\n",
       "      <td>0.06</td>\n",
       "      <td>0.94</td>\n",
       "    </tr>\n",
       "    <tr>\n",
       "      <th>396</th>\n",
       "      <td>sunrise97.jpg</td>\n",
       "      <td>sunrise</td>\n",
       "      <td>sunrise</td>\n",
       "      <td>0.00</td>\n",
       "      <td>0.00</td>\n",
       "      <td>0.00</td>\n",
       "      <td>1.00</td>\n",
       "    </tr>\n",
       "    <tr>\n",
       "      <th>397</th>\n",
       "      <td>sunrise98.jpg</td>\n",
       "      <td>sunrise</td>\n",
       "      <td>sunrise</td>\n",
       "      <td>0.00</td>\n",
       "      <td>0.00</td>\n",
       "      <td>0.00</td>\n",
       "      <td>1.00</td>\n",
       "    </tr>\n",
       "    <tr>\n",
       "      <th>398</th>\n",
       "      <td>sunrise99.jpg</td>\n",
       "      <td>sunrise</td>\n",
       "      <td>sunrise</td>\n",
       "      <td>0.00</td>\n",
       "      <td>0.00</td>\n",
       "      <td>0.00</td>\n",
       "      <td>1.00</td>\n",
       "    </tr>\n",
       "    <tr>\n",
       "      <th>399</th>\n",
       "      <td>sunrise89.jpeg</td>\n",
       "      <td>sunrise</td>\n",
       "      <td>rain</td>\n",
       "      <td>0.13</td>\n",
       "      <td>0.84</td>\n",
       "      <td>0.01</td>\n",
       "      <td>0.02</td>\n",
       "    </tr>\n",
       "  </tbody>\n",
       "</table>\n",
       "<p>400 rows × 7 columns</p>\n",
       "</div>"
      ],
      "text/plain": [
       "            picture   target  predict  cloudy_proba_0  rain_proba_1  \\\n",
       "0       cloudy1.jpg   cloudy   cloudy            0.98          0.00   \n",
       "1      cloudy10.jpg   cloudy    shine            0.23          0.00   \n",
       "2     cloudy100.jpg   cloudy   cloudy            0.89          0.05   \n",
       "3      cloudy11.jpg   cloudy   cloudy            0.90          0.03   \n",
       "4      cloudy12.jpg   cloudy   cloudy            0.86          0.02   \n",
       "..              ...      ...      ...             ...           ...   \n",
       "395   sunrise96.jpg  sunrise  sunrise            0.00          0.00   \n",
       "396   sunrise97.jpg  sunrise  sunrise            0.00          0.00   \n",
       "397   sunrise98.jpg  sunrise  sunrise            0.00          0.00   \n",
       "398   sunrise99.jpg  sunrise  sunrise            0.00          0.00   \n",
       "399  sunrise89.jpeg  sunrise     rain            0.13          0.84   \n",
       "\n",
       "     shine_proba_2  sunrise_proba_3  \n",
       "0             0.02             0.00  \n",
       "1             0.76             0.00  \n",
       "2             0.05             0.01  \n",
       "3             0.07             0.00  \n",
       "4             0.11             0.01  \n",
       "..             ...              ...  \n",
       "395           0.06             0.94  \n",
       "396           0.00             1.00  \n",
       "397           0.00             1.00  \n",
       "398           0.00             1.00  \n",
       "399           0.01             0.02  \n",
       "\n",
       "[400 rows x 7 columns]"
      ]
     },
     "execution_count": 21,
     "metadata": {},
     "output_type": "execute_result"
    }
   ],
   "source": [
    "df_src = pd.DataFrame(df_src_dict)\n",
    "df_src"
   ]
  },
  {
   "cell_type": "code",
   "execution_count": 22,
   "id": "9dd8f8e0",
   "metadata": {},
   "outputs": [
    {
     "name": "stdout",
     "output_type": "stream",
     "text": [
      "62 images\n"
     ]
    },
    {
     "data": {
      "text/plain": [
       "['cloudy002.jpg',\n",
       " 'cloudy005.jpg',\n",
       " 'cloudy008.jpg',\n",
       " 'cloudy011.jpg',\n",
       " 'cloudy014.jpg',\n",
       " 'rain003.jpg',\n",
       " 'rain006.jpg',\n",
       " 'rain009.jpg',\n",
       " 'rain012.jpg',\n",
       " 'rain015.jpg',\n",
       " 'shine003.jpg',\n",
       " 'shine006.jpg',\n",
       " 'shine009.jpg',\n",
       " 'shine012.jpg',\n",
       " 'shine015.jpg',\n",
       " 'sunrise003.jpg',\n",
       " 'sunrise007.jpg',\n",
       " 'sunrise010.jpg',\n",
       " 'sunrise013.jpg',\n",
       " 'sunrise016.jpg',\n",
       " 'rain015.jpeg']"
      ]
     },
     "execution_count": 22,
     "metadata": {},
     "output_type": "execute_result"
    }
   ],
   "source": [
    "source_data_test_path = source_data_path.replace(\"dataset\", \"dataset_test\")\n",
    "\n",
    "# récupération données\n",
    "images_test = []\n",
    "\n",
    "for ext in img_extensions:\n",
    "    images_test.extend(get_dir_files(source_data_test_path, endwith=ext))\n",
    "\n",
    "print(len(images_test), \"images\")\n",
    "images_test[::3]"
   ]
  },
  {
   "cell_type": "code",
   "execution_count": 23,
   "id": "05f9c2ed",
   "metadata": {},
   "outputs": [],
   "source": [
    "img_descriptors_test_dic = defaultdict(list)\n",
    "\n",
    "for img_path in images_test:\n",
    "    try:\n",
    "        _, _, descriptor = define_img_point(source_data_test_path+img_path, nb_descriptors=nb_descriptors, display=False, verbose=verbose)       \n",
    "        img_descriptors_test_dic[img_path] = descriptor\n",
    "    except Exception as error:\n",
    "        print(\"ERROR : \", img_path)\n",
    "        print(error)"
   ]
  },
  {
   "cell_type": "code",
   "execution_count": 24,
   "id": "bcbd7e42",
   "metadata": {},
   "outputs": [
    {
     "data": {
      "text/html": [
       "<div>\n",
       "<style scoped>\n",
       "    .dataframe tbody tr th:only-of-type {\n",
       "        vertical-align: middle;\n",
       "    }\n",
       "\n",
       "    .dataframe tbody tr th {\n",
       "        vertical-align: top;\n",
       "    }\n",
       "\n",
       "    .dataframe thead th {\n",
       "        text-align: right;\n",
       "    }\n",
       "</style>\n",
       "<table border=\"1\" class=\"dataframe\">\n",
       "  <thead>\n",
       "    <tr style=\"text-align: right;\">\n",
       "      <th></th>\n",
       "      <th>picture</th>\n",
       "      <th>target</th>\n",
       "      <th>predict</th>\n",
       "      <th>cloudy_proba_0</th>\n",
       "      <th>rain_proba_1</th>\n",
       "      <th>shine_proba_2</th>\n",
       "      <th>sunrise_proba_3</th>\n",
       "      <th>y</th>\n",
       "    </tr>\n",
       "  </thead>\n",
       "  <tbody>\n",
       "    <tr>\n",
       "      <th>0</th>\n",
       "      <td>cloudy002.jpg</td>\n",
       "      <td>cloudy</td>\n",
       "      <td>cloudy</td>\n",
       "      <td>0.96</td>\n",
       "      <td>0.00</td>\n",
       "      <td>0.00</td>\n",
       "      <td>0.04</td>\n",
       "      <td>0</td>\n",
       "    </tr>\n",
       "    <tr>\n",
       "      <th>1</th>\n",
       "      <td>cloudy003.jpg</td>\n",
       "      <td>cloudy</td>\n",
       "      <td>shine</td>\n",
       "      <td>0.41</td>\n",
       "      <td>0.00</td>\n",
       "      <td>0.59</td>\n",
       "      <td>0.00</td>\n",
       "      <td>0</td>\n",
       "    </tr>\n",
       "    <tr>\n",
       "      <th>2</th>\n",
       "      <td>cloudy004.jpg</td>\n",
       "      <td>cloudy</td>\n",
       "      <td>cloudy</td>\n",
       "      <td>0.93</td>\n",
       "      <td>0.03</td>\n",
       "      <td>0.03</td>\n",
       "      <td>0.01</td>\n",
       "      <td>0</td>\n",
       "    </tr>\n",
       "    <tr>\n",
       "      <th>3</th>\n",
       "      <td>cloudy005.jpg</td>\n",
       "      <td>cloudy</td>\n",
       "      <td>cloudy</td>\n",
       "      <td>0.94</td>\n",
       "      <td>0.00</td>\n",
       "      <td>0.00</td>\n",
       "      <td>0.05</td>\n",
       "      <td>0</td>\n",
       "    </tr>\n",
       "    <tr>\n",
       "      <th>4</th>\n",
       "      <td>cloudy006.jpg</td>\n",
       "      <td>cloudy</td>\n",
       "      <td>sunrise</td>\n",
       "      <td>0.05</td>\n",
       "      <td>0.02</td>\n",
       "      <td>0.18</td>\n",
       "      <td>0.74</td>\n",
       "      <td>0</td>\n",
       "    </tr>\n",
       "    <tr>\n",
       "      <th>...</th>\n",
       "      <td>...</td>\n",
       "      <td>...</td>\n",
       "      <td>...</td>\n",
       "      <td>...</td>\n",
       "      <td>...</td>\n",
       "      <td>...</td>\n",
       "      <td>...</td>\n",
       "      <td>...</td>\n",
       "    </tr>\n",
       "    <tr>\n",
       "      <th>57</th>\n",
       "      <td>sunrise016.jpg</td>\n",
       "      <td>sunrise</td>\n",
       "      <td>shine</td>\n",
       "      <td>0.00</td>\n",
       "      <td>0.04</td>\n",
       "      <td>0.67</td>\n",
       "      <td>0.29</td>\n",
       "      <td>3</td>\n",
       "    </tr>\n",
       "    <tr>\n",
       "      <th>58</th>\n",
       "      <td>cloudy001.jpeg</td>\n",
       "      <td>cloudy</td>\n",
       "      <td>sunrise</td>\n",
       "      <td>0.01</td>\n",
       "      <td>0.00</td>\n",
       "      <td>0.02</td>\n",
       "      <td>0.97</td>\n",
       "      <td>0</td>\n",
       "    </tr>\n",
       "    <tr>\n",
       "      <th>59</th>\n",
       "      <td>rain002.jpeg</td>\n",
       "      <td>rain</td>\n",
       "      <td>shine</td>\n",
       "      <td>0.00</td>\n",
       "      <td>0.34</td>\n",
       "      <td>0.60</td>\n",
       "      <td>0.06</td>\n",
       "      <td>1</td>\n",
       "    </tr>\n",
       "    <tr>\n",
       "      <th>60</th>\n",
       "      <td>rain015.jpeg</td>\n",
       "      <td>rain</td>\n",
       "      <td>sunrise</td>\n",
       "      <td>0.00</td>\n",
       "      <td>0.01</td>\n",
       "      <td>0.01</td>\n",
       "      <td>0.98</td>\n",
       "      <td>1</td>\n",
       "    </tr>\n",
       "    <tr>\n",
       "      <th>61</th>\n",
       "      <td>sunrise013.png</td>\n",
       "      <td>sunrise</td>\n",
       "      <td>shine</td>\n",
       "      <td>0.00</td>\n",
       "      <td>0.00</td>\n",
       "      <td>1.00</td>\n",
       "      <td>0.00</td>\n",
       "      <td>3</td>\n",
       "    </tr>\n",
       "  </tbody>\n",
       "</table>\n",
       "<p>62 rows × 8 columns</p>\n",
       "</div>"
      ],
      "text/plain": [
       "           picture   target  predict  cloudy_proba_0  rain_proba_1  \\\n",
       "0    cloudy002.jpg   cloudy   cloudy            0.96          0.00   \n",
       "1    cloudy003.jpg   cloudy    shine            0.41          0.00   \n",
       "2    cloudy004.jpg   cloudy   cloudy            0.93          0.03   \n",
       "3    cloudy005.jpg   cloudy   cloudy            0.94          0.00   \n",
       "4    cloudy006.jpg   cloudy  sunrise            0.05          0.02   \n",
       "..             ...      ...      ...             ...           ...   \n",
       "57  sunrise016.jpg  sunrise    shine            0.00          0.04   \n",
       "58  cloudy001.jpeg   cloudy  sunrise            0.01          0.00   \n",
       "59    rain002.jpeg     rain    shine            0.00          0.34   \n",
       "60    rain015.jpeg     rain  sunrise            0.00          0.01   \n",
       "61  sunrise013.png  sunrise    shine            0.00          0.00   \n",
       "\n",
       "    shine_proba_2  sunrise_proba_3  y  \n",
       "0            0.00             0.04  0  \n",
       "1            0.59             0.00  0  \n",
       "2            0.03             0.01  0  \n",
       "3            0.00             0.05  0  \n",
       "4            0.18             0.74  0  \n",
       "..            ...              ... ..  \n",
       "57           0.67             0.29  3  \n",
       "58           0.02             0.97  0  \n",
       "59           0.60             0.06  1  \n",
       "60           0.01             0.98  1  \n",
       "61           1.00             0.00  3  \n",
       "\n",
       "[62 rows x 8 columns]"
      ]
     },
     "execution_count": 24,
     "metadata": {},
     "output_type": "execute_result"
    }
   ],
   "source": [
    "df_test_dict, histo_test_list = pred_df(source_data_test_path, images_test, n_clusters, kmeans, mlp, species, img_descriptors_dic=img_descriptors_test_dic, label_encoder=label_encoder, file_name=\"predict_test.csv\")\n",
    "df_test = pd.DataFrame(df_test_dict)\n",
    "df_test[\"y\"] = label_encoder.transform(df_test[\"target\"])\n",
    "df_test"
   ]
  },
  {
   "cell_type": "code",
   "execution_count": 25,
   "id": "f5de8431",
   "metadata": {},
   "outputs": [
    {
     "data": {
      "text/plain": [
       "(62, 387)"
      ]
     },
     "execution_count": 25,
     "metadata": {},
     "output_type": "execute_result"
    }
   ],
   "source": [
    "X_test = np.array(histo_test_list)\n",
    "Y_test = np.array(df_test[\"y\"])\n",
    "X_test.shape"
   ]
  },
  {
   "cell_type": "code",
   "execution_count": 26,
   "id": "0f714db8",
   "metadata": {},
   "outputs": [
    {
     "data": {
      "text/plain": [
       "0.45"
      ]
     },
     "execution_count": 26,
     "metadata": {},
     "output_type": "execute_result"
    }
   ],
   "source": [
    "# Sans label encoder : 0.53\n",
    "# Avec label encoder : 0.52 => images récupérées d'internet\n",
    "# Avec label encoder : \n",
    "round(mlp.score(X_test, Y_test), 2)"
   ]
  },
  {
   "cell_type": "code",
   "execution_count": 27,
   "id": "b23a7be1",
   "metadata": {},
   "outputs": [
    {
     "data": {
      "text/plain": [
       "0.5"
      ]
     },
     "execution_count": 27,
     "metadata": {},
     "output_type": "execute_result"
    }
   ],
   "source": [
    "# Sans label Encoder 0.46774193548387094\n",
    "# Avec label Encoder 0.532258064516129\n",
    "round(sv.score(X_test, Y_test), 2)"
   ]
  },
  {
   "cell_type": "code",
   "execution_count": 28,
   "id": "667832d8",
   "metadata": {},
   "outputs": [
    {
     "data": {
      "text/html": [
       "<div>\n",
       "<style scoped>\n",
       "    .dataframe tbody tr th:only-of-type {\n",
       "        vertical-align: middle;\n",
       "    }\n",
       "\n",
       "    .dataframe tbody tr th {\n",
       "        vertical-align: top;\n",
       "    }\n",
       "\n",
       "    .dataframe thead th {\n",
       "        text-align: right;\n",
       "    }\n",
       "</style>\n",
       "<table border=\"1\" class=\"dataframe\">\n",
       "  <thead>\n",
       "    <tr style=\"text-align: right;\">\n",
       "      <th></th>\n",
       "      <th>picture</th>\n",
       "      <th>target</th>\n",
       "      <th>predict</th>\n",
       "      <th>cloudy_proba_0</th>\n",
       "      <th>rain_proba_1</th>\n",
       "      <th>shine_proba_2</th>\n",
       "      <th>sunrise_proba_3</th>\n",
       "      <th>y</th>\n",
       "    </tr>\n",
       "  </thead>\n",
       "  <tbody>\n",
       "    <tr>\n",
       "      <th>1</th>\n",
       "      <td>cloudy003.jpg</td>\n",
       "      <td>cloudy</td>\n",
       "      <td>shine</td>\n",
       "      <td>0.41</td>\n",
       "      <td>0.00</td>\n",
       "      <td>0.59</td>\n",
       "      <td>0.00</td>\n",
       "      <td>0</td>\n",
       "    </tr>\n",
       "    <tr>\n",
       "      <th>4</th>\n",
       "      <td>cloudy006.jpg</td>\n",
       "      <td>cloudy</td>\n",
       "      <td>sunrise</td>\n",
       "      <td>0.05</td>\n",
       "      <td>0.02</td>\n",
       "      <td>0.18</td>\n",
       "      <td>0.74</td>\n",
       "      <td>0</td>\n",
       "    </tr>\n",
       "    <tr>\n",
       "      <th>8</th>\n",
       "      <td>cloudy010.jpg</td>\n",
       "      <td>cloudy</td>\n",
       "      <td>shine</td>\n",
       "      <td>0.00</td>\n",
       "      <td>0.00</td>\n",
       "      <td>1.00</td>\n",
       "      <td>0.00</td>\n",
       "      <td>0</td>\n",
       "    </tr>\n",
       "    <tr>\n",
       "      <th>9</th>\n",
       "      <td>cloudy011.jpg</td>\n",
       "      <td>cloudy</td>\n",
       "      <td>sunrise</td>\n",
       "      <td>0.05</td>\n",
       "      <td>0.03</td>\n",
       "      <td>0.36</td>\n",
       "      <td>0.56</td>\n",
       "      <td>0</td>\n",
       "    </tr>\n",
       "    <tr>\n",
       "      <th>13</th>\n",
       "      <td>cloudy015.jpg</td>\n",
       "      <td>cloudy</td>\n",
       "      <td>shine</td>\n",
       "      <td>0.03</td>\n",
       "      <td>0.01</td>\n",
       "      <td>0.96</td>\n",
       "      <td>0.00</td>\n",
       "      <td>0</td>\n",
       "    </tr>\n",
       "    <tr>\n",
       "      <th>19</th>\n",
       "      <td>rain007.jpg</td>\n",
       "      <td>rain</td>\n",
       "      <td>sunrise</td>\n",
       "      <td>0.00</td>\n",
       "      <td>0.03</td>\n",
       "      <td>0.00</td>\n",
       "      <td>0.97</td>\n",
       "      <td>1</td>\n",
       "    </tr>\n",
       "    <tr>\n",
       "      <th>20</th>\n",
       "      <td>rain008.jpg</td>\n",
       "      <td>rain</td>\n",
       "      <td>sunrise</td>\n",
       "      <td>0.00</td>\n",
       "      <td>0.25</td>\n",
       "      <td>0.08</td>\n",
       "      <td>0.67</td>\n",
       "      <td>1</td>\n",
       "    </tr>\n",
       "    <tr>\n",
       "      <th>21</th>\n",
       "      <td>rain009.jpg</td>\n",
       "      <td>rain</td>\n",
       "      <td>sunrise</td>\n",
       "      <td>0.01</td>\n",
       "      <td>0.25</td>\n",
       "      <td>0.00</td>\n",
       "      <td>0.74</td>\n",
       "      <td>1</td>\n",
       "    </tr>\n",
       "    <tr>\n",
       "      <th>22</th>\n",
       "      <td>rain010.jpg</td>\n",
       "      <td>rain</td>\n",
       "      <td>sunrise</td>\n",
       "      <td>0.00</td>\n",
       "      <td>0.00</td>\n",
       "      <td>0.00</td>\n",
       "      <td>1.00</td>\n",
       "      <td>1</td>\n",
       "    </tr>\n",
       "    <tr>\n",
       "      <th>23</th>\n",
       "      <td>rain011.jpg</td>\n",
       "      <td>rain</td>\n",
       "      <td>sunrise</td>\n",
       "      <td>0.00</td>\n",
       "      <td>0.00</td>\n",
       "      <td>0.00</td>\n",
       "      <td>1.00</td>\n",
       "      <td>1</td>\n",
       "    </tr>\n",
       "    <tr>\n",
       "      <th>24</th>\n",
       "      <td>rain012.jpg</td>\n",
       "      <td>rain</td>\n",
       "      <td>sunrise</td>\n",
       "      <td>0.00</td>\n",
       "      <td>0.10</td>\n",
       "      <td>0.02</td>\n",
       "      <td>0.88</td>\n",
       "      <td>1</td>\n",
       "    </tr>\n",
       "    <tr>\n",
       "      <th>29</th>\n",
       "      <td>shine002.jpg</td>\n",
       "      <td>shine</td>\n",
       "      <td>cloudy</td>\n",
       "      <td>0.99</td>\n",
       "      <td>0.00</td>\n",
       "      <td>0.01</td>\n",
       "      <td>0.00</td>\n",
       "      <td>2</td>\n",
       "    </tr>\n",
       "    <tr>\n",
       "      <th>31</th>\n",
       "      <td>shine004.jpg</td>\n",
       "      <td>shine</td>\n",
       "      <td>rain</td>\n",
       "      <td>0.08</td>\n",
       "      <td>0.73</td>\n",
       "      <td>0.05</td>\n",
       "      <td>0.13</td>\n",
       "      <td>2</td>\n",
       "    </tr>\n",
       "    <tr>\n",
       "      <th>33</th>\n",
       "      <td>shine006.jpg</td>\n",
       "      <td>shine</td>\n",
       "      <td>cloudy</td>\n",
       "      <td>0.90</td>\n",
       "      <td>0.01</td>\n",
       "      <td>0.09</td>\n",
       "      <td>0.00</td>\n",
       "      <td>2</td>\n",
       "    </tr>\n",
       "    <tr>\n",
       "      <th>34</th>\n",
       "      <td>shine007.jpg</td>\n",
       "      <td>shine</td>\n",
       "      <td>cloudy</td>\n",
       "      <td>1.00</td>\n",
       "      <td>0.00</td>\n",
       "      <td>0.00</td>\n",
       "      <td>0.00</td>\n",
       "      <td>2</td>\n",
       "    </tr>\n",
       "    <tr>\n",
       "      <th>35</th>\n",
       "      <td>shine008.jpg</td>\n",
       "      <td>shine</td>\n",
       "      <td>cloudy</td>\n",
       "      <td>1.00</td>\n",
       "      <td>0.00</td>\n",
       "      <td>0.00</td>\n",
       "      <td>0.00</td>\n",
       "      <td>2</td>\n",
       "    </tr>\n",
       "    <tr>\n",
       "      <th>36</th>\n",
       "      <td>shine009.jpg</td>\n",
       "      <td>shine</td>\n",
       "      <td>cloudy</td>\n",
       "      <td>0.98</td>\n",
       "      <td>0.00</td>\n",
       "      <td>0.02</td>\n",
       "      <td>0.00</td>\n",
       "      <td>2</td>\n",
       "    </tr>\n",
       "    <tr>\n",
       "      <th>37</th>\n",
       "      <td>shine010.jpg</td>\n",
       "      <td>shine</td>\n",
       "      <td>cloudy</td>\n",
       "      <td>0.98</td>\n",
       "      <td>0.00</td>\n",
       "      <td>0.01</td>\n",
       "      <td>0.00</td>\n",
       "      <td>2</td>\n",
       "    </tr>\n",
       "    <tr>\n",
       "      <th>38</th>\n",
       "      <td>shine011.jpg</td>\n",
       "      <td>shine</td>\n",
       "      <td>sunrise</td>\n",
       "      <td>0.00</td>\n",
       "      <td>0.00</td>\n",
       "      <td>0.00</td>\n",
       "      <td>1.00</td>\n",
       "      <td>2</td>\n",
       "    </tr>\n",
       "    <tr>\n",
       "      <th>39</th>\n",
       "      <td>shine012.jpg</td>\n",
       "      <td>shine</td>\n",
       "      <td>cloudy</td>\n",
       "      <td>0.47</td>\n",
       "      <td>0.42</td>\n",
       "      <td>0.11</td>\n",
       "      <td>0.00</td>\n",
       "      <td>2</td>\n",
       "    </tr>\n",
       "    <tr>\n",
       "      <th>41</th>\n",
       "      <td>shine014.jpg</td>\n",
       "      <td>shine</td>\n",
       "      <td>rain</td>\n",
       "      <td>0.11</td>\n",
       "      <td>0.81</td>\n",
       "      <td>0.05</td>\n",
       "      <td>0.03</td>\n",
       "      <td>2</td>\n",
       "    </tr>\n",
       "    <tr>\n",
       "      <th>43</th>\n",
       "      <td>sunrise001.jpg</td>\n",
       "      <td>sunrise</td>\n",
       "      <td>shine</td>\n",
       "      <td>0.05</td>\n",
       "      <td>0.00</td>\n",
       "      <td>0.92</td>\n",
       "      <td>0.02</td>\n",
       "      <td>3</td>\n",
       "    </tr>\n",
       "    <tr>\n",
       "      <th>44</th>\n",
       "      <td>sunrise002.jpg</td>\n",
       "      <td>sunrise</td>\n",
       "      <td>cloudy</td>\n",
       "      <td>0.68</td>\n",
       "      <td>0.01</td>\n",
       "      <td>0.00</td>\n",
       "      <td>0.31</td>\n",
       "      <td>3</td>\n",
       "    </tr>\n",
       "    <tr>\n",
       "      <th>48</th>\n",
       "      <td>sunrise007.jpg</td>\n",
       "      <td>sunrise</td>\n",
       "      <td>shine</td>\n",
       "      <td>0.00</td>\n",
       "      <td>0.36</td>\n",
       "      <td>0.64</td>\n",
       "      <td>0.01</td>\n",
       "      <td>3</td>\n",
       "    </tr>\n",
       "    <tr>\n",
       "      <th>50</th>\n",
       "      <td>sunrise009.jpg</td>\n",
       "      <td>sunrise</td>\n",
       "      <td>rain</td>\n",
       "      <td>0.00</td>\n",
       "      <td>0.88</td>\n",
       "      <td>0.03</td>\n",
       "      <td>0.08</td>\n",
       "      <td>3</td>\n",
       "    </tr>\n",
       "    <tr>\n",
       "      <th>52</th>\n",
       "      <td>sunrise011.jpg</td>\n",
       "      <td>sunrise</td>\n",
       "      <td>cloudy</td>\n",
       "      <td>0.96</td>\n",
       "      <td>0.02</td>\n",
       "      <td>0.00</td>\n",
       "      <td>0.02</td>\n",
       "      <td>3</td>\n",
       "    </tr>\n",
       "    <tr>\n",
       "      <th>53</th>\n",
       "      <td>sunrise012.jpg</td>\n",
       "      <td>sunrise</td>\n",
       "      <td>rain</td>\n",
       "      <td>0.00</td>\n",
       "      <td>0.96</td>\n",
       "      <td>0.03</td>\n",
       "      <td>0.01</td>\n",
       "      <td>3</td>\n",
       "    </tr>\n",
       "    <tr>\n",
       "      <th>55</th>\n",
       "      <td>sunrise014.jpg</td>\n",
       "      <td>sunrise</td>\n",
       "      <td>rain</td>\n",
       "      <td>0.00</td>\n",
       "      <td>0.54</td>\n",
       "      <td>0.04</td>\n",
       "      <td>0.42</td>\n",
       "      <td>3</td>\n",
       "    </tr>\n",
       "    <tr>\n",
       "      <th>56</th>\n",
       "      <td>sunrise015.jpg</td>\n",
       "      <td>sunrise</td>\n",
       "      <td>rain</td>\n",
       "      <td>0.00</td>\n",
       "      <td>0.84</td>\n",
       "      <td>0.00</td>\n",
       "      <td>0.16</td>\n",
       "      <td>3</td>\n",
       "    </tr>\n",
       "    <tr>\n",
       "      <th>57</th>\n",
       "      <td>sunrise016.jpg</td>\n",
       "      <td>sunrise</td>\n",
       "      <td>shine</td>\n",
       "      <td>0.00</td>\n",
       "      <td>0.04</td>\n",
       "      <td>0.67</td>\n",
       "      <td>0.29</td>\n",
       "      <td>3</td>\n",
       "    </tr>\n",
       "    <tr>\n",
       "      <th>58</th>\n",
       "      <td>cloudy001.jpeg</td>\n",
       "      <td>cloudy</td>\n",
       "      <td>sunrise</td>\n",
       "      <td>0.01</td>\n",
       "      <td>0.00</td>\n",
       "      <td>0.02</td>\n",
       "      <td>0.97</td>\n",
       "      <td>0</td>\n",
       "    </tr>\n",
       "    <tr>\n",
       "      <th>59</th>\n",
       "      <td>rain002.jpeg</td>\n",
       "      <td>rain</td>\n",
       "      <td>shine</td>\n",
       "      <td>0.00</td>\n",
       "      <td>0.34</td>\n",
       "      <td>0.60</td>\n",
       "      <td>0.06</td>\n",
       "      <td>1</td>\n",
       "    </tr>\n",
       "    <tr>\n",
       "      <th>60</th>\n",
       "      <td>rain015.jpeg</td>\n",
       "      <td>rain</td>\n",
       "      <td>sunrise</td>\n",
       "      <td>0.00</td>\n",
       "      <td>0.01</td>\n",
       "      <td>0.01</td>\n",
       "      <td>0.98</td>\n",
       "      <td>1</td>\n",
       "    </tr>\n",
       "    <tr>\n",
       "      <th>61</th>\n",
       "      <td>sunrise013.png</td>\n",
       "      <td>sunrise</td>\n",
       "      <td>shine</td>\n",
       "      <td>0.00</td>\n",
       "      <td>0.00</td>\n",
       "      <td>1.00</td>\n",
       "      <td>0.00</td>\n",
       "      <td>3</td>\n",
       "    </tr>\n",
       "  </tbody>\n",
       "</table>\n",
       "</div>"
      ],
      "text/plain": [
       "           picture   target  predict  cloudy_proba_0  rain_proba_1  \\\n",
       "1    cloudy003.jpg   cloudy    shine            0.41          0.00   \n",
       "4    cloudy006.jpg   cloudy  sunrise            0.05          0.02   \n",
       "8    cloudy010.jpg   cloudy    shine            0.00          0.00   \n",
       "9    cloudy011.jpg   cloudy  sunrise            0.05          0.03   \n",
       "13   cloudy015.jpg   cloudy    shine            0.03          0.01   \n",
       "19     rain007.jpg     rain  sunrise            0.00          0.03   \n",
       "20     rain008.jpg     rain  sunrise            0.00          0.25   \n",
       "21     rain009.jpg     rain  sunrise            0.01          0.25   \n",
       "22     rain010.jpg     rain  sunrise            0.00          0.00   \n",
       "23     rain011.jpg     rain  sunrise            0.00          0.00   \n",
       "24     rain012.jpg     rain  sunrise            0.00          0.10   \n",
       "29    shine002.jpg    shine   cloudy            0.99          0.00   \n",
       "31    shine004.jpg    shine     rain            0.08          0.73   \n",
       "33    shine006.jpg    shine   cloudy            0.90          0.01   \n",
       "34    shine007.jpg    shine   cloudy            1.00          0.00   \n",
       "35    shine008.jpg    shine   cloudy            1.00          0.00   \n",
       "36    shine009.jpg    shine   cloudy            0.98          0.00   \n",
       "37    shine010.jpg    shine   cloudy            0.98          0.00   \n",
       "38    shine011.jpg    shine  sunrise            0.00          0.00   \n",
       "39    shine012.jpg    shine   cloudy            0.47          0.42   \n",
       "41    shine014.jpg    shine     rain            0.11          0.81   \n",
       "43  sunrise001.jpg  sunrise    shine            0.05          0.00   \n",
       "44  sunrise002.jpg  sunrise   cloudy            0.68          0.01   \n",
       "48  sunrise007.jpg  sunrise    shine            0.00          0.36   \n",
       "50  sunrise009.jpg  sunrise     rain            0.00          0.88   \n",
       "52  sunrise011.jpg  sunrise   cloudy            0.96          0.02   \n",
       "53  sunrise012.jpg  sunrise     rain            0.00          0.96   \n",
       "55  sunrise014.jpg  sunrise     rain            0.00          0.54   \n",
       "56  sunrise015.jpg  sunrise     rain            0.00          0.84   \n",
       "57  sunrise016.jpg  sunrise    shine            0.00          0.04   \n",
       "58  cloudy001.jpeg   cloudy  sunrise            0.01          0.00   \n",
       "59    rain002.jpeg     rain    shine            0.00          0.34   \n",
       "60    rain015.jpeg     rain  sunrise            0.00          0.01   \n",
       "61  sunrise013.png  sunrise    shine            0.00          0.00   \n",
       "\n",
       "    shine_proba_2  sunrise_proba_3  y  \n",
       "1            0.59             0.00  0  \n",
       "4            0.18             0.74  0  \n",
       "8            1.00             0.00  0  \n",
       "9            0.36             0.56  0  \n",
       "13           0.96             0.00  0  \n",
       "19           0.00             0.97  1  \n",
       "20           0.08             0.67  1  \n",
       "21           0.00             0.74  1  \n",
       "22           0.00             1.00  1  \n",
       "23           0.00             1.00  1  \n",
       "24           0.02             0.88  1  \n",
       "29           0.01             0.00  2  \n",
       "31           0.05             0.13  2  \n",
       "33           0.09             0.00  2  \n",
       "34           0.00             0.00  2  \n",
       "35           0.00             0.00  2  \n",
       "36           0.02             0.00  2  \n",
       "37           0.01             0.00  2  \n",
       "38           0.00             1.00  2  \n",
       "39           0.11             0.00  2  \n",
       "41           0.05             0.03  2  \n",
       "43           0.92             0.02  3  \n",
       "44           0.00             0.31  3  \n",
       "48           0.64             0.01  3  \n",
       "50           0.03             0.08  3  \n",
       "52           0.00             0.02  3  \n",
       "53           0.03             0.01  3  \n",
       "55           0.04             0.42  3  \n",
       "56           0.00             0.16  3  \n",
       "57           0.67             0.29  3  \n",
       "58           0.02             0.97  0  \n",
       "59           0.60             0.06  1  \n",
       "60           0.01             0.98  1  \n",
       "61           1.00             0.00  3  "
      ]
     },
     "execution_count": 28,
     "metadata": {},
     "output_type": "execute_result"
    }
   ],
   "source": [
    "df_test[df_test[\"target\"]!=df_test[\"predict\"]]"
   ]
  },
  {
   "cell_type": "code",
   "execution_count": 29,
   "id": "38662caa",
   "metadata": {},
   "outputs": [],
   "source": [
    "from sklearn.metrics import confusion_matrix\n",
    "import seaborn as sns"
   ]
  },
  {
   "cell_type": "code",
   "execution_count": 30,
   "id": "7f58c34b",
   "metadata": {},
   "outputs": [
    {
     "data": {
      "text/html": [
       "<div>\n",
       "<style scoped>\n",
       "    .dataframe tbody tr th:only-of-type {\n",
       "        vertical-align: middle;\n",
       "    }\n",
       "\n",
       "    .dataframe tbody tr th {\n",
       "        vertical-align: top;\n",
       "    }\n",
       "\n",
       "    .dataframe thead th {\n",
       "        text-align: right;\n",
       "    }\n",
       "</style>\n",
       "<table border=\"1\" class=\"dataframe\">\n",
       "  <thead>\n",
       "    <tr style=\"text-align: right;\">\n",
       "      <th></th>\n",
       "      <th>0</th>\n",
       "      <th>1</th>\n",
       "      <th>2</th>\n",
       "      <th>3</th>\n",
       "    </tr>\n",
       "  </thead>\n",
       "  <tbody>\n",
       "    <tr>\n",
       "      <th>0</th>\n",
       "      <td>9</td>\n",
       "      <td>0</td>\n",
       "      <td>3</td>\n",
       "      <td>3</td>\n",
       "    </tr>\n",
       "    <tr>\n",
       "      <th>1</th>\n",
       "      <td>0</td>\n",
       "      <td>8</td>\n",
       "      <td>1</td>\n",
       "      <td>7</td>\n",
       "    </tr>\n",
       "    <tr>\n",
       "      <th>2</th>\n",
       "      <td>7</td>\n",
       "      <td>2</td>\n",
       "      <td>5</td>\n",
       "      <td>1</td>\n",
       "    </tr>\n",
       "    <tr>\n",
       "      <th>3</th>\n",
       "      <td>2</td>\n",
       "      <td>4</td>\n",
       "      <td>4</td>\n",
       "      <td>6</td>\n",
       "    </tr>\n",
       "  </tbody>\n",
       "</table>\n",
       "</div>"
      ],
      "text/plain": [
       "   0  1  2  3\n",
       "0  9  0  3  3\n",
       "1  0  8  1  7\n",
       "2  7  2  5  1\n",
       "3  2  4  4  6"
      ]
     },
     "execution_count": 30,
     "metadata": {},
     "output_type": "execute_result"
    }
   ],
   "source": [
    "cf_m = confusion_matrix(df_test['y'], label_encoder.transform(df_test['predict']))\n",
    "df_confusion = pd.DataFrame(cf_m)\n",
    "df_confusion"
   ]
  },
  {
   "cell_type": "code",
   "execution_count": 31,
   "id": "79e81529",
   "metadata": {},
   "outputs": [
    {
     "data": {
      "text/html": [
       "<div>\n",
       "<style scoped>\n",
       "    .dataframe tbody tr th:only-of-type {\n",
       "        vertical-align: middle;\n",
       "    }\n",
       "\n",
       "    .dataframe tbody tr th {\n",
       "        vertical-align: top;\n",
       "    }\n",
       "\n",
       "    .dataframe thead th {\n",
       "        text-align: right;\n",
       "    }\n",
       "</style>\n",
       "<table border=\"1\" class=\"dataframe\">\n",
       "  <thead>\n",
       "    <tr style=\"text-align: right;\">\n",
       "      <th></th>\n",
       "      <th>cloudy</th>\n",
       "      <th>rain</th>\n",
       "      <th>shine</th>\n",
       "      <th>sunrise</th>\n",
       "    </tr>\n",
       "    <tr>\n",
       "      <th>expected</th>\n",
       "      <th></th>\n",
       "      <th></th>\n",
       "      <th></th>\n",
       "      <th></th>\n",
       "    </tr>\n",
       "  </thead>\n",
       "  <tbody>\n",
       "    <tr>\n",
       "      <th>cloudy</th>\n",
       "      <td>9</td>\n",
       "      <td>0</td>\n",
       "      <td>3</td>\n",
       "      <td>3</td>\n",
       "    </tr>\n",
       "    <tr>\n",
       "      <th>rain</th>\n",
       "      <td>0</td>\n",
       "      <td>8</td>\n",
       "      <td>1</td>\n",
       "      <td>7</td>\n",
       "    </tr>\n",
       "    <tr>\n",
       "      <th>shine</th>\n",
       "      <td>7</td>\n",
       "      <td>2</td>\n",
       "      <td>5</td>\n",
       "      <td>1</td>\n",
       "    </tr>\n",
       "    <tr>\n",
       "      <th>sunrise</th>\n",
       "      <td>2</td>\n",
       "      <td>4</td>\n",
       "      <td>4</td>\n",
       "      <td>6</td>\n",
       "    </tr>\n",
       "  </tbody>\n",
       "</table>\n",
       "</div>"
      ],
      "text/plain": [
       "          cloudy  rain  shine  sunrise\n",
       "expected                              \n",
       "cloudy         9     0      3        3\n",
       "rain           0     8      1        7\n",
       "shine          7     2      5        1\n",
       "sunrise        2     4      4        6"
      ]
     },
     "execution_count": 31,
     "metadata": {},
     "output_type": "execute_result"
    }
   ],
   "source": [
    "df_confusion[\"expected\"] = \"\"\n",
    "for i in range(0, 4):\n",
    "    label = label_encoder.inverse_transform([i])[0]\n",
    "    df_confusion.loc[i,\"expected\"] = label_encoder.inverse_transform([i])[0]\n",
    "    df_confusion = df_confusion.rename(columns={i:label})\n",
    "\n",
    "df_confusion = df_confusion.set_index(\"expected\")\n",
    "df_confusion"
   ]
  },
  {
   "cell_type": "code",
   "execution_count": 32,
   "id": "7a19c223",
   "metadata": {},
   "outputs": [
    {
     "data": {
      "text/plain": [
       "<AxesSubplot:ylabel='expected'>"
      ]
     },
     "execution_count": 32,
     "metadata": {},
     "output_type": "execute_result"
    },
    {
     "data": {
      "image/png": "[encoded data removed]",
      "text/plain": [
       "<Figure size 432x288 with 2 Axes>"
      ]
     },
     "metadata": {
      "needs_background": "light"
     },
     "output_type": "display_data"
    }
   ],
   "source": [
    "sns.heatmap(df_confusion, annot=True)"
   ]
  },
  {
   "cell_type": "markdown",
   "id": "dc0c802f",
   "metadata": {},
   "source": [
    "<div style=\"display: flex; background-color: Green; padding: 7px;\" >\n",
    "\n",
    "### 2.6. Analyse\n",
    "</div>"
   ]
  },
  {
   "cell_type": "markdown",
   "id": "5c79ef9b",
   "metadata": {},
   "source": [
    "Il y a un gros écart entre le score sur le train et le score sur le test.\n",
    "Nous générons donc la courbe d'apprentissage pour avoir une vision de l'apprentissage du modèle"
   ]
  },
  {
   "cell_type": "markdown",
   "id": "dc0c802f",
   "metadata": {},
   "source": [
    "<div style=\"display: flex; background-color: Green; padding: 7px;\" >\n",
    "\n",
    "### 2.7. Learning Curve\n",
    "</div>"
   ]
  },
  {
   "cell_type": "code",
   "execution_count": null,
   "id": "2adca9cd",
   "metadata": {},
   "outputs": [],
   "source": [
    "# cellule pour éviter de lancer le traitement par erreur\n",
    "Just to fail"
   ]
  },
  {
   "cell_type": "code",
   "execution_count": 37,
   "id": "a32b86cd",
   "metadata": {},
   "outputs": [],
   "source": [
    "from sklearn.model_selection import learning_curve"
   ]
  },
  {
   "cell_type": "code",
   "execution_count": 38,
   "id": "3aa75e80",
   "metadata": {},
   "outputs": [
    {
     "name": "stdout",
     "output_type": "stream",
     "text": [
      "[ 38  76 114 152 190 228 266 304 342 380]\n"
     ]
    },
    {
     "data": {
      "text/plain": [
       "<matplotlib.legend.Legend at 0x1f007914160>"
      ]
     },
     "execution_count": 38,
     "metadata": {},
     "output_type": "execute_result"
    },
    {
     "data": {
      "image/png": "[encoded data removed]",
      "text/plain": [
       "<Figure size 432x288 with 1 Axes>"
      ]
     },
     "metadata": {
      "needs_background": "light"
     },
     "output_type": "display_data"
    }
   ],
   "source": [
    "N, train_score, val_score = learning_curve(mlp, X_src, Y_src,\n",
    "                                           train_sizes=np.linspace(0.1, 1, 10), cv=20)\n",
    "print(N)\n",
    "plt.plot(N, train_score.mean(axis=1), label='train')\n",
    "plt.plot(N, val_score.mean(axis=1), label='validation')\n",
    "plt.xlabel('train_sizes')\n",
    "plt.legend()"
   ]
  },
  {
   "cell_type": "code",
   "execution_count": 39,
   "id": "249ade93",
   "metadata": {},
   "outputs": [
    {
     "name": "stdout",
     "output_type": "stream",
     "text": [
      "(462, 387)\n",
      "(462,)\n"
     ]
    }
   ],
   "source": [
    "X_FULL = X_src.copy()\n",
    "Y_FULL = Y_src.copy()\n",
    "\n",
    "df_X_completed = np.concatenate((X_src, X_test))\n",
    "df_Y_completed = np.concatenate((Y_src, Y_test))\n",
    "print(df_X_completed.shape)\n",
    "print(df_Y_completed.shape)"
   ]
  },
  {
   "cell_type": "code",
   "execution_count": 40,
   "id": "3aa75e80",
   "metadata": {},
   "outputs": [
    {
     "name": "stdout",
     "output_type": "stream",
     "text": [
      "[ 43  87 131 175 219 262 306 350 394 438]\n"
     ]
    },
    {
     "data": {
      "text/plain": [
       "<matplotlib.legend.Legend at 0x1f00780cbb0>"
      ]
     },
     "execution_count": 40,
     "metadata": {},
     "output_type": "execute_result"
    },
    {
     "data": {
      "image/png": "[encoded data removed]",
      "text/plain": [
       "<Figure size 432x288 with 1 Axes>"
      ]
     },
     "metadata": {
      "needs_background": "light"
     },
     "output_type": "display_data"
    }
   ],
   "source": [
    "N, train_score, val_score = learning_curve(mlp, df_X_completed, df_Y_completed,\n",
    "                                           train_sizes=np.linspace(0.1, 1, 10), cv=20)\n",
    "print(N)\n",
    "plt.plot(N, train_score.mean(axis=1), label='train')\n",
    "plt.plot(N, val_score.mean(axis=1), label='validation')\n",
    "plt.xlabel('train_sizes')\n",
    "plt.legend()"
   ]
  },
  {
   "cell_type": "markdown",
   "metadata": {},
   "source": [
    "<div style=\"display: flex; background-color: indigo;\" >\n",
    "\n",
    "#### Analyse\n",
    "</div>\n",
    "\n",
    "Sur les 2 courbes d'apprentissage précédentes, on voit qu'il y a un problème d'apprentissage, car le score du train reste à 1.          \n",
    "Le modèle ne sait donc pas qu'il n'a pas correctement appris.         \n",
    "Essai avec d'autres modèles pour voir s'il s'agit d'un soucis de sélection du modèle ou d'un manque de données ou les deux."
   ]
  },
  {
   "cell_type": "code",
   "execution_count": 42,
   "id": "2263750d",
   "metadata": {},
   "outputs": [
    {
     "name": "stdout",
     "output_type": "stream",
     "text": [
      "[ 43  87 131 175 219 262 306 350 394 438]\n"
     ]
    },
    {
     "data": {
      "text/plain": [
       "<matplotlib.legend.Legend at 0x1f0079141c0>"
      ]
     },
     "execution_count": 42,
     "metadata": {},
     "output_type": "execute_result"
    },
    {
     "data": {
      "image/png": "[encoded data removed]",
      "text/plain": [
       "<Figure size 432x288 with 1 Axes>"
      ]
     },
     "metadata": {
      "needs_background": "light"
     },
     "output_type": "display_data"
    }
   ],
   "source": [
    "from sklearn.neighbors import KNeighborsClassifier\n",
    "\n",
    "model = KNeighborsClassifier()\n",
    "N, train_score, val_score = learning_curve(model, df_X_completed, df_Y_completed,\n",
    "                                           train_sizes=np.linspace(0.1, 1, 10), cv=20)\n",
    "\n",
    "print(N)\n",
    "plt.plot(N, train_score.mean(axis=1), label='train')\n",
    "plt.plot(N, val_score.mean(axis=1), label='validation')\n",
    "plt.xlabel('train_sizes')\n",
    "plt.legend()"
   ]
  },
  {
   "cell_type": "code",
   "execution_count": null,
   "id": "2263750d",
   "metadata": {},
   "outputs": [
    {
     "name": "stdout",
     "output_type": "stream",
     "text": [
      "[ 38  76 114 152 190 228 266 304 342 380]\n"
     ]
    },
    {
     "data": {
      "text/plain": [
       "<matplotlib.legend.Legend at 0x1f007962850>"
      ]
     },
     "metadata": {},
     "output_type": "display_data"
    },
    {
     "data": {
      "image/png": "[encoded data removed]",
      "text/plain": [
       "<Figure size 432x288 with 1 Axes>"
      ]
     },
     "metadata": {},
     "output_type": "display_data"
    }
   ],
   "source": [
    "from sklearn.neighbors import KNeighborsClassifier\n",
    "\n",
    "model = KNeighborsClassifier()\n",
    "N, train_score, val_score = learning_curve(model, X_src, Y_src,\n",
    "                                           train_sizes=np.linspace(0.1, 1, 10), cv=20)\n",
    "\n",
    "print(N)\n",
    "plt.plot(N, train_score.mean(axis=1), label='train')\n",
    "plt.plot(N, val_score.mean(axis=1), label='validation')\n",
    "plt.xlabel('train_sizes')\n",
    "plt.legend()"
   ]
  },
  {
   "cell_type": "code",
   "execution_count": 43,
   "id": "890d0eff",
   "metadata": {},
   "outputs": [
    {
     "name": "stdout",
     "output_type": "stream",
     "text": [
      "[ 43  87 131 175 219 262 306 350 394 438]\n"
     ]
    },
    {
     "data": {
      "text/plain": [
       "<matplotlib.legend.Legend at 0x1f00580e790>"
      ]
     },
     "execution_count": 43,
     "metadata": {},
     "output_type": "execute_result"
    },
    {
     "data": {
      "image/png": "[encoded data removed]",
      "text/plain": [
       "<Figure size 432x288 with 1 Axes>"
      ]
     },
     "metadata": {
      "needs_background": "light"
     },
     "output_type": "display_data"
    }
   ],
   "source": [
    "N, train_score, val_score = learning_curve(sv, df_X_completed, df_Y_completed,\n",
    "                                           train_sizes=np.linspace(0.1, 1, 10), cv=20)\n",
    "print(N)\n",
    "plt.plot(N, train_score.mean(axis=1), label='train')\n",
    "plt.plot(N, val_score.mean(axis=1), label='validation')\n",
    "plt.xlabel('train_sizes')\n",
    "plt.legend()"
   ]
  },
  {
   "cell_type": "markdown",
   "id": "5b72c44c",
   "metadata": {},
   "source": [
    "<div style=\"display: flex; background-color: indigo;\" >\n",
    "\n",
    "#### Analyse\n",
    "</div>\n",
    "\n",
    "Ces 2 modèles semblent plus pertinents, cependant nous notons qu'il manque également des données pour obtenir des résulats satisfaisants."
   ]
  },
  {
   "cell_type": "markdown",
   "id": "dc0c802f",
   "metadata": {},
   "source": [
    "<div style=\"display: flex; background-color: Blue; padding: 15px;\" >\n",
    "\n",
    "## 8.ACP\n",
    "</div>\n",
    "\n",
    "Utilisation de l'ACP pour réduire les données"
   ]
  },
  {
   "cell_type": "code",
   "execution_count": 33,
   "id": "4f845abf",
   "metadata": {},
   "outputs": [],
   "source": [
    "from sklearn import decomposition\n",
    "from sklearn import preprocessing"
   ]
  },
  {
   "cell_type": "code",
   "execution_count": 34,
   "id": "1bb38c82",
   "metadata": {},
   "outputs": [
    {
     "name": "stdout",
     "output_type": "stream",
     "text": [
      "0 NAN\n"
     ]
    },
    {
     "data": {
      "text/plain": [
       "(320, 387)"
      ]
     },
     "execution_count": 34,
     "metadata": {},
     "output_type": "execute_result"
    }
   ],
   "source": [
    "# selection des colonnes à prendre en compte dans l'ACP\n",
    "df_centre_reduit = pd.DataFrame(X.copy())\n",
    "print(\"{:_} NAN\".format(df_centre_reduit.isna().sum().sum()))\n",
    "df_centre_reduit.shape"
   ]
  },
  {
   "cell_type": "code",
   "execution_count": 35,
   "id": "47416f50",
   "metadata": {},
   "outputs": [
    {
     "data": {
      "text/plain": [
       "387"
      ]
     },
     "execution_count": 35,
     "metadata": {},
     "output_type": "execute_result"
    }
   ],
   "source": [
    "df_centre_reduit.shape[1]"
   ]
  },
  {
   "cell_type": "code",
   "execution_count": 36,
   "id": "02c47d26",
   "metadata": {},
   "outputs": [
    {
     "data": {
      "text/html": [
       "<div>\n",
       "<style scoped>\n",
       "    .dataframe tbody tr th:only-of-type {\n",
       "        vertical-align: middle;\n",
       "    }\n",
       "\n",
       "    .dataframe tbody tr th {\n",
       "        vertical-align: top;\n",
       "    }\n",
       "\n",
       "    .dataframe thead th {\n",
       "        text-align: right;\n",
       "    }\n",
       "</style>\n",
       "<table border=\"1\" class=\"dataframe\">\n",
       "  <thead>\n",
       "    <tr style=\"text-align: right;\">\n",
       "      <th></th>\n",
       "      <th>F1</th>\n",
       "      <th>F2</th>\n",
       "      <th>F3</th>\n",
       "      <th>F4</th>\n",
       "      <th>F5</th>\n",
       "      <th>F6</th>\n",
       "      <th>F7</th>\n",
       "      <th>F8</th>\n",
       "      <th>F9</th>\n",
       "      <th>F10</th>\n",
       "      <th>...</th>\n",
       "      <th>F311</th>\n",
       "      <th>F312</th>\n",
       "      <th>F313</th>\n",
       "      <th>F314</th>\n",
       "      <th>F315</th>\n",
       "      <th>F316</th>\n",
       "      <th>F317</th>\n",
       "      <th>F318</th>\n",
       "      <th>F319</th>\n",
       "      <th>F320</th>\n",
       "    </tr>\n",
       "  </thead>\n",
       "  <tbody>\n",
       "    <tr>\n",
       "      <th>0</th>\n",
       "      <td>1.964869</td>\n",
       "      <td>-4.290546</td>\n",
       "      <td>-2.531062</td>\n",
       "      <td>0.421926</td>\n",
       "      <td>-1.733097</td>\n",
       "      <td>-0.024717</td>\n",
       "      <td>-0.860963</td>\n",
       "      <td>-1.705541</td>\n",
       "      <td>-0.986893</td>\n",
       "      <td>-1.966318</td>\n",
       "      <td>...</td>\n",
       "      <td>0.026583</td>\n",
       "      <td>-0.247727</td>\n",
       "      <td>0.111839</td>\n",
       "      <td>2.353618e-15</td>\n",
       "      <td>1.110160e-19</td>\n",
       "      <td>9.410784e-18</td>\n",
       "      <td>3.112572e-18</td>\n",
       "      <td>2.726959e-17</td>\n",
       "      <td>3.533417e-19</td>\n",
       "      <td>1.472685e-20</td>\n",
       "    </tr>\n",
       "    <tr>\n",
       "      <th>1</th>\n",
       "      <td>-3.971259</td>\n",
       "      <td>-5.987972</td>\n",
       "      <td>1.117064</td>\n",
       "      <td>1.568000</td>\n",
       "      <td>-4.531402</td>\n",
       "      <td>0.761957</td>\n",
       "      <td>0.622539</td>\n",
       "      <td>-1.671289</td>\n",
       "      <td>5.363007</td>\n",
       "      <td>0.483224</td>\n",
       "      <td>...</td>\n",
       "      <td>0.063909</td>\n",
       "      <td>-0.047894</td>\n",
       "      <td>-0.040416</td>\n",
       "      <td>2.353618e-15</td>\n",
       "      <td>1.110160e-19</td>\n",
       "      <td>9.410784e-18</td>\n",
       "      <td>3.112572e-18</td>\n",
       "      <td>2.726959e-17</td>\n",
       "      <td>3.533417e-19</td>\n",
       "      <td>1.472685e-20</td>\n",
       "    </tr>\n",
       "    <tr>\n",
       "      <th>2</th>\n",
       "      <td>-9.131885</td>\n",
       "      <td>-1.515514</td>\n",
       "      <td>-1.837617</td>\n",
       "      <td>-0.986601</td>\n",
       "      <td>-2.510514</td>\n",
       "      <td>1.533475</td>\n",
       "      <td>0.742312</td>\n",
       "      <td>1.052235</td>\n",
       "      <td>2.190562</td>\n",
       "      <td>0.735271</td>\n",
       "      <td>...</td>\n",
       "      <td>0.113219</td>\n",
       "      <td>0.020109</td>\n",
       "      <td>0.066252</td>\n",
       "      <td>2.353618e-15</td>\n",
       "      <td>1.110160e-19</td>\n",
       "      <td>9.410784e-18</td>\n",
       "      <td>3.112572e-18</td>\n",
       "      <td>2.726959e-17</td>\n",
       "      <td>3.533417e-19</td>\n",
       "      <td>1.472685e-20</td>\n",
       "    </tr>\n",
       "    <tr>\n",
       "      <th>3</th>\n",
       "      <td>4.862218</td>\n",
       "      <td>5.557494</td>\n",
       "      <td>-0.124147</td>\n",
       "      <td>-0.119182</td>\n",
       "      <td>2.249912</td>\n",
       "      <td>1.078662</td>\n",
       "      <td>-1.786923</td>\n",
       "      <td>-1.476395</td>\n",
       "      <td>-0.742902</td>\n",
       "      <td>-0.325030</td>\n",
       "      <td>...</td>\n",
       "      <td>0.139793</td>\n",
       "      <td>0.048605</td>\n",
       "      <td>-0.005242</td>\n",
       "      <td>2.353618e-15</td>\n",
       "      <td>1.110160e-19</td>\n",
       "      <td>9.410784e-18</td>\n",
       "      <td>3.112572e-18</td>\n",
       "      <td>2.726959e-17</td>\n",
       "      <td>3.533417e-19</td>\n",
       "      <td>1.472685e-20</td>\n",
       "    </tr>\n",
       "    <tr>\n",
       "      <th>4</th>\n",
       "      <td>4.120370</td>\n",
       "      <td>0.748979</td>\n",
       "      <td>5.914169</td>\n",
       "      <td>-3.271797</td>\n",
       "      <td>0.548411</td>\n",
       "      <td>1.957564</td>\n",
       "      <td>-1.793425</td>\n",
       "      <td>-2.294677</td>\n",
       "      <td>1.275212</td>\n",
       "      <td>-1.069637</td>\n",
       "      <td>...</td>\n",
       "      <td>-0.040042</td>\n",
       "      <td>-0.038455</td>\n",
       "      <td>0.107403</td>\n",
       "      <td>2.353618e-15</td>\n",
       "      <td>1.110160e-19</td>\n",
       "      <td>9.410784e-18</td>\n",
       "      <td>3.112572e-18</td>\n",
       "      <td>2.726959e-17</td>\n",
       "      <td>3.533417e-19</td>\n",
       "      <td>1.472685e-20</td>\n",
       "    </tr>\n",
       "    <tr>\n",
       "      <th>...</th>\n",
       "      <td>...</td>\n",
       "      <td>...</td>\n",
       "      <td>...</td>\n",
       "      <td>...</td>\n",
       "      <td>...</td>\n",
       "      <td>...</td>\n",
       "      <td>...</td>\n",
       "      <td>...</td>\n",
       "      <td>...</td>\n",
       "      <td>...</td>\n",
       "      <td>...</td>\n",
       "      <td>...</td>\n",
       "      <td>...</td>\n",
       "      <td>...</td>\n",
       "      <td>...</td>\n",
       "      <td>...</td>\n",
       "      <td>...</td>\n",
       "      <td>...</td>\n",
       "      <td>...</td>\n",
       "      <td>...</td>\n",
       "      <td>...</td>\n",
       "    </tr>\n",
       "    <tr>\n",
       "      <th>315</th>\n",
       "      <td>-3.175245</td>\n",
       "      <td>-4.363192</td>\n",
       "      <td>4.137161</td>\n",
       "      <td>-0.532791</td>\n",
       "      <td>1.924419</td>\n",
       "      <td>-1.246030</td>\n",
       "      <td>1.769368</td>\n",
       "      <td>-0.588997</td>\n",
       "      <td>0.972752</td>\n",
       "      <td>-1.385609</td>\n",
       "      <td>...</td>\n",
       "      <td>0.084990</td>\n",
       "      <td>0.054937</td>\n",
       "      <td>-0.158748</td>\n",
       "      <td>2.353618e-15</td>\n",
       "      <td>1.110160e-19</td>\n",
       "      <td>9.410784e-18</td>\n",
       "      <td>3.112572e-18</td>\n",
       "      <td>2.726959e-17</td>\n",
       "      <td>3.533417e-19</td>\n",
       "      <td>1.472685e-20</td>\n",
       "    </tr>\n",
       "    <tr>\n",
       "      <th>316</th>\n",
       "      <td>7.661450</td>\n",
       "      <td>3.866458</td>\n",
       "      <td>-5.922714</td>\n",
       "      <td>-1.558062</td>\n",
       "      <td>0.758618</td>\n",
       "      <td>1.500342</td>\n",
       "      <td>1.322423</td>\n",
       "      <td>-0.306389</td>\n",
       "      <td>1.223611</td>\n",
       "      <td>2.528244</td>\n",
       "      <td>...</td>\n",
       "      <td>0.127899</td>\n",
       "      <td>-0.081943</td>\n",
       "      <td>0.157921</td>\n",
       "      <td>2.353618e-15</td>\n",
       "      <td>1.110160e-19</td>\n",
       "      <td>9.410784e-18</td>\n",
       "      <td>3.112572e-18</td>\n",
       "      <td>2.726959e-17</td>\n",
       "      <td>3.533417e-19</td>\n",
       "      <td>1.472685e-20</td>\n",
       "    </tr>\n",
       "    <tr>\n",
       "      <th>317</th>\n",
       "      <td>-2.917019</td>\n",
       "      <td>-0.879504</td>\n",
       "      <td>1.605961</td>\n",
       "      <td>3.909330</td>\n",
       "      <td>5.081842</td>\n",
       "      <td>0.470514</td>\n",
       "      <td>-4.119891</td>\n",
       "      <td>-0.795453</td>\n",
       "      <td>0.662153</td>\n",
       "      <td>-5.042022</td>\n",
       "      <td>...</td>\n",
       "      <td>0.037621</td>\n",
       "      <td>0.052241</td>\n",
       "      <td>-0.193758</td>\n",
       "      <td>2.353618e-15</td>\n",
       "      <td>1.110160e-19</td>\n",
       "      <td>9.410784e-18</td>\n",
       "      <td>3.112572e-18</td>\n",
       "      <td>2.726959e-17</td>\n",
       "      <td>3.533417e-19</td>\n",
       "      <td>1.472685e-20</td>\n",
       "    </tr>\n",
       "    <tr>\n",
       "      <th>318</th>\n",
       "      <td>0.717852</td>\n",
       "      <td>-1.522742</td>\n",
       "      <td>-3.820856</td>\n",
       "      <td>1.436834</td>\n",
       "      <td>-3.815627</td>\n",
       "      <td>-0.196696</td>\n",
       "      <td>1.373706</td>\n",
       "      <td>0.344140</td>\n",
       "      <td>0.199001</td>\n",
       "      <td>0.797375</td>\n",
       "      <td>...</td>\n",
       "      <td>-0.019581</td>\n",
       "      <td>0.081546</td>\n",
       "      <td>-0.100239</td>\n",
       "      <td>2.353618e-15</td>\n",
       "      <td>1.110160e-19</td>\n",
       "      <td>9.410784e-18</td>\n",
       "      <td>3.112572e-18</td>\n",
       "      <td>2.726959e-17</td>\n",
       "      <td>3.533417e-19</td>\n",
       "      <td>1.472685e-20</td>\n",
       "    </tr>\n",
       "    <tr>\n",
       "      <th>319</th>\n",
       "      <td>0.833945</td>\n",
       "      <td>2.375128</td>\n",
       "      <td>1.100925</td>\n",
       "      <td>-3.072665</td>\n",
       "      <td>1.339827</td>\n",
       "      <td>-1.526177</td>\n",
       "      <td>0.154162</td>\n",
       "      <td>-1.585779</td>\n",
       "      <td>1.358746</td>\n",
       "      <td>-0.482490</td>\n",
       "      <td>...</td>\n",
       "      <td>-0.152685</td>\n",
       "      <td>-0.097495</td>\n",
       "      <td>-0.131023</td>\n",
       "      <td>2.353618e-15</td>\n",
       "      <td>1.110160e-19</td>\n",
       "      <td>9.410784e-18</td>\n",
       "      <td>3.112572e-18</td>\n",
       "      <td>2.726959e-17</td>\n",
       "      <td>3.533417e-19</td>\n",
       "      <td>1.472685e-20</td>\n",
       "    </tr>\n",
       "  </tbody>\n",
       "</table>\n",
       "<p>320 rows × 320 columns</p>\n",
       "</div>"
      ],
      "text/plain": [
       "           F1        F2        F3        F4        F5        F6        F7  \\\n",
       "0    1.964869 -4.290546 -2.531062  0.421926 -1.733097 -0.024717 -0.860963   \n",
       "1   -3.971259 -5.987972  1.117064  1.568000 -4.531402  0.761957  0.622539   \n",
       "2   -9.131885 -1.515514 -1.837617 -0.986601 -2.510514  1.533475  0.742312   \n",
       "3    4.862218  5.557494 -0.124147 -0.119182  2.249912  1.078662 -1.786923   \n",
       "4    4.120370  0.748979  5.914169 -3.271797  0.548411  1.957564 -1.793425   \n",
       "..        ...       ...       ...       ...       ...       ...       ...   \n",
       "315 -3.175245 -4.363192  4.137161 -0.532791  1.924419 -1.246030  1.769368   \n",
       "316  7.661450  3.866458 -5.922714 -1.558062  0.758618  1.500342  1.322423   \n",
       "317 -2.917019 -0.879504  1.605961  3.909330  5.081842  0.470514 -4.119891   \n",
       "318  0.717852 -1.522742 -3.820856  1.436834 -3.815627 -0.196696  1.373706   \n",
       "319  0.833945  2.375128  1.100925 -3.072665  1.339827 -1.526177  0.154162   \n",
       "\n",
       "           F8        F9       F10  ...      F311      F312      F313  \\\n",
       "0   -1.705541 -0.986893 -1.966318  ...  0.026583 -0.247727  0.111839   \n",
       "1   -1.671289  5.363007  0.483224  ...  0.063909 -0.047894 -0.040416   \n",
       "2    1.052235  2.190562  0.735271  ...  0.113219  0.020109  0.066252   \n",
       "3   -1.476395 -0.742902 -0.325030  ...  0.139793  0.048605 -0.005242   \n",
       "4   -2.294677  1.275212 -1.069637  ... -0.040042 -0.038455  0.107403   \n",
       "..        ...       ...       ...  ...       ...       ...       ...   \n",
       "315 -0.588997  0.972752 -1.385609  ...  0.084990  0.054937 -0.158748   \n",
       "316 -0.306389  1.223611  2.528244  ...  0.127899 -0.081943  0.157921   \n",
       "317 -0.795453  0.662153 -5.042022  ...  0.037621  0.052241 -0.193758   \n",
       "318  0.344140  0.199001  0.797375  ... -0.019581  0.081546 -0.100239   \n",
       "319 -1.585779  1.358746 -0.482490  ... -0.152685 -0.097495 -0.131023   \n",
       "\n",
       "             F314          F315          F316          F317          F318  \\\n",
       "0    2.353618e-15  1.110160e-19  9.410784e-18  3.112572e-18  2.726959e-17   \n",
       "1    2.353618e-15  1.110160e-19  9.410784e-18  3.112572e-18  2.726959e-17   \n",
       "2    2.353618e-15  1.110160e-19  9.410784e-18  3.112572e-18  2.726959e-17   \n",
       "3    2.353618e-15  1.110160e-19  9.410784e-18  3.112572e-18  2.726959e-17   \n",
       "4    2.353618e-15  1.110160e-19  9.410784e-18  3.112572e-18  2.726959e-17   \n",
       "..            ...           ...           ...           ...           ...   \n",
       "315  2.353618e-15  1.110160e-19  9.410784e-18  3.112572e-18  2.726959e-17   \n",
       "316  2.353618e-15  1.110160e-19  9.410784e-18  3.112572e-18  2.726959e-17   \n",
       "317  2.353618e-15  1.110160e-19  9.410784e-18  3.112572e-18  2.726959e-17   \n",
       "318  2.353618e-15  1.110160e-19  9.410784e-18  3.112572e-18  2.726959e-17   \n",
       "319  2.353618e-15  1.110160e-19  9.410784e-18  3.112572e-18  2.726959e-17   \n",
       "\n",
       "             F319          F320  \n",
       "0    3.533417e-19  1.472685e-20  \n",
       "1    3.533417e-19  1.472685e-20  \n",
       "2    3.533417e-19  1.472685e-20  \n",
       "3    3.533417e-19  1.472685e-20  \n",
       "4    3.533417e-19  1.472685e-20  \n",
       "..            ...           ...  \n",
       "315  3.533417e-19  1.472685e-20  \n",
       "316  3.533417e-19  1.472685e-20  \n",
       "317  3.533417e-19  1.472685e-20  \n",
       "318  3.533417e-19  1.472685e-20  \n",
       "319  3.533417e-19  1.472685e-20  \n",
       "\n",
       "[320 rows x 320 columns]"
      ]
     },
     "execution_count": 36,
     "metadata": {},
     "output_type": "execute_result"
    }
   ],
   "source": [
    "# must be between 0 and min(n_samples, n_features)=320 with svd_solver='full'\n",
    "# choix du nombre de composantes à calculer\n",
    "ACP_NB_COMPOSANTES = 320\n",
    "\n",
    "# préparation des données pour l'ACP\n",
    "X_acp = df_centre_reduit.values\n",
    "names = df_centre_reduit.index # ou data.index pour avoir les intitulés\n",
    "features = df_centre_reduit.columns\n",
    "\n",
    "# Centrage et Réduction\n",
    "std_scale = preprocessing.StandardScaler().fit(X_acp)\n",
    "X_scaled = std_scale.transform(X_acp)\n",
    "\n",
    "# calculer les composantes principales\n",
    "pca = decomposition.PCA(n_components=ACP_NB_COMPOSANTES)\n",
    "x_projeected = pca.fit_transform(X_scaled)\n",
    "pd.DataFrame(x_projeected, index=df_centre_reduit.index, columns=[\"F\"+str(i+1) for i in range(ACP_NB_COMPOSANTES)])"
   ]
  },
  {
   "cell_type": "code",
   "execution_count": 37,
   "id": "460e398c",
   "metadata": {},
   "outputs": [
    {
     "data": {
      "image/png": "[encoded data removed]",
      "text/plain": [
       "<Figure size 1296x504 with 1 Axes>"
      ]
     },
     "metadata": {},
     "output_type": "display_data"
    }
   ],
   "source": [
    "# Calcul des composantes principales\n",
    "pca = decomposition.PCA(n_components=ACP_NB_COMPOSANTES)\n",
    "pca.fit(X_scaled)\n",
    "\n",
    "# Eboulis des valeurs propres\n",
    "display_scree_plot(pca)"
   ]
  },
  {
   "cell_type": "code",
   "execution_count": 38,
   "id": "98d04414",
   "metadata": {},
   "outputs": [
    {
     "data": {
      "text/html": [
       "<div>\n",
       "<style scoped>\n",
       "    .dataframe tbody tr th:only-of-type {\n",
       "        vertical-align: middle;\n",
       "    }\n",
       "\n",
       "    .dataframe tbody tr th {\n",
       "        vertical-align: top;\n",
       "    }\n",
       "\n",
       "    .dataframe thead th {\n",
       "        text-align: right;\n",
       "    }\n",
       "</style>\n",
       "<table border=\"1\" class=\"dataframe\">\n",
       "  <thead>\n",
       "    <tr style=\"text-align: right;\">\n",
       "      <th></th>\n",
       "      <th>0</th>\n",
       "      <th>1</th>\n",
       "      <th>2</th>\n",
       "      <th>3</th>\n",
       "      <th>4</th>\n",
       "      <th>5</th>\n",
       "      <th>6</th>\n",
       "      <th>7</th>\n",
       "      <th>8</th>\n",
       "      <th>9</th>\n",
       "      <th>...</th>\n",
       "      <th>377</th>\n",
       "      <th>378</th>\n",
       "      <th>379</th>\n",
       "      <th>380</th>\n",
       "      <th>381</th>\n",
       "      <th>382</th>\n",
       "      <th>383</th>\n",
       "      <th>384</th>\n",
       "      <th>385</th>\n",
       "      <th>386</th>\n",
       "    </tr>\n",
       "  </thead>\n",
       "  <tbody>\n",
       "    <tr>\n",
       "      <th>0</th>\n",
       "      <td>0.000000</td>\n",
       "      <td>0.000000</td>\n",
       "      <td>0.011494</td>\n",
       "      <td>0.003831</td>\n",
       "      <td>0.00000</td>\n",
       "      <td>0.000000</td>\n",
       "      <td>0.007663</td>\n",
       "      <td>0.000000</td>\n",
       "      <td>0.003831</td>\n",
       "      <td>0.003831</td>\n",
       "      <td>...</td>\n",
       "      <td>0.000000</td>\n",
       "      <td>0.003831</td>\n",
       "      <td>0.007663</td>\n",
       "      <td>0.015326</td>\n",
       "      <td>0.000</td>\n",
       "      <td>0.003831</td>\n",
       "      <td>0.00000</td>\n",
       "      <td>0.0</td>\n",
       "      <td>0.003831</td>\n",
       "      <td>0.000</td>\n",
       "    </tr>\n",
       "    <tr>\n",
       "      <th>1</th>\n",
       "      <td>0.000000</td>\n",
       "      <td>0.014706</td>\n",
       "      <td>0.000000</td>\n",
       "      <td>0.014706</td>\n",
       "      <td>0.00000</td>\n",
       "      <td>0.000000</td>\n",
       "      <td>0.014706</td>\n",
       "      <td>0.000000</td>\n",
       "      <td>0.014706</td>\n",
       "      <td>0.000000</td>\n",
       "      <td>...</td>\n",
       "      <td>0.000000</td>\n",
       "      <td>0.000000</td>\n",
       "      <td>0.014706</td>\n",
       "      <td>0.014706</td>\n",
       "      <td>0.000</td>\n",
       "      <td>0.000000</td>\n",
       "      <td>0.00000</td>\n",
       "      <td>0.0</td>\n",
       "      <td>0.000000</td>\n",
       "      <td>0.000</td>\n",
       "    </tr>\n",
       "    <tr>\n",
       "      <th>2</th>\n",
       "      <td>0.005291</td>\n",
       "      <td>0.013228</td>\n",
       "      <td>0.000000</td>\n",
       "      <td>0.002646</td>\n",
       "      <td>0.00000</td>\n",
       "      <td>0.005291</td>\n",
       "      <td>0.000000</td>\n",
       "      <td>0.002646</td>\n",
       "      <td>0.000000</td>\n",
       "      <td>0.000000</td>\n",
       "      <td>...</td>\n",
       "      <td>0.005291</td>\n",
       "      <td>0.007937</td>\n",
       "      <td>0.002646</td>\n",
       "      <td>0.000000</td>\n",
       "      <td>0.000</td>\n",
       "      <td>0.002646</td>\n",
       "      <td>0.00000</td>\n",
       "      <td>0.0</td>\n",
       "      <td>0.002646</td>\n",
       "      <td>0.000</td>\n",
       "    </tr>\n",
       "    <tr>\n",
       "      <th>3</th>\n",
       "      <td>0.000000</td>\n",
       "      <td>0.002000</td>\n",
       "      <td>0.006000</td>\n",
       "      <td>0.002000</td>\n",
       "      <td>0.01000</td>\n",
       "      <td>0.002000</td>\n",
       "      <td>0.002000</td>\n",
       "      <td>0.016000</td>\n",
       "      <td>0.000000</td>\n",
       "      <td>0.002000</td>\n",
       "      <td>...</td>\n",
       "      <td>0.000000</td>\n",
       "      <td>0.002000</td>\n",
       "      <td>0.000000</td>\n",
       "      <td>0.000000</td>\n",
       "      <td>0.004</td>\n",
       "      <td>0.000000</td>\n",
       "      <td>0.00000</td>\n",
       "      <td>0.0</td>\n",
       "      <td>0.004000</td>\n",
       "      <td>0.002</td>\n",
       "    </tr>\n",
       "    <tr>\n",
       "      <th>4</th>\n",
       "      <td>0.002710</td>\n",
       "      <td>0.002710</td>\n",
       "      <td>0.002710</td>\n",
       "      <td>0.008130</td>\n",
       "      <td>0.00271</td>\n",
       "      <td>0.000000</td>\n",
       "      <td>0.000000</td>\n",
       "      <td>0.008130</td>\n",
       "      <td>0.000000</td>\n",
       "      <td>0.000000</td>\n",
       "      <td>...</td>\n",
       "      <td>0.000000</td>\n",
       "      <td>0.002710</td>\n",
       "      <td>0.000000</td>\n",
       "      <td>0.005420</td>\n",
       "      <td>0.000</td>\n",
       "      <td>0.000000</td>\n",
       "      <td>0.00271</td>\n",
       "      <td>0.0</td>\n",
       "      <td>0.000000</td>\n",
       "      <td>0.000</td>\n",
       "    </tr>\n",
       "  </tbody>\n",
       "</table>\n",
       "<p>5 rows × 387 columns</p>\n",
       "</div>"
      ],
      "text/plain": [
       "        0         1         2         3        4         5         6    \\\n",
       "0  0.000000  0.000000  0.011494  0.003831  0.00000  0.000000  0.007663   \n",
       "1  0.000000  0.014706  0.000000  0.014706  0.00000  0.000000  0.014706   \n",
       "2  0.005291  0.013228  0.000000  0.002646  0.00000  0.005291  0.000000   \n",
       "3  0.000000  0.002000  0.006000  0.002000  0.01000  0.002000  0.002000   \n",
       "4  0.002710  0.002710  0.002710  0.008130  0.00271  0.000000  0.000000   \n",
       "\n",
       "        7         8         9    ...       377       378       379       380  \\\n",
       "0  0.000000  0.003831  0.003831  ...  0.000000  0.003831  0.007663  0.015326   \n",
       "1  0.000000  0.014706  0.000000  ...  0.000000  0.000000  0.014706  0.014706   \n",
       "2  0.002646  0.000000  0.000000  ...  0.005291  0.007937  0.002646  0.000000   \n",
       "3  0.016000  0.000000  0.002000  ...  0.000000  0.002000  0.000000  0.000000   \n",
       "4  0.008130  0.000000  0.000000  ...  0.000000  0.002710  0.000000  0.005420   \n",
       "\n",
       "     381       382      383  384       385    386  \n",
       "0  0.000  0.003831  0.00000  0.0  0.003831  0.000  \n",
       "1  0.000  0.000000  0.00000  0.0  0.000000  0.000  \n",
       "2  0.000  0.002646  0.00000  0.0  0.002646  0.000  \n",
       "3  0.004  0.000000  0.00000  0.0  0.004000  0.002  \n",
       "4  0.000  0.000000  0.00271  0.0  0.000000  0.000  \n",
       "\n",
       "[5 rows x 387 columns]"
      ]
     },
     "execution_count": 38,
     "metadata": {},
     "output_type": "execute_result"
    }
   ],
   "source": [
    "df_centre_reduit.head()"
   ]
  },
  {
   "cell_type": "code",
   "execution_count": 39,
   "id": "cf6b2ece",
   "metadata": {},
   "outputs": [],
   "source": [
    "# choix du nombre de composantes à calculer\n",
    "ACP_NB_COMPOSANTES = 150\n",
    "\n",
    "axis_ranks = []\n",
    "\n",
    "for i in range (0, ACP_NB_COMPOSANTES, 2):\n",
    "    axis_ranks.append((i,i+1))"
   ]
  },
  {
   "cell_type": "code",
   "execution_count": 40,
   "id": "6f9a020a",
   "metadata": {},
   "outputs": [
    {
     "data": {
      "image/png": "[encoded data removed]",
      "text/plain": [
       "<Figure size 1296x504 with 1 Axes>"
      ]
     },
     "metadata": {},
     "output_type": "display_data"
    }
   ],
   "source": [
    "# Calcul des composantes principales\n",
    "pca = decomposition.PCA(n_components=ACP_NB_COMPOSANTES)\n",
    "pca.fit(X_scaled)\n",
    "\n",
    "# Eboulis des valeurs propres\n",
    "display_scree_plot(pca)"
   ]
  },
  {
   "cell_type": "code",
   "execution_count": 41,
   "id": "892c293e",
   "metadata": {},
   "outputs": [],
   "source": [
    "# Projection des individus\n",
    "X_projected = pca.transform(X_scaled)\n",
    "pcs = pca.components_"
   ]
  },
  {
   "cell_type": "markdown",
   "id": "dc0c802f",
   "metadata": {},
   "source": [
    "<div style=\"display: flex; background-color: Green; padding: 7px;\" >\n",
    "\n",
    "### ACP. Prédictions\n",
    "</div>"
   ]
  },
  {
   "cell_type": "code",
   "execution_count": 42,
   "id": "0cc6c1bb",
   "metadata": {},
   "outputs": [
    {
     "data": {
      "text/plain": [
       "1.0"
      ]
     },
     "execution_count": 42,
     "metadata": {},
     "output_type": "execute_result"
    }
   ],
   "source": [
    "mlp_acp = MLPClassifier(verbose=verbose, max_iter=600000)\n",
    "mlp_acp.fit(X_acp, Y)\n",
    "mlp_acp.score(X_acp, Y)"
   ]
  },
  {
   "cell_type": "code",
   "execution_count": 43,
   "id": "340cdcdb",
   "metadata": {},
   "outputs": [
    {
     "name": "stdout",
     "output_type": "stream",
     "text": [
      "0 NAN sur (62, 387)\n",
      "Score test ACP : 0.44\n"
     ]
    }
   ],
   "source": [
    "# selection des colonnes à prendre en compte dans l'ACP\n",
    "df_centre_reduit_test = pd.DataFrame(X_test.copy())\n",
    "print(f\"{df_centre_reduit_test.isna().sum().sum()} NAN sur {df_centre_reduit_test.shape}\")\n",
    "\n",
    "# préparation des données pour l'ACP\n",
    "X_acp_test = df_centre_reduit_test.values\n",
    "names_test = df_centre_reduit_test.index # ou data.index pour avoir les intitulés\n",
    "features_test = df_centre_reduit_test.columns\n",
    "\n",
    "# Centrage et Réduction\n",
    "std_scale_test = preprocessing.StandardScaler().fit(X_acp_test)\n",
    "X_scaled_test = std_scale.transform(X_acp_test)\n",
    "\n",
    "# calculer les composantes principales\n",
    "print(f\"Score test ACP : {round(mlp_acp.score(X_acp_test, Y_test),2)}\")"
   ]
  },
  {
   "cell_type": "markdown",
   "id": "dc0c802f",
   "metadata": {},
   "source": [
    "<div style=\"display: flex; background-color: Blue; padding: 15px;\" >\n",
    "\n",
    "## 8.T-SNE\n",
    "</div>\n",
    "\n",
    "Utilisation de T-SNE pour réduire les données"
   ]
  },
  {
   "cell_type": "code",
   "execution_count": 44,
   "id": "2d0e44e5",
   "metadata": {},
   "outputs": [],
   "source": [
    "from sklearn.manifold import TSNE"
   ]
  },
  {
   "cell_type": "markdown",
   "id": "ecc86ec8",
   "metadata": {},
   "source": [
    "Il faut refaire l'ACP sur l'ensemble des données car le T-SNE ne peut pas être appliqué sur une sous partie, l'ensemble des données doit être traité en même temps."
   ]
  },
  {
   "cell_type": "code",
   "execution_count": 45,
   "id": "bba726b8",
   "metadata": {},
   "outputs": [],
   "source": [
    "df_centre_reduit_acp = pd.DataFrame(X_src.copy())"
   ]
  },
  {
   "cell_type": "code",
   "execution_count": 46,
   "id": "fb6886c9",
   "metadata": {},
   "outputs": [],
   "source": [
    "# préparation des données pour l'ACP\n",
    "X_full_acp = df_centre_reduit_acp.values\n",
    "features_full = df_centre_reduit_acp.columns\n",
    "\n",
    "# Centrage et Réduction\n",
    "std_scale_full = preprocessing.StandardScaler().fit(X_full_acp)\n",
    "X_scaled_full = std_scale_full.transform(X_full_acp)\n",
    "\n",
    "# calculer les composantes principales\n",
    "pca_full = decomposition.PCA(n_components=ACP_NB_COMPOSANTES)\n",
    "x_projeected_full = pca_full.fit_transform(X_scaled_full)"
   ]
  },
  {
   "cell_type": "code",
   "execution_count": 47,
   "id": "097fe91a",
   "metadata": {},
   "outputs": [],
   "source": [
    "X_tsne = TSNE(random_state = random_state, verbose=verbose, perplexity=40, n_iter=300, init='random', learning_rate=200.0).fit_transform(x_projeected_full)"
   ]
  },
  {
   "cell_type": "code",
   "execution_count": 48,
   "id": "cce50445",
   "metadata": {},
   "outputs": [],
   "source": [
    "X_train_tsne, X_test_tsne, Y_train_tsne, Y_test_tsne = train_test_split(X_tsne, Y_src, test_size=0.2, random_state=random_state)"
   ]
  },
  {
   "cell_type": "markdown",
   "id": "dc0c802f",
   "metadata": {},
   "source": [
    "<div style=\"display: flex; background-color: Green; padding: 7px;\" >\n",
    "\n",
    "### T-SNE Prédictions\n",
    "</div>"
   ]
  },
  {
   "cell_type": "code",
   "execution_count": 49,
   "id": "0cc6c1bb",
   "metadata": {},
   "outputs": [
    {
     "name": "stdout",
     "output_type": "stream",
     "text": [
      "Train : 0.58125\n",
      "Test  : 0.51\n"
     ]
    }
   ],
   "source": [
    "mlp_tsne = MLPClassifier(verbose=verbose, max_iter=600000)\n",
    "mlp_tsne.fit(X_train_tsne, Y_train_tsne)\n",
    "print(\"Train :\", mlp_tsne.score(X_train_tsne, Y_train_tsne))\n",
    "print(\"Test  :\", round(mlp_tsne.score(X_test_tsne, Y_test_tsne),2))"
   ]
  },
  {
   "cell_type": "markdown",
   "id": "dc0c802f",
   "metadata": {},
   "source": [
    "<div style=\"display: flex; background-color: Green; padding: 7px;\" >\n",
    "\n",
    "### T-SNE Représentation\n",
    "</div>"
   ]
  },
  {
   "cell_type": "markdown",
   "id": "5b72c44c",
   "metadata": {},
   "source": [
    "<div style=\"display: flex; background-color: indigo;\" >\n",
    "\n",
    "#### 2D\n",
    "</div>"
   ]
  },
  {
   "cell_type": "code",
   "execution_count": 50,
   "id": "08679d3c",
   "metadata": {},
   "outputs": [
    {
     "name": "stderr",
     "output_type": "stream",
     "text": [
      "C:\\Program Files\\Python39\\lib\\site-packages\\sklearn\\manifold\\_t_sne.py:790: FutureWarning: The default learning rate in TSNE will change from 200.0 to 'auto' in 1.2.\n",
      "  warnings.warn(\n",
      "C:\\Program Files\\Python39\\lib\\site-packages\\sklearn\\manifold\\_t_sne.py:982: FutureWarning: The PCA initialization in TSNE will change to have the standard deviation of PC1 equal to 1e-4 in 1.2. This will ensure better convergence.\n",
      "  warnings.warn(\n"
     ]
    }
   ],
   "source": [
    "tsne = TSNE(n_components=2, init='pca', random_state=0, n_jobs=-1)\n",
    "X_tsne = tsne.fit_transform(X_src)"
   ]
  },
  {
   "cell_type": "code",
   "execution_count": 56,
   "id": "cac24282",
   "metadata": {},
   "outputs": [],
   "source": [
    "dict_colors = {'cloudy': 'forestgreen', 'rain': 'royalblue', 'shine': 'orange', 'sunrise': 'crimson',\n",
    "                0: 'forestgreen', 1: 'royalblue', 2: 'orange', 3: 'crimson'} \n",
    "y_colors = [dict_colors[yi] for yi in Y_src]"
   ]
  },
  {
   "cell_type": "code",
   "execution_count": 57,
   "id": "192c9d1f",
   "metadata": {},
   "outputs": [
    {
     "data": {
      "text/plain": [
       "<AxesSubplot:xlabel='DIM1', ylabel='DIM2'>"
      ]
     },
     "execution_count": 57,
     "metadata": {},
     "output_type": "execute_result"
    },
    {
     "data": {
      "image/png": "[encoded data removed]",
      "text/plain": [
       "<Figure size 360x360 with 1 Axes>"
      ]
     },
     "metadata": {
      "needs_background": "light"
     },
     "output_type": "display_data"
    }
   ],
   "source": [
    "columns = ['DIM' + str(c) for c in range(1, X_tsne.shape[1]+1, 1)]\n",
    "X_tsne = pd.DataFrame(X_tsne, columns=columns)\n",
    "X_tsne.plot(x='DIM1', y='DIM2', kind='scatter', figsize=(5, 5), color=y_colors)"
   ]
  },
  {
   "cell_type": "markdown",
   "id": "5b72c44c",
   "metadata": {},
   "source": [
    "<div style=\"display: flex; background-color: indigo;\" >\n",
    "\n",
    "#### 3D\n",
    "</div>"
   ]
  },
  {
   "cell_type": "code",
   "execution_count": 58,
   "id": "773d378b",
   "metadata": {},
   "outputs": [],
   "source": [
    "%matplotlib inline\n",
    "import matplotlib.pyplot as plt\n",
    "from mpl_toolkits.mplot3d import Axes3D"
   ]
  },
  {
   "cell_type": "code",
   "execution_count": 63,
   "id": "b7dddcfe",
   "metadata": {},
   "outputs": [
    {
     "name": "stderr",
     "output_type": "stream",
     "text": [
      "C:\\Program Files\\Python39\\lib\\site-packages\\sklearn\\manifold\\_t_sne.py:790: FutureWarning: The default learning rate in TSNE will change from 200.0 to 'auto' in 1.2.\n",
      "  warnings.warn(\n",
      "C:\\Program Files\\Python39\\lib\\site-packages\\sklearn\\manifold\\_t_sne.py:982: FutureWarning: The PCA initialization in TSNE will change to have the standard deviation of PC1 equal to 1e-4 in 1.2. This will ensure better convergence.\n",
      "  warnings.warn(\n"
     ]
    }
   ],
   "source": [
    "tsne = TSNE(n_components=3, init='pca', perplexity=45, random_state=0, n_jobs=-1)\n",
    "X_tsne = tsne.fit_transform(X_src)"
   ]
  },
  {
   "cell_type": "code",
   "execution_count": 64,
   "id": "c83b81c7",
   "metadata": {},
   "outputs": [
    {
     "data": {
      "text/html": [
       "<div>\n",
       "<style scoped>\n",
       "    .dataframe tbody tr th:only-of-type {\n",
       "        vertical-align: middle;\n",
       "    }\n",
       "\n",
       "    .dataframe tbody tr th {\n",
       "        vertical-align: top;\n",
       "    }\n",
       "\n",
       "    .dataframe thead th {\n",
       "        text-align: right;\n",
       "    }\n",
       "</style>\n",
       "<table border=\"1\" class=\"dataframe\">\n",
       "  <thead>\n",
       "    <tr style=\"text-align: right;\">\n",
       "      <th></th>\n",
       "      <th>DIM1</th>\n",
       "      <th>DIM2</th>\n",
       "      <th>DIM3</th>\n",
       "    </tr>\n",
       "  </thead>\n",
       "  <tbody>\n",
       "    <tr>\n",
       "      <th>0</th>\n",
       "      <td>82.404991</td>\n",
       "      <td>136.516006</td>\n",
       "      <td>38.871464</td>\n",
       "    </tr>\n",
       "    <tr>\n",
       "      <th>1</th>\n",
       "      <td>48.530632</td>\n",
       "      <td>11.696054</td>\n",
       "      <td>123.600601</td>\n",
       "    </tr>\n",
       "    <tr>\n",
       "      <th>2</th>\n",
       "      <td>-8.241326</td>\n",
       "      <td>-67.885902</td>\n",
       "      <td>81.985725</td>\n",
       "    </tr>\n",
       "    <tr>\n",
       "      <th>3</th>\n",
       "      <td>50.765282</td>\n",
       "      <td>-28.352209</td>\n",
       "      <td>42.788673</td>\n",
       "    </tr>\n",
       "    <tr>\n",
       "      <th>4</th>\n",
       "      <td>20.124119</td>\n",
       "      <td>-50.087898</td>\n",
       "      <td>-148.208115</td>\n",
       "    </tr>\n",
       "  </tbody>\n",
       "</table>\n",
       "</div>"
      ],
      "text/plain": [
       "        DIM1        DIM2        DIM3\n",
       "0  82.404991  136.516006   38.871464\n",
       "1  48.530632   11.696054  123.600601\n",
       "2  -8.241326  -67.885902   81.985725\n",
       "3  50.765282  -28.352209   42.788673\n",
       "4  20.124119  -50.087898 -148.208115"
      ]
     },
     "execution_count": 64,
     "metadata": {},
     "output_type": "execute_result"
    }
   ],
   "source": [
    "columns = ['DIM' + str(c) for c in range(1, X_tsne.shape[1]+1, 1)]\n",
    "X_tsne = pd.DataFrame(X_tsne, columns=columns)\n",
    "X_tsne.head()"
   ]
  },
  {
   "cell_type": "code",
   "execution_count": 65,
   "id": "ecf3d583",
   "metadata": {},
   "outputs": [
    {
     "data": {
      "text/plain": [
       "(400, 3)"
      ]
     },
     "execution_count": 65,
     "metadata": {},
     "output_type": "execute_result"
    }
   ],
   "source": [
    "X_tsne.shape"
   ]
  },
  {
   "cell_type": "code",
   "execution_count": 66,
   "id": "b94d78d1",
   "metadata": {},
   "outputs": [
    {
     "data": {
      "image/png": "[encoded data removed]",
      "text/plain": [
       "<Figure size 720x720 with 1 Axes>"
      ]
     },
     "metadata": {
      "needs_background": "light"
     },
     "output_type": "display_data"
    }
   ],
   "source": [
    "fig = plt.figure(figsize=(10,10))\n",
    "ax = fig.add_subplot(projection='3d')\n",
    "ax.scatter(X_tsne['DIM1'], X_tsne['DIM2'], X_tsne['DIM3'], marker='o', s=30, edgecolor='k', facecolor=y_colors)\n",
    "ax.set_xlabel('DIM1')\n",
    "ax.set_ylabel('DIM2')\n",
    "ax.set_zlabel('DIM3')\n",
    "ax.set_title(\"T-SNE init:PCA \")\n",
    "ax.view_init(elev=15, azim=45)"
   ]
  },
  {
   "cell_type": "markdown",
   "id": "dc0c802f",
   "metadata": {},
   "source": [
    "<div style=\"display: flex; background-color: Blue; padding: 15px;\" >\n",
    "\n",
    "## 11.K-MEANS - Non supervisé\n",
    "</div>"
   ]
  },
  {
   "cell_type": "code",
   "execution_count": 67,
   "id": "798a404a",
   "metadata": {},
   "outputs": [],
   "source": [
    "from sklearn.cluster import KMeans"
   ]
  },
  {
   "cell_type": "code",
   "execution_count": 68,
   "id": "1dbd5f24",
   "metadata": {},
   "outputs": [
    {
     "data": {
      "text/plain": [
       "array([[1.31558045e-03, 1.19963262e-03, 3.72410716e-03, ...,\n",
       "        8.47546294e-04, 1.39962564e-03, 1.01382187e-03],\n",
       "       [1.20603888e-03, 1.35051916e-03, 1.14935442e-02, ...,\n",
       "        2.16840434e-19, 1.85870767e-03, 1.24750499e-04],\n",
       "       [0.00000000e+00, 0.00000000e+00, 0.00000000e+00, ...,\n",
       "        0.00000000e+00, 0.00000000e+00, 0.00000000e+00],\n",
       "       [2.48281347e-03, 3.97098972e-03, 2.18152505e-03, ...,\n",
       "        1.86317699e-03, 1.98877942e-03, 2.11746778e-03]])"
      ]
     },
     "execution_count": 68,
     "metadata": {},
     "output_type": "execute_result"
    }
   ],
   "source": [
    "kmeans = KMeans(n_clusters=4, random_state=random_state).fit(X)\n",
    "y_pred = kmeans.predict(X)\n",
    "centroids = kmeans.cluster_centers_\n",
    "centroids"
   ]
  },
  {
   "cell_type": "code",
   "execution_count": 69,
   "id": "16eeb964",
   "metadata": {},
   "outputs": [
    {
     "data": {
      "text/plain": [
       "array([3, 3, 3, 3, 3, 0, 3, 3, 0, 0, 3, 3, 1, 3, 3, 3, 3, 3, 3, 1, 3, 3,\n",
       "       0, 0, 3, 3, 3, 0, 3, 3, 3, 3, 3, 3, 0, 3, 3, 3, 0, 3, 3, 3, 3, 0,\n",
       "       3, 3, 3, 3, 3, 3, 3, 3, 3, 3, 0, 3, 3, 3, 0, 3, 3, 3, 3, 3, 3, 3,\n",
       "       0, 3, 3, 3, 0, 3, 0, 3, 0, 3, 3, 3, 3, 3, 3, 3, 3, 3, 3, 3, 0, 3,\n",
       "       3, 3, 0, 3, 3, 3, 0, 3, 3, 3, 0, 1, 0, 0, 3, 1, 3, 0, 3, 3, 0, 3,\n",
       "       1, 1, 0, 3, 3, 3, 3, 0, 0, 1, 3, 3, 1, 0, 3, 3, 0, 3, 0, 3, 3, 3,\n",
       "       3, 3, 3, 3, 3, 3, 3, 3, 0, 3, 3, 3, 0, 3, 3, 3, 3, 3, 3, 0, 1, 3,\n",
       "       0, 0, 3, 0, 3, 3, 0, 3, 3, 3, 3, 0, 3, 3, 0, 3, 3, 3, 3, 3, 0, 0,\n",
       "       0, 3, 3, 3, 3, 2, 3, 3, 0, 3, 3, 3, 3, 3, 3, 0, 0, 3, 3, 3, 3, 3,\n",
       "       3, 3, 3, 3, 1, 3, 3, 3, 3, 0, 3, 2, 1, 3, 3, 3, 0, 3, 3, 3, 3, 3,\n",
       "       0, 0, 3, 1, 3, 0, 0, 0, 3, 0, 0, 3, 0, 3, 3, 3, 0, 3, 3, 3, 3, 0,\n",
       "       3, 3, 3, 0, 3, 3, 3, 1, 3, 3, 3, 3, 3, 3, 0, 3, 3, 0, 3, 3, 3, 3,\n",
       "       3, 1, 3, 3, 3, 3, 3, 3, 0, 3, 3, 1, 3, 3, 3, 0, 0, 0, 3, 3, 0, 3,\n",
       "       3, 0, 1, 3, 3, 3, 3, 3, 3, 3, 3, 0, 0, 3, 0, 3, 3, 0, 3, 3, 3, 0,\n",
       "       3, 3, 0, 3, 0, 3, 3, 3, 0, 3, 3, 3])"
      ]
     },
     "execution_count": 69,
     "metadata": {},
     "output_type": "execute_result"
    }
   ],
   "source": [
    "y_pred"
   ]
  },
  {
   "cell_type": "code",
   "execution_count": 70,
   "id": "739e0b08",
   "metadata": {},
   "outputs": [
    {
     "name": "stdout",
     "output_type": "stream",
     "text": [
      "[[  0  73]\n",
      " [  1  16]\n",
      " [  2   2]\n",
      " [  3 229]]\n",
      "sur 320 images, soit 80 attendus par target\n"
     ]
    }
   ],
   "source": [
    "unique, counts = np.unique(y_pred, return_counts=True)\n",
    "print (np.asarray((unique, counts)).T)\n",
    "print (\"sur\", len(y_pred), \"images, soit\", round(len(y_pred)/4), \"attendus par target\")"
   ]
  },
  {
   "cell_type": "markdown",
   "id": "00f7bcd6",
   "metadata": {},
   "source": [
    "Représentation graphique des clusters K-Means"
   ]
  },
  {
   "cell_type": "code",
   "execution_count": 72,
   "id": "609e5f9e",
   "metadata": {},
   "outputs": [
    {
     "data": {
      "text/html": [
       "<div>\n",
       "<style scoped>\n",
       "    .dataframe tbody tr th:only-of-type {\n",
       "        vertical-align: middle;\n",
       "    }\n",
       "\n",
       "    .dataframe tbody tr th {\n",
       "        vertical-align: top;\n",
       "    }\n",
       "\n",
       "    .dataframe thead th {\n",
       "        text-align: right;\n",
       "    }\n",
       "</style>\n",
       "<table border=\"1\" class=\"dataframe\">\n",
       "  <thead>\n",
       "    <tr style=\"text-align: right;\">\n",
       "      <th></th>\n",
       "      <th>0</th>\n",
       "      <th>1</th>\n",
       "      <th>2</th>\n",
       "      <th>3</th>\n",
       "      <th>4</th>\n",
       "      <th>5</th>\n",
       "      <th>6</th>\n",
       "      <th>7</th>\n",
       "      <th>8</th>\n",
       "      <th>9</th>\n",
       "      <th>...</th>\n",
       "      <th>378</th>\n",
       "      <th>379</th>\n",
       "      <th>380</th>\n",
       "      <th>381</th>\n",
       "      <th>382</th>\n",
       "      <th>383</th>\n",
       "      <th>384</th>\n",
       "      <th>385</th>\n",
       "      <th>386</th>\n",
       "      <th>Y</th>\n",
       "    </tr>\n",
       "  </thead>\n",
       "  <tbody>\n",
       "    <tr>\n",
       "      <th>0</th>\n",
       "      <td>0.000000</td>\n",
       "      <td>0.000000</td>\n",
       "      <td>0.011494</td>\n",
       "      <td>0.003831</td>\n",
       "      <td>0.00000</td>\n",
       "      <td>0.000000</td>\n",
       "      <td>0.007663</td>\n",
       "      <td>0.000000</td>\n",
       "      <td>0.003831</td>\n",
       "      <td>0.003831</td>\n",
       "      <td>...</td>\n",
       "      <td>0.003831</td>\n",
       "      <td>0.007663</td>\n",
       "      <td>0.015326</td>\n",
       "      <td>0.000</td>\n",
       "      <td>0.003831</td>\n",
       "      <td>0.00000</td>\n",
       "      <td>0.0</td>\n",
       "      <td>0.003831</td>\n",
       "      <td>0.000</td>\n",
       "      <td>3</td>\n",
       "    </tr>\n",
       "    <tr>\n",
       "      <th>1</th>\n",
       "      <td>0.000000</td>\n",
       "      <td>0.014706</td>\n",
       "      <td>0.000000</td>\n",
       "      <td>0.014706</td>\n",
       "      <td>0.00000</td>\n",
       "      <td>0.000000</td>\n",
       "      <td>0.014706</td>\n",
       "      <td>0.000000</td>\n",
       "      <td>0.014706</td>\n",
       "      <td>0.000000</td>\n",
       "      <td>...</td>\n",
       "      <td>0.000000</td>\n",
       "      <td>0.014706</td>\n",
       "      <td>0.014706</td>\n",
       "      <td>0.000</td>\n",
       "      <td>0.000000</td>\n",
       "      <td>0.00000</td>\n",
       "      <td>0.0</td>\n",
       "      <td>0.000000</td>\n",
       "      <td>0.000</td>\n",
       "      <td>3</td>\n",
       "    </tr>\n",
       "    <tr>\n",
       "      <th>2</th>\n",
       "      <td>0.005291</td>\n",
       "      <td>0.013228</td>\n",
       "      <td>0.000000</td>\n",
       "      <td>0.002646</td>\n",
       "      <td>0.00000</td>\n",
       "      <td>0.005291</td>\n",
       "      <td>0.000000</td>\n",
       "      <td>0.002646</td>\n",
       "      <td>0.000000</td>\n",
       "      <td>0.000000</td>\n",
       "      <td>...</td>\n",
       "      <td>0.007937</td>\n",
       "      <td>0.002646</td>\n",
       "      <td>0.000000</td>\n",
       "      <td>0.000</td>\n",
       "      <td>0.002646</td>\n",
       "      <td>0.00000</td>\n",
       "      <td>0.0</td>\n",
       "      <td>0.002646</td>\n",
       "      <td>0.000</td>\n",
       "      <td>3</td>\n",
       "    </tr>\n",
       "    <tr>\n",
       "      <th>3</th>\n",
       "      <td>0.000000</td>\n",
       "      <td>0.002000</td>\n",
       "      <td>0.006000</td>\n",
       "      <td>0.002000</td>\n",
       "      <td>0.01000</td>\n",
       "      <td>0.002000</td>\n",
       "      <td>0.002000</td>\n",
       "      <td>0.016000</td>\n",
       "      <td>0.000000</td>\n",
       "      <td>0.002000</td>\n",
       "      <td>...</td>\n",
       "      <td>0.002000</td>\n",
       "      <td>0.000000</td>\n",
       "      <td>0.000000</td>\n",
       "      <td>0.004</td>\n",
       "      <td>0.000000</td>\n",
       "      <td>0.00000</td>\n",
       "      <td>0.0</td>\n",
       "      <td>0.004000</td>\n",
       "      <td>0.002</td>\n",
       "      <td>3</td>\n",
       "    </tr>\n",
       "    <tr>\n",
       "      <th>4</th>\n",
       "      <td>0.002710</td>\n",
       "      <td>0.002710</td>\n",
       "      <td>0.002710</td>\n",
       "      <td>0.008130</td>\n",
       "      <td>0.00271</td>\n",
       "      <td>0.000000</td>\n",
       "      <td>0.000000</td>\n",
       "      <td>0.008130</td>\n",
       "      <td>0.000000</td>\n",
       "      <td>0.000000</td>\n",
       "      <td>...</td>\n",
       "      <td>0.002710</td>\n",
       "      <td>0.000000</td>\n",
       "      <td>0.005420</td>\n",
       "      <td>0.000</td>\n",
       "      <td>0.000000</td>\n",
       "      <td>0.00271</td>\n",
       "      <td>0.0</td>\n",
       "      <td>0.000000</td>\n",
       "      <td>0.000</td>\n",
       "      <td>3</td>\n",
       "    </tr>\n",
       "    <tr>\n",
       "      <th>...</th>\n",
       "      <td>...</td>\n",
       "      <td>...</td>\n",
       "      <td>...</td>\n",
       "      <td>...</td>\n",
       "      <td>...</td>\n",
       "      <td>...</td>\n",
       "      <td>...</td>\n",
       "      <td>...</td>\n",
       "      <td>...</td>\n",
       "      <td>...</td>\n",
       "      <td>...</td>\n",
       "      <td>...</td>\n",
       "      <td>...</td>\n",
       "      <td>...</td>\n",
       "      <td>...</td>\n",
       "      <td>...</td>\n",
       "      <td>...</td>\n",
       "      <td>...</td>\n",
       "      <td>...</td>\n",
       "      <td>...</td>\n",
       "      <td>...</td>\n",
       "    </tr>\n",
       "    <tr>\n",
       "      <th>315</th>\n",
       "      <td>0.002000</td>\n",
       "      <td>0.006000</td>\n",
       "      <td>0.002000</td>\n",
       "      <td>0.008000</td>\n",
       "      <td>0.00000</td>\n",
       "      <td>0.000000</td>\n",
       "      <td>0.000000</td>\n",
       "      <td>0.002000</td>\n",
       "      <td>0.000000</td>\n",
       "      <td>0.008000</td>\n",
       "      <td>...</td>\n",
       "      <td>0.012000</td>\n",
       "      <td>0.014000</td>\n",
       "      <td>0.004000</td>\n",
       "      <td>0.002</td>\n",
       "      <td>0.004000</td>\n",
       "      <td>0.00200</td>\n",
       "      <td>0.0</td>\n",
       "      <td>0.000000</td>\n",
       "      <td>0.002</td>\n",
       "      <td>3</td>\n",
       "    </tr>\n",
       "    <tr>\n",
       "      <th>316</th>\n",
       "      <td>0.006000</td>\n",
       "      <td>0.000000</td>\n",
       "      <td>0.002000</td>\n",
       "      <td>0.002000</td>\n",
       "      <td>0.01000</td>\n",
       "      <td>0.002000</td>\n",
       "      <td>0.004000</td>\n",
       "      <td>0.012000</td>\n",
       "      <td>0.000000</td>\n",
       "      <td>0.000000</td>\n",
       "      <td>...</td>\n",
       "      <td>0.000000</td>\n",
       "      <td>0.000000</td>\n",
       "      <td>0.000000</td>\n",
       "      <td>0.002</td>\n",
       "      <td>0.000000</td>\n",
       "      <td>0.00400</td>\n",
       "      <td>0.0</td>\n",
       "      <td>0.004000</td>\n",
       "      <td>0.002</td>\n",
       "      <td>0</td>\n",
       "    </tr>\n",
       "    <tr>\n",
       "      <th>317</th>\n",
       "      <td>0.000000</td>\n",
       "      <td>0.000000</td>\n",
       "      <td>0.002000</td>\n",
       "      <td>0.002000</td>\n",
       "      <td>0.00000</td>\n",
       "      <td>0.000000</td>\n",
       "      <td>0.000000</td>\n",
       "      <td>0.000000</td>\n",
       "      <td>0.000000</td>\n",
       "      <td>0.014000</td>\n",
       "      <td>...</td>\n",
       "      <td>0.002000</td>\n",
       "      <td>0.018000</td>\n",
       "      <td>0.000000</td>\n",
       "      <td>0.002</td>\n",
       "      <td>0.000000</td>\n",
       "      <td>0.00000</td>\n",
       "      <td>0.0</td>\n",
       "      <td>0.000000</td>\n",
       "      <td>0.002</td>\n",
       "      <td>3</td>\n",
       "    </tr>\n",
       "    <tr>\n",
       "      <th>318</th>\n",
       "      <td>0.002000</td>\n",
       "      <td>0.002000</td>\n",
       "      <td>0.010000</td>\n",
       "      <td>0.004000</td>\n",
       "      <td>0.00200</td>\n",
       "      <td>0.000000</td>\n",
       "      <td>0.004000</td>\n",
       "      <td>0.006000</td>\n",
       "      <td>0.000000</td>\n",
       "      <td>0.002000</td>\n",
       "      <td>...</td>\n",
       "      <td>0.004000</td>\n",
       "      <td>0.000000</td>\n",
       "      <td>0.012000</td>\n",
       "      <td>0.002</td>\n",
       "      <td>0.000000</td>\n",
       "      <td>0.00000</td>\n",
       "      <td>0.0</td>\n",
       "      <td>0.002000</td>\n",
       "      <td>0.004</td>\n",
       "      <td>3</td>\n",
       "    </tr>\n",
       "    <tr>\n",
       "      <th>319</th>\n",
       "      <td>0.000000</td>\n",
       "      <td>0.002000</td>\n",
       "      <td>0.004000</td>\n",
       "      <td>0.006000</td>\n",
       "      <td>0.00000</td>\n",
       "      <td>0.002000</td>\n",
       "      <td>0.000000</td>\n",
       "      <td>0.002000</td>\n",
       "      <td>0.000000</td>\n",
       "      <td>0.006000</td>\n",
       "      <td>...</td>\n",
       "      <td>0.002000</td>\n",
       "      <td>0.000000</td>\n",
       "      <td>0.002000</td>\n",
       "      <td>0.004</td>\n",
       "      <td>0.000000</td>\n",
       "      <td>0.00600</td>\n",
       "      <td>0.0</td>\n",
       "      <td>0.000000</td>\n",
       "      <td>0.000</td>\n",
       "      <td>3</td>\n",
       "    </tr>\n",
       "  </tbody>\n",
       "</table>\n",
       "<p>320 rows × 388 columns</p>\n",
       "</div>"
      ],
      "text/plain": [
       "            0         1         2         3        4         5         6  \\\n",
       "0    0.000000  0.000000  0.011494  0.003831  0.00000  0.000000  0.007663   \n",
       "1    0.000000  0.014706  0.000000  0.014706  0.00000  0.000000  0.014706   \n",
       "2    0.005291  0.013228  0.000000  0.002646  0.00000  0.005291  0.000000   \n",
       "3    0.000000  0.002000  0.006000  0.002000  0.01000  0.002000  0.002000   \n",
       "4    0.002710  0.002710  0.002710  0.008130  0.00271  0.000000  0.000000   \n",
       "..        ...       ...       ...       ...      ...       ...       ...   \n",
       "315  0.002000  0.006000  0.002000  0.008000  0.00000  0.000000  0.000000   \n",
       "316  0.006000  0.000000  0.002000  0.002000  0.01000  0.002000  0.004000   \n",
       "317  0.000000  0.000000  0.002000  0.002000  0.00000  0.000000  0.000000   \n",
       "318  0.002000  0.002000  0.010000  0.004000  0.00200  0.000000  0.004000   \n",
       "319  0.000000  0.002000  0.004000  0.006000  0.00000  0.002000  0.000000   \n",
       "\n",
       "            7         8         9  ...       378       379       380    381  \\\n",
       "0    0.000000  0.003831  0.003831  ...  0.003831  0.007663  0.015326  0.000   \n",
       "1    0.000000  0.014706  0.000000  ...  0.000000  0.014706  0.014706  0.000   \n",
       "2    0.002646  0.000000  0.000000  ...  0.007937  0.002646  0.000000  0.000   \n",
       "3    0.016000  0.000000  0.002000  ...  0.002000  0.000000  0.000000  0.004   \n",
       "4    0.008130  0.000000  0.000000  ...  0.002710  0.000000  0.005420  0.000   \n",
       "..        ...       ...       ...  ...       ...       ...       ...    ...   \n",
       "315  0.002000  0.000000  0.008000  ...  0.012000  0.014000  0.004000  0.002   \n",
       "316  0.012000  0.000000  0.000000  ...  0.000000  0.000000  0.000000  0.002   \n",
       "317  0.000000  0.000000  0.014000  ...  0.002000  0.018000  0.000000  0.002   \n",
       "318  0.006000  0.000000  0.002000  ...  0.004000  0.000000  0.012000  0.002   \n",
       "319  0.002000  0.000000  0.006000  ...  0.002000  0.000000  0.002000  0.004   \n",
       "\n",
       "          382      383  384       385    386  Y  \n",
       "0    0.003831  0.00000  0.0  0.003831  0.000  3  \n",
       "1    0.000000  0.00000  0.0  0.000000  0.000  3  \n",
       "2    0.002646  0.00000  0.0  0.002646  0.000  3  \n",
       "3    0.000000  0.00000  0.0  0.004000  0.002  3  \n",
       "4    0.000000  0.00271  0.0  0.000000  0.000  3  \n",
       "..        ...      ...  ...       ...    ... ..  \n",
       "315  0.004000  0.00200  0.0  0.000000  0.002  3  \n",
       "316  0.000000  0.00400  0.0  0.004000  0.002  0  \n",
       "317  0.000000  0.00000  0.0  0.000000  0.002  3  \n",
       "318  0.000000  0.00000  0.0  0.002000  0.004  3  \n",
       "319  0.000000  0.00600  0.0  0.000000  0.000  3  \n",
       "\n",
       "[320 rows x 388 columns]"
      ]
     },
     "execution_count": 72,
     "metadata": {},
     "output_type": "execute_result"
    }
   ],
   "source": [
    "df_kmeans_non_supervise = pd.DataFrame(X.copy())\n",
    "df_kmeans_non_supervise[\"Y\"] = y_pred\n",
    "df_kmeans_non_supervise"
   ]
  },
  {
   "cell_type": "code",
   "execution_count": 79,
   "id": "b7dddcfe",
   "metadata": {},
   "outputs": [
    {
     "name": "stderr",
     "output_type": "stream",
     "text": [
      "C:\\Program Files\\Python39\\lib\\site-packages\\sklearn\\manifold\\_t_sne.py:790: FutureWarning: The default learning rate in TSNE will change from 200.0 to 'auto' in 1.2.\n",
      "  warnings.warn(\n",
      "C:\\Program Files\\Python39\\lib\\site-packages\\sklearn\\utils\\validation.py:1688: FutureWarning: Feature names only support names that are all strings. Got feature names with dtypes: ['int', 'str']. An error will be raised in 1.2.\n",
      "  warnings.warn(\n",
      "C:\\Program Files\\Python39\\lib\\site-packages\\sklearn\\manifold\\_t_sne.py:982: FutureWarning: The PCA initialization in TSNE will change to have the standard deviation of PC1 equal to 1e-4 in 1.2. This will ensure better convergence.\n",
      "  warnings.warn(\n"
     ]
    },
    {
     "data": {
      "text/plain": [
       "numpy.ndarray"
      ]
     },
     "execution_count": 79,
     "metadata": {},
     "output_type": "execute_result"
    }
   ],
   "source": [
    "tsne_non_supervise = TSNE(n_components=3, init='pca', perplexity=45, random_state=0, n_jobs=-1)\n",
    "X_tsne_non_supervise = tsne.fit_transform(df_kmeans_non_supervise)\n",
    "type(X_tsne_non_supervise)"
   ]
  },
  {
   "cell_type": "code",
   "execution_count": 80,
   "id": "61e8608f",
   "metadata": {},
   "outputs": [],
   "source": [
    "res_tsne = pd.DataFrame(X_tsne_non_supervise)\n",
    "res_tsne[\"cluster\"] = y_pred"
   ]
  },
  {
   "cell_type": "code",
   "execution_count": 81,
   "id": "97fa3bce",
   "metadata": {},
   "outputs": [
    {
     "data": {
      "text/html": [
       "<div>\n",
       "<style scoped>\n",
       "    .dataframe tbody tr th:only-of-type {\n",
       "        vertical-align: middle;\n",
       "    }\n",
       "\n",
       "    .dataframe tbody tr th {\n",
       "        vertical-align: top;\n",
       "    }\n",
       "\n",
       "    .dataframe thead th {\n",
       "        text-align: right;\n",
       "    }\n",
       "</style>\n",
       "<table border=\"1\" class=\"dataframe\">\n",
       "  <thead>\n",
       "    <tr style=\"text-align: right;\">\n",
       "      <th></th>\n",
       "      <th>0</th>\n",
       "      <th>1</th>\n",
       "      <th>2</th>\n",
       "      <th>cluster</th>\n",
       "    </tr>\n",
       "  </thead>\n",
       "  <tbody>\n",
       "    <tr>\n",
       "      <th>0</th>\n",
       "      <td>-87.011879</td>\n",
       "      <td>70.616806</td>\n",
       "      <td>89.340446</td>\n",
       "      <td>3</td>\n",
       "    </tr>\n",
       "    <tr>\n",
       "      <th>1</th>\n",
       "      <td>-117.427139</td>\n",
       "      <td>119.261002</td>\n",
       "      <td>-36.171047</td>\n",
       "      <td>3</td>\n",
       "    </tr>\n",
       "    <tr>\n",
       "      <th>2</th>\n",
       "      <td>-98.176186</td>\n",
       "      <td>40.449570</td>\n",
       "      <td>-77.951851</td>\n",
       "      <td>3</td>\n",
       "    </tr>\n",
       "    <tr>\n",
       "      <th>3</th>\n",
       "      <td>-18.483656</td>\n",
       "      <td>-46.716366</td>\n",
       "      <td>92.013733</td>\n",
       "      <td>3</td>\n",
       "    </tr>\n",
       "    <tr>\n",
       "      <th>4</th>\n",
       "      <td>35.961979</td>\n",
       "      <td>-2.546428</td>\n",
       "      <td>138.889694</td>\n",
       "      <td>3</td>\n",
       "    </tr>\n",
       "  </tbody>\n",
       "</table>\n",
       "</div>"
      ],
      "text/plain": [
       "            0           1           2  cluster\n",
       "0  -87.011879   70.616806   89.340446        3\n",
       "1 -117.427139  119.261002  -36.171047        3\n",
       "2  -98.176186   40.449570  -77.951851        3\n",
       "3  -18.483656  -46.716366   92.013733        3\n",
       "4   35.961979   -2.546428  138.889694        3"
      ]
     },
     "execution_count": 81,
     "metadata": {},
     "output_type": "execute_result"
    }
   ],
   "source": [
    "res_tsne.head()"
   ]
  },
  {
   "cell_type": "code",
   "execution_count": 82,
   "id": "c83b81c7",
   "metadata": {},
   "outputs": [
    {
     "data": {
      "text/html": [
       "<div>\n",
       "<style scoped>\n",
       "    .dataframe tbody tr th:only-of-type {\n",
       "        vertical-align: middle;\n",
       "    }\n",
       "\n",
       "    .dataframe tbody tr th {\n",
       "        vertical-align: top;\n",
       "    }\n",
       "\n",
       "    .dataframe thead th {\n",
       "        text-align: right;\n",
       "    }\n",
       "</style>\n",
       "<table border=\"1\" class=\"dataframe\">\n",
       "  <thead>\n",
       "    <tr style=\"text-align: right;\">\n",
       "      <th></th>\n",
       "      <th>DIM_0</th>\n",
       "      <th>DIM_1</th>\n",
       "      <th>DIM_2</th>\n",
       "      <th>cluster</th>\n",
       "    </tr>\n",
       "  </thead>\n",
       "  <tbody>\n",
       "    <tr>\n",
       "      <th>0</th>\n",
       "      <td>-87.011879</td>\n",
       "      <td>70.616806</td>\n",
       "      <td>89.340446</td>\n",
       "      <td>3</td>\n",
       "    </tr>\n",
       "    <tr>\n",
       "      <th>1</th>\n",
       "      <td>-117.427139</td>\n",
       "      <td>119.261002</td>\n",
       "      <td>-36.171047</td>\n",
       "      <td>3</td>\n",
       "    </tr>\n",
       "    <tr>\n",
       "      <th>2</th>\n",
       "      <td>-98.176186</td>\n",
       "      <td>40.449570</td>\n",
       "      <td>-77.951851</td>\n",
       "      <td>3</td>\n",
       "    </tr>\n",
       "    <tr>\n",
       "      <th>3</th>\n",
       "      <td>-18.483656</td>\n",
       "      <td>-46.716366</td>\n",
       "      <td>92.013733</td>\n",
       "      <td>3</td>\n",
       "    </tr>\n",
       "    <tr>\n",
       "      <th>4</th>\n",
       "      <td>35.961979</td>\n",
       "      <td>-2.546428</td>\n",
       "      <td>138.889694</td>\n",
       "      <td>3</td>\n",
       "    </tr>\n",
       "  </tbody>\n",
       "</table>\n",
       "</div>"
      ],
      "text/plain": [
       "        DIM_0       DIM_1       DIM_2  cluster\n",
       "0  -87.011879   70.616806   89.340446        3\n",
       "1 -117.427139  119.261002  -36.171047        3\n",
       "2  -98.176186   40.449570  -77.951851        3\n",
       "3  -18.483656  -46.716366   92.013733        3\n",
       "4   35.961979   -2.546428  138.889694        3"
      ]
     },
     "execution_count": 82,
     "metadata": {},
     "output_type": "execute_result"
    }
   ],
   "source": [
    "res_tsne = res_tsne.rename(columns={0:\"DIM_0\", 1:\"DIM_1\", 2:\"DIM_2\"})\n",
    "res_tsne.head()"
   ]
  },
  {
   "cell_type": "code",
   "execution_count": 83,
   "id": "abae7230",
   "metadata": {},
   "outputs": [
    {
     "data": {
      "text/plain": [
       "['crimson',\n",
       " 'crimson',\n",
       " 'crimson',\n",
       " 'crimson',\n",
       " 'crimson',\n",
       " 'forestgreen',\n",
       " 'crimson',\n",
       " 'crimson',\n",
       " 'forestgreen',\n",
       " 'forestgreen',\n",
       " 'crimson',\n",
       " 'crimson',\n",
       " 'royalblue',\n",
       " 'crimson',\n",
       " 'crimson',\n",
       " 'crimson',\n",
       " 'crimson',\n",
       " 'crimson',\n",
       " 'crimson',\n",
       " 'royalblue',\n",
       " 'crimson',\n",
       " 'crimson',\n",
       " 'forestgreen',\n",
       " 'forestgreen',\n",
       " 'crimson',\n",
       " 'crimson',\n",
       " 'crimson',\n",
       " 'forestgreen',\n",
       " 'crimson',\n",
       " 'crimson',\n",
       " 'crimson',\n",
       " 'crimson',\n",
       " 'crimson',\n",
       " 'crimson',\n",
       " 'forestgreen',\n",
       " 'crimson',\n",
       " 'crimson',\n",
       " 'crimson',\n",
       " 'forestgreen',\n",
       " 'crimson',\n",
       " 'crimson',\n",
       " 'crimson',\n",
       " 'crimson',\n",
       " 'forestgreen',\n",
       " 'crimson',\n",
       " 'crimson',\n",
       " 'crimson',\n",
       " 'crimson',\n",
       " 'crimson',\n",
       " 'crimson',\n",
       " 'crimson',\n",
       " 'crimson',\n",
       " 'crimson',\n",
       " 'crimson',\n",
       " 'forestgreen',\n",
       " 'crimson',\n",
       " 'crimson',\n",
       " 'crimson',\n",
       " 'forestgreen',\n",
       " 'crimson',\n",
       " 'crimson',\n",
       " 'crimson',\n",
       " 'crimson',\n",
       " 'crimson',\n",
       " 'crimson',\n",
       " 'crimson',\n",
       " 'forestgreen',\n",
       " 'crimson',\n",
       " 'crimson',\n",
       " 'crimson',\n",
       " 'forestgreen',\n",
       " 'crimson',\n",
       " 'forestgreen',\n",
       " 'crimson',\n",
       " 'forestgreen',\n",
       " 'crimson',\n",
       " 'crimson',\n",
       " 'crimson',\n",
       " 'crimson',\n",
       " 'crimson',\n",
       " 'crimson',\n",
       " 'crimson',\n",
       " 'crimson',\n",
       " 'crimson',\n",
       " 'crimson',\n",
       " 'crimson',\n",
       " 'forestgreen',\n",
       " 'crimson',\n",
       " 'crimson',\n",
       " 'crimson',\n",
       " 'forestgreen',\n",
       " 'crimson',\n",
       " 'crimson',\n",
       " 'crimson',\n",
       " 'forestgreen',\n",
       " 'crimson',\n",
       " 'crimson',\n",
       " 'crimson',\n",
       " 'forestgreen',\n",
       " 'royalblue',\n",
       " 'forestgreen',\n",
       " 'forestgreen',\n",
       " 'crimson',\n",
       " 'royalblue',\n",
       " 'crimson',\n",
       " 'forestgreen',\n",
       " 'crimson',\n",
       " 'crimson',\n",
       " 'forestgreen',\n",
       " 'crimson',\n",
       " 'royalblue',\n",
       " 'royalblue',\n",
       " 'forestgreen',\n",
       " 'crimson',\n",
       " 'crimson',\n",
       " 'crimson',\n",
       " 'crimson',\n",
       " 'forestgreen',\n",
       " 'forestgreen',\n",
       " 'royalblue',\n",
       " 'crimson',\n",
       " 'crimson',\n",
       " 'royalblue',\n",
       " 'forestgreen',\n",
       " 'crimson',\n",
       " 'crimson',\n",
       " 'forestgreen',\n",
       " 'crimson',\n",
       " 'forestgreen',\n",
       " 'crimson',\n",
       " 'crimson',\n",
       " 'crimson',\n",
       " 'crimson',\n",
       " 'crimson',\n",
       " 'crimson',\n",
       " 'crimson',\n",
       " 'crimson',\n",
       " 'crimson',\n",
       " 'crimson',\n",
       " 'crimson',\n",
       " 'forestgreen',\n",
       " 'crimson',\n",
       " 'crimson',\n",
       " 'crimson',\n",
       " 'forestgreen',\n",
       " 'crimson',\n",
       " 'crimson',\n",
       " 'crimson',\n",
       " 'crimson',\n",
       " 'crimson',\n",
       " 'crimson',\n",
       " 'forestgreen',\n",
       " 'royalblue',\n",
       " 'crimson',\n",
       " 'forestgreen',\n",
       " 'forestgreen',\n",
       " 'crimson',\n",
       " 'forestgreen',\n",
       " 'crimson',\n",
       " 'crimson',\n",
       " 'forestgreen',\n",
       " 'crimson',\n",
       " 'crimson',\n",
       " 'crimson',\n",
       " 'crimson',\n",
       " 'forestgreen',\n",
       " 'crimson',\n",
       " 'crimson',\n",
       " 'forestgreen',\n",
       " 'crimson',\n",
       " 'crimson',\n",
       " 'crimson',\n",
       " 'crimson',\n",
       " 'crimson',\n",
       " 'forestgreen',\n",
       " 'forestgreen',\n",
       " 'forestgreen',\n",
       " 'crimson',\n",
       " 'crimson',\n",
       " 'crimson',\n",
       " 'crimson',\n",
       " 'orange',\n",
       " 'crimson',\n",
       " 'crimson',\n",
       " 'forestgreen',\n",
       " 'crimson',\n",
       " 'crimson',\n",
       " 'crimson',\n",
       " 'crimson',\n",
       " 'crimson',\n",
       " 'crimson',\n",
       " 'forestgreen',\n",
       " 'forestgreen',\n",
       " 'crimson',\n",
       " 'crimson',\n",
       " 'crimson',\n",
       " 'crimson',\n",
       " 'crimson',\n",
       " 'crimson',\n",
       " 'crimson',\n",
       " 'crimson',\n",
       " 'crimson',\n",
       " 'royalblue',\n",
       " 'crimson',\n",
       " 'crimson',\n",
       " 'crimson',\n",
       " 'crimson',\n",
       " 'forestgreen',\n",
       " 'crimson',\n",
       " 'orange',\n",
       " 'royalblue',\n",
       " 'crimson',\n",
       " 'crimson',\n",
       " 'crimson',\n",
       " 'forestgreen',\n",
       " 'crimson',\n",
       " 'crimson',\n",
       " 'crimson',\n",
       " 'crimson',\n",
       " 'crimson',\n",
       " 'forestgreen',\n",
       " 'forestgreen',\n",
       " 'crimson',\n",
       " 'royalblue',\n",
       " 'crimson',\n",
       " 'forestgreen',\n",
       " 'forestgreen',\n",
       " 'forestgreen',\n",
       " 'crimson',\n",
       " 'forestgreen',\n",
       " 'forestgreen',\n",
       " 'crimson',\n",
       " 'forestgreen',\n",
       " 'crimson',\n",
       " 'crimson',\n",
       " 'crimson',\n",
       " 'forestgreen',\n",
       " 'crimson',\n",
       " 'crimson',\n",
       " 'crimson',\n",
       " 'crimson',\n",
       " 'forestgreen',\n",
       " 'crimson',\n",
       " 'crimson',\n",
       " 'crimson',\n",
       " 'forestgreen',\n",
       " 'crimson',\n",
       " 'crimson',\n",
       " 'crimson',\n",
       " 'royalblue',\n",
       " 'crimson',\n",
       " 'crimson',\n",
       " 'crimson',\n",
       " 'crimson',\n",
       " 'crimson',\n",
       " 'crimson',\n",
       " 'forestgreen',\n",
       " 'crimson',\n",
       " 'crimson',\n",
       " 'forestgreen',\n",
       " 'crimson',\n",
       " 'crimson',\n",
       " 'crimson',\n",
       " 'crimson',\n",
       " 'crimson',\n",
       " 'royalblue',\n",
       " 'crimson',\n",
       " 'crimson',\n",
       " 'crimson',\n",
       " 'crimson',\n",
       " 'crimson',\n",
       " 'crimson',\n",
       " 'forestgreen',\n",
       " 'crimson',\n",
       " 'crimson',\n",
       " 'royalblue',\n",
       " 'crimson',\n",
       " 'crimson',\n",
       " 'crimson',\n",
       " 'forestgreen',\n",
       " 'forestgreen',\n",
       " 'forestgreen',\n",
       " 'crimson',\n",
       " 'crimson',\n",
       " 'forestgreen',\n",
       " 'crimson',\n",
       " 'crimson',\n",
       " 'forestgreen',\n",
       " 'royalblue',\n",
       " 'crimson',\n",
       " 'crimson',\n",
       " 'crimson',\n",
       " 'crimson',\n",
       " 'crimson',\n",
       " 'crimson',\n",
       " 'crimson',\n",
       " 'crimson',\n",
       " 'forestgreen',\n",
       " 'forestgreen',\n",
       " 'crimson',\n",
       " 'forestgreen',\n",
       " 'crimson',\n",
       " 'crimson',\n",
       " 'forestgreen',\n",
       " 'crimson',\n",
       " 'crimson',\n",
       " 'crimson',\n",
       " 'forestgreen',\n",
       " 'crimson',\n",
       " 'crimson',\n",
       " 'forestgreen',\n",
       " 'crimson',\n",
       " 'forestgreen',\n",
       " 'crimson',\n",
       " 'crimson',\n",
       " 'crimson',\n",
       " 'forestgreen',\n",
       " 'crimson',\n",
       " 'crimson',\n",
       " 'crimson']"
      ]
     },
     "execution_count": 83,
     "metadata": {},
     "output_type": "execute_result"
    }
   ],
   "source": [
    "y_colors = [dict_colors[yi] for yi in res_tsne[\"cluster\"]]\n",
    "y_colors"
   ]
  },
  {
   "cell_type": "code",
   "execution_count": 85,
   "id": "6026be4f",
   "metadata": {},
   "outputs": [
    {
     "data": {
      "image/png": "[encoded data removed]",
      "text/plain": [
       "<Figure size 720x720 with 1 Axes>"
      ]
     },
     "metadata": {
      "needs_background": "light"
     },
     "output_type": "display_data"
    }
   ],
   "source": [
    "fig = plt.figure(figsize=(10,10))\n",
    "ax = fig.add_subplot(projection='3d')\n",
    "ax.scatter(res_tsne['DIM_0'], res_tsne['DIM_1'], res_tsne['DIM_2'], marker='o', s=30, edgecolor='k', facecolor=y_colors)\n",
    "ax.set_xlabel('DIM1')\n",
    "ax.set_ylabel('DIM2')\n",
    "ax.set_zlabel('DIM3')\n",
    "ax.set_title(\"T-SNE init:PCA \")\n",
    "ax.view_init(elev=15, azim=45)"
   ]
  },
  {
   "cell_type": "code",
   "execution_count": 71,
   "id": "d6bf8bf1",
   "metadata": {},
   "outputs": [
    {
     "data": {
      "text/plain": [
       "-2.6"
      ]
     },
     "execution_count": 71,
     "metadata": {},
     "output_type": "execute_result"
    }
   ],
   "source": [
    "round(kmeans.score(X, Y),2)"
   ]
  },
  {
   "cell_type": "markdown",
   "id": "43e62974",
   "metadata": {},
   "source": [
    "Clustering is not classification.\n",
    "\n",
    "Note that the 'y' argument of fit is ignored. Kmeans will always predict 0,1,...,k-1. So it will never make a correct label on this data set, because it doesn't even know what a label is supposed to look like. It really doesn't work to transfer what you did in classification to clustering. You need to relearn this from scratch. Different workflow, different evaluation."
   ]
  },
  {
   "cell_type": "markdown",
   "id": "499cd9b7",
   "metadata": {},
   "source": [
    "<div style=\"display: flex; background-color: Blue; padding: 15px;\" >\n",
    "\n",
    "## Annexes\n",
    "</div>"
   ]
  }
 ],
 "metadata": {
  "kernelspec": {
   "display_name": "Python 3",
   "language": "python",
   "name": "python3"
  },
  "language_info": {
   "codemirror_mode": {
    "name": "ipython",
    "version": 3
   },
   "file_extension": ".py",
   "mimetype": "text/x-python",
   "name": "python",
   "nbconvert_exporter": "python",
   "pygments_lexer": "ipython3",
   "version": "3.9.10"
  }
 },
 "nbformat": 4,
 "nbformat_minor": 5
}
